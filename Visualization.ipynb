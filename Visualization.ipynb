{
  "nbformat": 4,
  "nbformat_minor": 0,
  "metadata": {
    "colab": {
      "name": "Untitled5.ipynb",
      "provenance": [],
      "include_colab_link": true
    },
    "kernelspec": {
      "name": "python3",
      "display_name": "Python 3"
    },
    "language_info": {
      "name": "python"
    }
  },
  "cells": [
    {
      "cell_type": "markdown",
      "metadata": {
        "id": "view-in-github",
        "colab_type": "text"
      },
      "source": [
        "<a href=\"https://colab.research.google.com/github/Nourankh20/Data-Visualization/blob/nouran/Visualization.ipynb\" target=\"_parent\"><img src=\"https://colab.research.google.com/assets/colab-badge.svg\" alt=\"Open In Colab\"/></a>"
      ]
    },
    {
      "cell_type": "code",
      "metadata": {
        "id": "xRnIzd1gFC-i"
      },
      "source": [
        "import pandas as pd\n",
        "import numpy as np\n",
        "def get_path(dataset_name,env_name='colab'):\n",
        "    \"\"\"\n",
        "    This function is used to return the path of the dataset you want to use. \n",
        "    \n",
        "    @params:\n",
        "    dataset_name: the name of the dataset. \n",
        "    env_name: it has two values either local, or colab the default is colab\n",
        "    \"\"\"\n",
        "    prefix = 'https://raw.githubusercontent.com/Nourankh20/Data-Visualization/main/datasets/'\n",
        "    if env_name == 'colab':\n",
        "        return prefix+dataset_name\n",
        "    else:\n",
        "        return f'../datasets/{dataset_name}'\n"
      ],
      "execution_count": 430,
      "outputs": []
    },
    {
      "cell_type": "code",
      "source": [
        "athlete_events_df =  pd.read_csv(get_path('athlete_events.csv'))"
      ],
      "metadata": {
        "id": "p58-Y-FZUPuN"
      },
      "execution_count": 431,
      "outputs": []
    },
    {
      "cell_type": "code",
      "source": [
        "athlete_events_df.head()"
      ],
      "metadata": {
        "id": "dIPiwTowWNWp",
        "outputId": "94b193f9-1861-4945-dd36-d8835641f4c1",
        "colab": {
          "base_uri": "https://localhost:8080/",
          "height": 206
        }
      },
      "execution_count": 432,
      "outputs": [
        {
          "output_type": "execute_result",
          "data": {
            "text/html": [
              "<div>\n",
              "<style scoped>\n",
              "    .dataframe tbody tr th:only-of-type {\n",
              "        vertical-align: middle;\n",
              "    }\n",
              "\n",
              "    .dataframe tbody tr th {\n",
              "        vertical-align: top;\n",
              "    }\n",
              "\n",
              "    .dataframe thead th {\n",
              "        text-align: right;\n",
              "    }\n",
              "</style>\n",
              "<table border=\"1\" class=\"dataframe\">\n",
              "  <thead>\n",
              "    <tr style=\"text-align: right;\">\n",
              "      <th></th>\n",
              "      <th>ID</th>\n",
              "      <th>Name</th>\n",
              "      <th>Sex</th>\n",
              "      <th>Age</th>\n",
              "      <th>Height</th>\n",
              "      <th>Weight</th>\n",
              "      <th>Team</th>\n",
              "      <th>NOC</th>\n",
              "      <th>Games</th>\n",
              "      <th>Year</th>\n",
              "      <th>Season</th>\n",
              "      <th>City</th>\n",
              "      <th>Sport</th>\n",
              "      <th>Event</th>\n",
              "      <th>Medal</th>\n",
              "    </tr>\n",
              "  </thead>\n",
              "  <tbody>\n",
              "    <tr>\n",
              "      <th>0</th>\n",
              "      <td>1</td>\n",
              "      <td>A Dijiang</td>\n",
              "      <td>M</td>\n",
              "      <td>24.0</td>\n",
              "      <td>180.0</td>\n",
              "      <td>80.0</td>\n",
              "      <td>China</td>\n",
              "      <td>CHN</td>\n",
              "      <td>1992 Summer</td>\n",
              "      <td>1992</td>\n",
              "      <td>Summer</td>\n",
              "      <td>Barcelona</td>\n",
              "      <td>Basketball</td>\n",
              "      <td>Basketball Men's Basketball</td>\n",
              "      <td>NaN</td>\n",
              "    </tr>\n",
              "    <tr>\n",
              "      <th>1</th>\n",
              "      <td>2</td>\n",
              "      <td>A Lamusi</td>\n",
              "      <td>M</td>\n",
              "      <td>23.0</td>\n",
              "      <td>170.0</td>\n",
              "      <td>60.0</td>\n",
              "      <td>China</td>\n",
              "      <td>CHN</td>\n",
              "      <td>2012 Summer</td>\n",
              "      <td>2012</td>\n",
              "      <td>Summer</td>\n",
              "      <td>London</td>\n",
              "      <td>Judo</td>\n",
              "      <td>Judo Men's Extra-Lightweight</td>\n",
              "      <td>NaN</td>\n",
              "    </tr>\n",
              "    <tr>\n",
              "      <th>2</th>\n",
              "      <td>3</td>\n",
              "      <td>Gunnar Nielsen Aaby</td>\n",
              "      <td>M</td>\n",
              "      <td>24.0</td>\n",
              "      <td>NaN</td>\n",
              "      <td>NaN</td>\n",
              "      <td>Denmark</td>\n",
              "      <td>DEN</td>\n",
              "      <td>1920 Summer</td>\n",
              "      <td>1920</td>\n",
              "      <td>Summer</td>\n",
              "      <td>Antwerpen</td>\n",
              "      <td>Football</td>\n",
              "      <td>Football Men's Football</td>\n",
              "      <td>NaN</td>\n",
              "    </tr>\n",
              "    <tr>\n",
              "      <th>3</th>\n",
              "      <td>4</td>\n",
              "      <td>Edgar Lindenau Aabye</td>\n",
              "      <td>M</td>\n",
              "      <td>34.0</td>\n",
              "      <td>NaN</td>\n",
              "      <td>NaN</td>\n",
              "      <td>Denmark/Sweden</td>\n",
              "      <td>DEN</td>\n",
              "      <td>1900 Summer</td>\n",
              "      <td>1900</td>\n",
              "      <td>Summer</td>\n",
              "      <td>Paris</td>\n",
              "      <td>Tug-Of-War</td>\n",
              "      <td>Tug-Of-War Men's Tug-Of-War</td>\n",
              "      <td>Gold</td>\n",
              "    </tr>\n",
              "    <tr>\n",
              "      <th>4</th>\n",
              "      <td>5</td>\n",
              "      <td>Christine Jacoba Aaftink</td>\n",
              "      <td>F</td>\n",
              "      <td>21.0</td>\n",
              "      <td>185.0</td>\n",
              "      <td>82.0</td>\n",
              "      <td>Netherlands</td>\n",
              "      <td>NED</td>\n",
              "      <td>1988 Winter</td>\n",
              "      <td>1988</td>\n",
              "      <td>Winter</td>\n",
              "      <td>Calgary</td>\n",
              "      <td>Speed Skating</td>\n",
              "      <td>Speed Skating Women's 500 metres</td>\n",
              "      <td>NaN</td>\n",
              "    </tr>\n",
              "  </tbody>\n",
              "</table>\n",
              "</div>"
            ],
            "text/plain": [
              "   ID                      Name  ...                             Event  Medal\n",
              "0   1                 A Dijiang  ...       Basketball Men's Basketball    NaN\n",
              "1   2                  A Lamusi  ...      Judo Men's Extra-Lightweight    NaN\n",
              "2   3       Gunnar Nielsen Aaby  ...           Football Men's Football    NaN\n",
              "3   4      Edgar Lindenau Aabye  ...       Tug-Of-War Men's Tug-Of-War   Gold\n",
              "4   5  Christine Jacoba Aaftink  ...  Speed Skating Women's 500 metres    NaN\n",
              "\n",
              "[5 rows x 15 columns]"
            ]
          },
          "metadata": {},
          "execution_count": 432
        }
      ]
    },
    {
      "cell_type": "code",
      "source": [
        "noc_regions = pd.read_csv(get_path('noc_regions.csv'))"
      ],
      "metadata": {
        "id": "UxwV5bglXuDn"
      },
      "execution_count": 433,
      "outputs": []
    },
    {
      "cell_type": "code",
      "source": [
        "noc_regions.head()"
      ],
      "metadata": {
        "id": "KFiK0B7eYxfc",
        "outputId": "ae295158-8c64-4ab5-f53c-1201405cc2f1",
        "colab": {
          "base_uri": "https://localhost:8080/",
          "height": 206
        }
      },
      "execution_count": 434,
      "outputs": [
        {
          "output_type": "execute_result",
          "data": {
            "text/html": [
              "<div>\n",
              "<style scoped>\n",
              "    .dataframe tbody tr th:only-of-type {\n",
              "        vertical-align: middle;\n",
              "    }\n",
              "\n",
              "    .dataframe tbody tr th {\n",
              "        vertical-align: top;\n",
              "    }\n",
              "\n",
              "    .dataframe thead th {\n",
              "        text-align: right;\n",
              "    }\n",
              "</style>\n",
              "<table border=\"1\" class=\"dataframe\">\n",
              "  <thead>\n",
              "    <tr style=\"text-align: right;\">\n",
              "      <th></th>\n",
              "      <th>NOC</th>\n",
              "      <th>region</th>\n",
              "      <th>notes</th>\n",
              "    </tr>\n",
              "  </thead>\n",
              "  <tbody>\n",
              "    <tr>\n",
              "      <th>0</th>\n",
              "      <td>AFG</td>\n",
              "      <td>Afghanistan</td>\n",
              "      <td>NaN</td>\n",
              "    </tr>\n",
              "    <tr>\n",
              "      <th>1</th>\n",
              "      <td>AHO</td>\n",
              "      <td>Curacao</td>\n",
              "      <td>Netherlands Antilles</td>\n",
              "    </tr>\n",
              "    <tr>\n",
              "      <th>2</th>\n",
              "      <td>ALB</td>\n",
              "      <td>Albania</td>\n",
              "      <td>NaN</td>\n",
              "    </tr>\n",
              "    <tr>\n",
              "      <th>3</th>\n",
              "      <td>ALG</td>\n",
              "      <td>Algeria</td>\n",
              "      <td>NaN</td>\n",
              "    </tr>\n",
              "    <tr>\n",
              "      <th>4</th>\n",
              "      <td>AND</td>\n",
              "      <td>Andorra</td>\n",
              "      <td>NaN</td>\n",
              "    </tr>\n",
              "  </tbody>\n",
              "</table>\n",
              "</div>"
            ],
            "text/plain": [
              "   NOC       region                 notes\n",
              "0  AFG  Afghanistan                   NaN\n",
              "1  AHO      Curacao  Netherlands Antilles\n",
              "2  ALB      Albania                   NaN\n",
              "3  ALG      Algeria                   NaN\n",
              "4  AND      Andorra                   NaN"
            ]
          },
          "metadata": {},
          "execution_count": 434
        }
      ]
    },
    {
      "cell_type": "markdown",
      "source": [
        "Merging the 2 datasets into one dataset called df"
      ],
      "metadata": {
        "id": "rFOL3xwXul1-"
      }
    },
    {
      "cell_type": "code",
      "source": [
        "df = pd.merge(athlete_events_df,noc_regions,left_on='NOC',right_on='NOC')"
      ],
      "metadata": {
        "id": "mUOOq7X0aYRv"
      },
      "execution_count": 435,
      "outputs": []
    },
    {
      "cell_type": "code",
      "source": [
        "df.head()\n",
        "\n",
        "df = df.drop_duplicates()\n",
        "df.head()"
      ],
      "metadata": {
        "id": "JQSNROd2dMH5",
        "outputId": "1f7da941-aee3-428a-ccf3-8bf448dea302",
        "colab": {
          "base_uri": "https://localhost:8080/",
          "height": 206
        }
      },
      "execution_count": 436,
      "outputs": [
        {
          "output_type": "execute_result",
          "data": {
            "text/html": [
              "<div>\n",
              "<style scoped>\n",
              "    .dataframe tbody tr th:only-of-type {\n",
              "        vertical-align: middle;\n",
              "    }\n",
              "\n",
              "    .dataframe tbody tr th {\n",
              "        vertical-align: top;\n",
              "    }\n",
              "\n",
              "    .dataframe thead th {\n",
              "        text-align: right;\n",
              "    }\n",
              "</style>\n",
              "<table border=\"1\" class=\"dataframe\">\n",
              "  <thead>\n",
              "    <tr style=\"text-align: right;\">\n",
              "      <th></th>\n",
              "      <th>ID</th>\n",
              "      <th>Name</th>\n",
              "      <th>Sex</th>\n",
              "      <th>Age</th>\n",
              "      <th>Height</th>\n",
              "      <th>Weight</th>\n",
              "      <th>Team</th>\n",
              "      <th>NOC</th>\n",
              "      <th>Games</th>\n",
              "      <th>Year</th>\n",
              "      <th>Season</th>\n",
              "      <th>City</th>\n",
              "      <th>Sport</th>\n",
              "      <th>Event</th>\n",
              "      <th>Medal</th>\n",
              "      <th>region</th>\n",
              "      <th>notes</th>\n",
              "    </tr>\n",
              "  </thead>\n",
              "  <tbody>\n",
              "    <tr>\n",
              "      <th>0</th>\n",
              "      <td>1</td>\n",
              "      <td>A Dijiang</td>\n",
              "      <td>M</td>\n",
              "      <td>24.0</td>\n",
              "      <td>180.0</td>\n",
              "      <td>80.0</td>\n",
              "      <td>China</td>\n",
              "      <td>CHN</td>\n",
              "      <td>1992 Summer</td>\n",
              "      <td>1992</td>\n",
              "      <td>Summer</td>\n",
              "      <td>Barcelona</td>\n",
              "      <td>Basketball</td>\n",
              "      <td>Basketball Men's Basketball</td>\n",
              "      <td>NaN</td>\n",
              "      <td>China</td>\n",
              "      <td>NaN</td>\n",
              "    </tr>\n",
              "    <tr>\n",
              "      <th>1</th>\n",
              "      <td>2</td>\n",
              "      <td>A Lamusi</td>\n",
              "      <td>M</td>\n",
              "      <td>23.0</td>\n",
              "      <td>170.0</td>\n",
              "      <td>60.0</td>\n",
              "      <td>China</td>\n",
              "      <td>CHN</td>\n",
              "      <td>2012 Summer</td>\n",
              "      <td>2012</td>\n",
              "      <td>Summer</td>\n",
              "      <td>London</td>\n",
              "      <td>Judo</td>\n",
              "      <td>Judo Men's Extra-Lightweight</td>\n",
              "      <td>NaN</td>\n",
              "      <td>China</td>\n",
              "      <td>NaN</td>\n",
              "    </tr>\n",
              "    <tr>\n",
              "      <th>2</th>\n",
              "      <td>602</td>\n",
              "      <td>Abudoureheman</td>\n",
              "      <td>M</td>\n",
              "      <td>22.0</td>\n",
              "      <td>182.0</td>\n",
              "      <td>75.0</td>\n",
              "      <td>China</td>\n",
              "      <td>CHN</td>\n",
              "      <td>2000 Summer</td>\n",
              "      <td>2000</td>\n",
              "      <td>Summer</td>\n",
              "      <td>Sydney</td>\n",
              "      <td>Boxing</td>\n",
              "      <td>Boxing Men's Middleweight</td>\n",
              "      <td>NaN</td>\n",
              "      <td>China</td>\n",
              "      <td>NaN</td>\n",
              "    </tr>\n",
              "    <tr>\n",
              "      <th>3</th>\n",
              "      <td>1463</td>\n",
              "      <td>Ai Linuer</td>\n",
              "      <td>M</td>\n",
              "      <td>25.0</td>\n",
              "      <td>160.0</td>\n",
              "      <td>62.0</td>\n",
              "      <td>China</td>\n",
              "      <td>CHN</td>\n",
              "      <td>2004 Summer</td>\n",
              "      <td>2004</td>\n",
              "      <td>Summer</td>\n",
              "      <td>Athina</td>\n",
              "      <td>Wrestling</td>\n",
              "      <td>Wrestling Men's Lightweight, Greco-Roman</td>\n",
              "      <td>NaN</td>\n",
              "      <td>China</td>\n",
              "      <td>NaN</td>\n",
              "    </tr>\n",
              "    <tr>\n",
              "      <th>4</th>\n",
              "      <td>1464</td>\n",
              "      <td>Ai Yanhan</td>\n",
              "      <td>F</td>\n",
              "      <td>14.0</td>\n",
              "      <td>168.0</td>\n",
              "      <td>54.0</td>\n",
              "      <td>China</td>\n",
              "      <td>CHN</td>\n",
              "      <td>2016 Summer</td>\n",
              "      <td>2016</td>\n",
              "      <td>Summer</td>\n",
              "      <td>Rio de Janeiro</td>\n",
              "      <td>Swimming</td>\n",
              "      <td>Swimming Women's 200 metres Freestyle</td>\n",
              "      <td>NaN</td>\n",
              "      <td>China</td>\n",
              "      <td>NaN</td>\n",
              "    </tr>\n",
              "  </tbody>\n",
              "</table>\n",
              "</div>"
            ],
            "text/plain": [
              "     ID           Name Sex  ...  Medal  region  notes\n",
              "0     1      A Dijiang   M  ...    NaN   China    NaN\n",
              "1     2       A Lamusi   M  ...    NaN   China    NaN\n",
              "2   602  Abudoureheman   M  ...    NaN   China    NaN\n",
              "3  1463      Ai Linuer   M  ...    NaN   China    NaN\n",
              "4  1464      Ai Yanhan   F  ...    NaN   China    NaN\n",
              "\n",
              "[5 rows x 17 columns]"
            ]
          },
          "metadata": {},
          "execution_count": 436
        }
      ]
    },
    {
      "cell_type": "code",
      "source": [
        "null_values_percentages = df.isna().sum()/len(df) *100\n",
        "null_values_percentages"
      ],
      "metadata": {
        "id": "lRHsFqoAdMy6",
        "outputId": "590427d8-88cb-4a84-f942-e7e1fdbf03ad",
        "colab": {
          "base_uri": "https://localhost:8080/"
        }
      },
      "execution_count": 437,
      "outputs": [
        {
          "output_type": "execute_result",
          "data": {
            "text/plain": [
              "ID         0.000000\n",
              "Name       0.000000\n",
              "Sex        0.000000\n",
              "Age        3.453460\n",
              "Height    21.800269\n",
              "Weight    22.806646\n",
              "Team       0.000000\n",
              "NOC        0.000000\n",
              "Games      0.000000\n",
              "Year       0.000000\n",
              "Season     0.000000\n",
              "City       0.000000\n",
              "Sport      0.000000\n",
              "Event      0.000000\n",
              "Medal     85.239177\n",
              "region     0.007796\n",
              "notes     98.130907\n",
              "dtype: float64"
            ]
          },
          "metadata": {},
          "execution_count": 437
        }
      ]
    },
    {
      "cell_type": "markdown",
      "source": [
        "# Dealing with outliers in Height\n"
      ],
      "metadata": {
        "id": "XLLuKL3Xu1pc"
      }
    },
    {
      "cell_type": "code",
      "source": [
        "import seaborn as sns\n",
        "\n",
        "Females= df[df['Sex']=='F']\n",
        "Males=df[df['Sex']=='M']\n",
        "\n",
        "\n",
        "sports_height_females = Females.groupby(Females['Sport'])['Height'].mean()\n",
        "sports_height_males = Males.groupby(Males['Sport'])['Height'].mean()\n",
        "\n",
        "\n",
        "dropped_null_values_height_females = sports_height_females.dropna(how='all')\n",
        "dropped_null_values_height_females.values\n",
        "\n",
        "dropped_null_values_height_males = sports_height_males.dropna(how='all')\n",
        "dropped_null_values_height_males\n",
        "\n",
        "\n",
        "ay = sns.boxplot(x=dropped_null_values_height_females)\n"
      ],
      "metadata": {
        "id": "HR037_y4XEW4",
        "outputId": "bc0aeb73-b461-49a6-98e2-9e8ae2a09fa4",
        "colab": {
          "base_uri": "https://localhost:8080/",
          "height": 285
        }
      },
      "execution_count": 438,
      "outputs": [
        {
          "output_type": "display_data",
          "data": {
            "image/png": "[encoded data removed]",
            "text/plain": [
              "<Figure size 432x288 with 1 Axes>"
            ]
          },
          "metadata": {}
        }
      ]
    },
    {
      "cell_type": "code",
      "source": [
        "ay = sns.boxplot(x=dropped_null_values_height_males)\n"
      ],
      "metadata": {
        "id": "RO3X3ZV_hDtJ",
        "outputId": "ff84258e-012f-4bb6-a39c-061adeb0c36d",
        "colab": {
          "base_uri": "https://localhost:8080/",
          "height": 285
        }
      },
      "execution_count": 439,
      "outputs": [
        {
          "output_type": "display_data",
          "data": {
            "image/png": "[encoded data removed]",
            "text/plain": [
              "<Figure size 432x288 with 1 Axes>"
            ]
          },
          "metadata": {}
        }
      ]
    },
    {
      "cell_type": "code",
      "source": [
        "#Removed outliers in female height\n",
        "\n",
        "Q1 = np.percentile(dropped_null_values_height_females.values, 25,interpolation = 'midpoint')\n",
        "Q3 = np.percentile(dropped_null_values_height_females.values, 75,interpolation = 'midpoint')\n",
        "IQR = Q3 - Q1\n",
        "\n",
        "\n",
        "Females = Females[~(Females['Height'] >= (Q3+1.5*IQR))]\n",
        "Females = Females[~(Females['Height'] <= (Q1-1.5*IQR))]\n",
        "\n",
        "\n",
        "\n",
        "\n",
        "#Removed outliers in male height\n",
        "\n",
        "Q1 = np.percentile(dropped_null_values_height_males.values, 25,interpolation = 'midpoint')\n",
        "Q3 = np.percentile(dropped_null_values_height_males.values, 75,interpolation = 'midpoint')\n",
        "IQR = Q3 - Q1\n",
        "\n",
        "Males = Males[~(Males['Height'] >= (Q3+1.5*IQR))]\n",
        "Males = Males[~(Males['Height'] <= (Q1-1.5*IQR))]\n",
        "\n",
        "\n"
      ],
      "metadata": {
        "id": "r0_VCUXxhrlT"
      },
      "execution_count": 440,
      "outputs": []
    },
    {
      "cell_type": "code",
      "source": [
        "ax = sns.boxplot(x=Females['Height'])\n"
      ],
      "metadata": {
        "id": "HZPVk5IpuxyE",
        "outputId": "4a9dc266-f66c-48fe-8743-88fd832a9be0",
        "colab": {
          "base_uri": "https://localhost:8080/",
          "height": 285
        }
      },
      "execution_count": 441,
      "outputs": [
        {
          "output_type": "display_data",
          "data": {
            "image/png": "[encoded data removed]",
            "text/plain": [
              "<Figure size 432x288 with 1 Axes>"
            ]
          },
          "metadata": {}
        }
      ]
    },
    {
      "cell_type": "code",
      "source": [
        "ax = sns.boxplot(x=Males['Height'])\n"
      ],
      "metadata": {
        "id": "eNNlDlE5t0eo",
        "outputId": "f5dbc343-ac30-4c12-f546-5ebee88c642b",
        "colab": {
          "base_uri": "https://localhost:8080/",
          "height": 285
        }
      },
      "execution_count": 442,
      "outputs": [
        {
          "output_type": "display_data",
          "data": {
            "image/png": "[encoded data removed]",
            "text/plain": [
              "<Figure size 432x288 with 1 Axes>"
            ]
          },
          "metadata": {}
        }
      ]
    },
    {
      "cell_type": "code",
      "source": [
        "\n",
        "sports_weight_females = Females.groupby(Females['Sport'])['Weight'].mean()\n",
        "sports_weight_males = Males.groupby(Males['Sport'])['Weight'].mean()\n",
        "\n",
        "\n",
        "dropped_null_values_weight_females = sports_weight_females.dropna(how='all')\n",
        "dropped_null_values_weight_females.values\n",
        "\n",
        "dropped_null_values_weight_males = sports_weight_males.dropna(how='all')\n",
        "dropped_null_values_weight_males\n",
        "\n",
        "\n",
        "ay = sns.boxplot(x=dropped_null_values_weight_females)\n",
        "\n",
        "\n"
      ],
      "metadata": {
        "id": "Y1_585VVZit_",
        "outputId": "b640f058-9b34-4c61-c6fc-c397765ff673",
        "colab": {
          "base_uri": "https://localhost:8080/",
          "height": 285
        }
      },
      "execution_count": 443,
      "outputs": [
        {
          "output_type": "display_data",
          "data": {
            "image/png": "[encoded data removed]",
            "text/plain": [
              "<Figure size 432x288 with 1 Axes>"
            ]
          },
          "metadata": {}
        }
      ]
    },
    {
      "cell_type": "code",
      "source": [
        "ay = sns.boxplot(x=dropped_null_values_weight_males)\n",
        "\n"
      ],
      "metadata": {
        "id": "n1osDP3AZl9E",
        "outputId": "a18f6744-abb6-4a69-a9a5-e159b3496905",
        "colab": {
          "base_uri": "https://localhost:8080/",
          "height": 285
        }
      },
      "execution_count": 444,
      "outputs": [
        {
          "output_type": "display_data",
          "data": {
            "image/png": "[encoded data removed]",
            "text/plain": [
              "<Figure size 432x288 with 1 Axes>"
            ]
          },
          "metadata": {}
        }
      ]
    },
    {
      "cell_type": "code",
      "source": [
        "\n",
        "#Removed outliers in female weight\n",
        "\n",
        "Q1 = np.percentile(dropped_null_values_weight_females.values, 25,interpolation = 'midpoint')\n",
        "Q3 = np.percentile(dropped_null_values_weight_females.values, 75,interpolation = 'midpoint')\n",
        "IQR = Q3 - Q1\n",
        "\n",
        "Females = Females[~(Females['Weight'] >= (Q3+1.5*IQR))]\n",
        "Females = Females[~(Females['Weight'] <= (Q1-1.5*IQR))]\n",
        "\n",
        "\n",
        "#Removed outliers in male weight\n",
        "\n",
        "Q1 = np.percentile(dropped_null_values_weight_males.values, 25,interpolation = 'midpoint')\n",
        "Q3 = np.percentile(dropped_null_values_weight_males.values, 75,interpolation = 'midpoint')\n",
        "IQR = Q3 - Q1\n",
        "\n",
        "Males = Males[~(Males['Weight'] >= (Q3+1.5*IQR))]\n",
        "Males = Males[~(Males['Weight'] <= (Q1-1.5*IQR))]\n",
        "\n",
        "ay = sns.boxplot(x=Females['Weight'])\n",
        "\n"
      ],
      "metadata": {
        "id": "W1CZjHwnswHW",
        "outputId": "91fcebf7-6441-48d5-8a93-c6db0f0fd6b3",
        "colab": {
          "base_uri": "https://localhost:8080/",
          "height": 285
        }
      },
      "execution_count": 445,
      "outputs": [
        {
          "output_type": "display_data",
          "data": {
            "image/png": "[encoded data removed]",
            "text/plain": [
              "<Figure size 432x288 with 1 Axes>"
            ]
          },
          "metadata": {}
        }
      ]
    },
    {
      "cell_type": "code",
      "source": [
        "ay = sns.boxplot(x=Males['Weight'])\n"
      ],
      "metadata": {
        "id": "K8I7nNVfvTnj",
        "outputId": "71ce8f2e-af61-4e56-e55e-25e8fc7a2ca8",
        "colab": {
          "base_uri": "https://localhost:8080/",
          "height": 285
        }
      },
      "execution_count": 446,
      "outputs": [
        {
          "output_type": "display_data",
          "data": {
            "image/png": "[encoded data removed]",
            "text/plain": [
              "<Figure size 432x288 with 1 Axes>"
            ]
          },
          "metadata": {}
        }
      ]
    },
    {
      "cell_type": "code",
      "source": [
        "# #to get the mean of data for the nan data we separated the data by region and sex of athlete\n",
        "\n",
        "# Females= df[df['Sex']=='F']\n",
        "# Males=df[df['Sex']=='M']\n",
        "\n",
        "# # Females = Females.groupby(Females['Sport'])\n",
        "\n",
        "# Females.describe()\n",
        "Males.head()"
      ],
      "metadata": {
        "id": "Oo-mM1VHufxN",
        "outputId": "51045517-e01e-4ec0-bd28-3ecbee571a56",
        "colab": {
          "base_uri": "https://localhost:8080/",
          "height": 293
        }
      },
      "execution_count": 448,
      "outputs": [
        {
          "output_type": "execute_result",
          "data": {
            "text/html": [
              "<div>\n",
              "<style scoped>\n",
              "    .dataframe tbody tr th:only-of-type {\n",
              "        vertical-align: middle;\n",
              "    }\n",
              "\n",
              "    .dataframe tbody tr th {\n",
              "        vertical-align: top;\n",
              "    }\n",
              "\n",
              "    .dataframe thead th {\n",
              "        text-align: right;\n",
              "    }\n",
              "</style>\n",
              "<table border=\"1\" class=\"dataframe\">\n",
              "  <thead>\n",
              "    <tr style=\"text-align: right;\">\n",
              "      <th></th>\n",
              "      <th>ID</th>\n",
              "      <th>Name</th>\n",
              "      <th>Sex</th>\n",
              "      <th>Age</th>\n",
              "      <th>Height</th>\n",
              "      <th>Weight</th>\n",
              "      <th>Team</th>\n",
              "      <th>NOC</th>\n",
              "      <th>Games</th>\n",
              "      <th>Year</th>\n",
              "      <th>Season</th>\n",
              "      <th>City</th>\n",
              "      <th>Sport</th>\n",
              "      <th>Event</th>\n",
              "      <th>Medal</th>\n",
              "      <th>region</th>\n",
              "      <th>notes</th>\n",
              "    </tr>\n",
              "  </thead>\n",
              "  <tbody>\n",
              "    <tr>\n",
              "      <th>216536</th>\n",
              "      <td>39920</td>\n",
              "      <td>Abdul Ghafoor</td>\n",
              "      <td>M</td>\n",
              "      <td>26.0</td>\n",
              "      <td>NaN</td>\n",
              "      <td>NaN</td>\n",
              "      <td>Afghanistan</td>\n",
              "      <td>AFG</td>\n",
              "      <td>1996 Summer</td>\n",
              "      <td>1996</td>\n",
              "      <td>Summer</td>\n",
              "      <td>Atlanta</td>\n",
              "      <td>Athletics</td>\n",
              "      <td>Athletics Men's 100 metres</td>\n",
              "      <td>NaN</td>\n",
              "      <td>Afghanistan</td>\n",
              "      <td>NaN</td>\n",
              "    </tr>\n",
              "    <tr>\n",
              "      <th>216537</th>\n",
              "      <td>39922</td>\n",
              "      <td>Abdul Ghafar Ghafoori</td>\n",
              "      <td>M</td>\n",
              "      <td>22.0</td>\n",
              "      <td>172.0</td>\n",
              "      <td>70.0</td>\n",
              "      <td>Afghanistan</td>\n",
              "      <td>AFG</td>\n",
              "      <td>1960 Summer</td>\n",
              "      <td>1960</td>\n",
              "      <td>Summer</td>\n",
              "      <td>Roma</td>\n",
              "      <td>Athletics</td>\n",
              "      <td>Athletics Men's 4 x 100 metres Relay</td>\n",
              "      <td>NaN</td>\n",
              "      <td>Afghanistan</td>\n",
              "      <td>NaN</td>\n",
              "    </tr>\n",
              "    <tr>\n",
              "      <th>216548</th>\n",
              "      <td>59161</td>\n",
              "      <td>Mohammad Mohammad Khan</td>\n",
              "      <td>M</td>\n",
              "      <td>25.0</td>\n",
              "      <td>NaN</td>\n",
              "      <td>NaN</td>\n",
              "      <td>Afghanistan</td>\n",
              "      <td>AFG</td>\n",
              "      <td>1936 Summer</td>\n",
              "      <td>1936</td>\n",
              "      <td>Summer</td>\n",
              "      <td>Berlin</td>\n",
              "      <td>Athletics</td>\n",
              "      <td>Athletics Men's 100 metres</td>\n",
              "      <td>NaN</td>\n",
              "      <td>Afghanistan</td>\n",
              "      <td>NaN</td>\n",
              "    </tr>\n",
              "    <tr>\n",
              "      <th>216549</th>\n",
              "      <td>59161</td>\n",
              "      <td>Mohammad Mohammad Khan</td>\n",
              "      <td>M</td>\n",
              "      <td>25.0</td>\n",
              "      <td>NaN</td>\n",
              "      <td>NaN</td>\n",
              "      <td>Afghanistan</td>\n",
              "      <td>AFG</td>\n",
              "      <td>1936 Summer</td>\n",
              "      <td>1936</td>\n",
              "      <td>Summer</td>\n",
              "      <td>Berlin</td>\n",
              "      <td>Athletics</td>\n",
              "      <td>Athletics Men's Long Jump</td>\n",
              "      <td>NaN</td>\n",
              "      <td>Afghanistan</td>\n",
              "      <td>NaN</td>\n",
              "    </tr>\n",
              "    <tr>\n",
              "      <th>216578</th>\n",
              "      <td>98340</td>\n",
              "      <td>Abdul Rahim</td>\n",
              "      <td>M</td>\n",
              "      <td>23.0</td>\n",
              "      <td>NaN</td>\n",
              "      <td>NaN</td>\n",
              "      <td>Afghanistan</td>\n",
              "      <td>AFG</td>\n",
              "      <td>1936 Summer</td>\n",
              "      <td>1936</td>\n",
              "      <td>Summer</td>\n",
              "      <td>Berlin</td>\n",
              "      <td>Athletics</td>\n",
              "      <td>Athletics Men's Shot Put</td>\n",
              "      <td>NaN</td>\n",
              "      <td>Afghanistan</td>\n",
              "      <td>NaN</td>\n",
              "    </tr>\n",
              "  </tbody>\n",
              "</table>\n",
              "</div>"
            ],
            "text/plain": [
              "           ID                    Name Sex  ...  Medal       region  notes\n",
              "216536  39920           Abdul Ghafoor   M  ...    NaN  Afghanistan    NaN\n",
              "216537  39922   Abdul Ghafar Ghafoori   M  ...    NaN  Afghanistan    NaN\n",
              "216548  59161  Mohammad Mohammad Khan   M  ...    NaN  Afghanistan    NaN\n",
              "216549  59161  Mohammad Mohammad Khan   M  ...    NaN  Afghanistan    NaN\n",
              "216578  98340             Abdul Rahim   M  ...    NaN  Afghanistan    NaN\n",
              "\n",
              "[5 rows x 17 columns]"
            ]
          },
          "metadata": {},
          "execution_count": 448
        }
      ]
    },
    {
      "cell_type": "code",
      "source": [
        "#Characteristics --> weight height  sport age region\n",
        "\n",
        "#mean of each sport (weight , height)\n",
        "Males['Weight']"
      ],
      "metadata": {
        "id": "Z8emUmcSvS7T",
        "outputId": "05ed1779-f7dd-4239-cfb3-b8fff2be277b",
        "colab": {
          "base_uri": "https://localhost:8080/",
          "height": 293
        }
      },
      "execution_count": 428,
      "outputs": [
        {
          "output_type": "execute_result",
          "data": {
            "text/html": [
              "<div>\n",
              "<style scoped>\n",
              "    .dataframe tbody tr th:only-of-type {\n",
              "        vertical-align: middle;\n",
              "    }\n",
              "\n",
              "    .dataframe tbody tr th {\n",
              "        vertical-align: top;\n",
              "    }\n",
              "\n",
              "    .dataframe thead th {\n",
              "        text-align: right;\n",
              "    }\n",
              "</style>\n",
              "<table border=\"1\" class=\"dataframe\">\n",
              "  <thead>\n",
              "    <tr style=\"text-align: right;\">\n",
              "      <th></th>\n",
              "      <th>ID</th>\n",
              "      <th>Name</th>\n",
              "      <th>Sex</th>\n",
              "      <th>Age</th>\n",
              "      <th>Height</th>\n",
              "      <th>Weight</th>\n",
              "      <th>Team</th>\n",
              "      <th>NOC</th>\n",
              "      <th>Games</th>\n",
              "      <th>Year</th>\n",
              "      <th>Season</th>\n",
              "      <th>City</th>\n",
              "      <th>Sport</th>\n",
              "      <th>Event</th>\n",
              "      <th>Medal</th>\n",
              "      <th>region</th>\n",
              "      <th>notes</th>\n",
              "    </tr>\n",
              "  </thead>\n",
              "  <tbody>\n",
              "    <tr>\n",
              "      <th>216536</th>\n",
              "      <td>39920</td>\n",
              "      <td>Abdul Ghafoor</td>\n",
              "      <td>M</td>\n",
              "      <td>26.0</td>\n",
              "      <td>NaN</td>\n",
              "      <td>NaN</td>\n",
              "      <td>Afghanistan</td>\n",
              "      <td>AFG</td>\n",
              "      <td>1996 Summer</td>\n",
              "      <td>1996</td>\n",
              "      <td>Summer</td>\n",
              "      <td>Atlanta</td>\n",
              "      <td>Athletics</td>\n",
              "      <td>Athletics Men's 100 metres</td>\n",
              "      <td>NaN</td>\n",
              "      <td>Afghanistan</td>\n",
              "      <td>NaN</td>\n",
              "    </tr>\n",
              "    <tr>\n",
              "      <th>216537</th>\n",
              "      <td>39922</td>\n",
              "      <td>Abdul Ghafar Ghafoori</td>\n",
              "      <td>M</td>\n",
              "      <td>22.0</td>\n",
              "      <td>172.0</td>\n",
              "      <td>70.0</td>\n",
              "      <td>Afghanistan</td>\n",
              "      <td>AFG</td>\n",
              "      <td>1960 Summer</td>\n",
              "      <td>1960</td>\n",
              "      <td>Summer</td>\n",
              "      <td>Roma</td>\n",
              "      <td>Athletics</td>\n",
              "      <td>Athletics Men's 4 x 100 metres Relay</td>\n",
              "      <td>NaN</td>\n",
              "      <td>Afghanistan</td>\n",
              "      <td>NaN</td>\n",
              "    </tr>\n",
              "    <tr>\n",
              "      <th>216548</th>\n",
              "      <td>59161</td>\n",
              "      <td>Mohammad Mohammad Khan</td>\n",
              "      <td>M</td>\n",
              "      <td>25.0</td>\n",
              "      <td>NaN</td>\n",
              "      <td>NaN</td>\n",
              "      <td>Afghanistan</td>\n",
              "      <td>AFG</td>\n",
              "      <td>1936 Summer</td>\n",
              "      <td>1936</td>\n",
              "      <td>Summer</td>\n",
              "      <td>Berlin</td>\n",
              "      <td>Athletics</td>\n",
              "      <td>Athletics Men's 100 metres</td>\n",
              "      <td>NaN</td>\n",
              "      <td>Afghanistan</td>\n",
              "      <td>NaN</td>\n",
              "    </tr>\n",
              "    <tr>\n",
              "      <th>216549</th>\n",
              "      <td>59161</td>\n",
              "      <td>Mohammad Mohammad Khan</td>\n",
              "      <td>M</td>\n",
              "      <td>25.0</td>\n",
              "      <td>NaN</td>\n",
              "      <td>NaN</td>\n",
              "      <td>Afghanistan</td>\n",
              "      <td>AFG</td>\n",
              "      <td>1936 Summer</td>\n",
              "      <td>1936</td>\n",
              "      <td>Summer</td>\n",
              "      <td>Berlin</td>\n",
              "      <td>Athletics</td>\n",
              "      <td>Athletics Men's Long Jump</td>\n",
              "      <td>NaN</td>\n",
              "      <td>Afghanistan</td>\n",
              "      <td>NaN</td>\n",
              "    </tr>\n",
              "    <tr>\n",
              "      <th>216578</th>\n",
              "      <td>98340</td>\n",
              "      <td>Abdul Rahim</td>\n",
              "      <td>M</td>\n",
              "      <td>23.0</td>\n",
              "      <td>NaN</td>\n",
              "      <td>NaN</td>\n",
              "      <td>Afghanistan</td>\n",
              "      <td>AFG</td>\n",
              "      <td>1936 Summer</td>\n",
              "      <td>1936</td>\n",
              "      <td>Summer</td>\n",
              "      <td>Berlin</td>\n",
              "      <td>Athletics</td>\n",
              "      <td>Athletics Men's Shot Put</td>\n",
              "      <td>NaN</td>\n",
              "      <td>Afghanistan</td>\n",
              "      <td>NaN</td>\n",
              "    </tr>\n",
              "  </tbody>\n",
              "</table>\n",
              "</div>"
            ],
            "text/plain": [
              "           ID                    Name Sex  ...  Medal       region  notes\n",
              "216536  39920           Abdul Ghafoor   M  ...    NaN  Afghanistan    NaN\n",
              "216537  39922   Abdul Ghafar Ghafoori   M  ...    NaN  Afghanistan    NaN\n",
              "216548  59161  Mohammad Mohammad Khan   M  ...    NaN  Afghanistan    NaN\n",
              "216549  59161  Mohammad Mohammad Khan   M  ...    NaN  Afghanistan    NaN\n",
              "216578  98340             Abdul Rahim   M  ...    NaN  Afghanistan    NaN\n",
              "\n",
              "[5 rows x 17 columns]"
            ]
          },
          "metadata": {},
          "execution_count": 428
        }
      ]
    },
    {
      "cell_type": "code",
      "source": [
        "Males.isna().sum()"
      ],
      "metadata": {
        "id": "uRNylaa2w-7E",
        "outputId": "0b77387e-ca82-46e8-c3c1-b40e88b78e13",
        "colab": {
          "base_uri": "https://localhost:8080/"
        }
      },
      "execution_count": 427,
      "outputs": [
        {
          "output_type": "execute_result",
          "data": {
            "text/plain": [
              "ID             0\n",
              "Name           0\n",
              "Sex            0\n",
              "Age         8562\n",
              "Height     51324\n",
              "Weight     52897\n",
              "Team           0\n",
              "NOC            0\n",
              "Games          0\n",
              "Year           0\n",
              "Season         0\n",
              "City           0\n",
              "Sport          0\n",
              "Event          0\n",
              "Medal     126275\n",
              "region        10\n",
              "notes     143801\n",
              "dtype: int64"
            ]
          },
          "metadata": {},
          "execution_count": 427
        }
      ]
    },
    {
      "cell_type": "code",
      "source": [
        ""
      ],
      "metadata": {
        "id": "tnUJmOUo4wsa"
      },
      "execution_count": null,
      "outputs": []
    }
  ]
}