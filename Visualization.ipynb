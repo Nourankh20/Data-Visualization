{
  "nbformat": 4,
  "nbformat_minor": 0,
  "metadata": {
    "colab": {
      "name": "Untitled5.ipynb",
      "provenance": [],
      "include_colab_link": true
    },
    "kernelspec": {
      "name": "python3",
      "display_name": "Python 3"
    },
    "language_info": {
      "name": "python"
    }
  },
  "cells": [
    {
      "cell_type": "markdown",
      "metadata": {
        "id": "view-in-github",
        "colab_type": "text"
      },
      "source": [
        "<a href=\"https://colab.research.google.com/github/Nourankh20/Data-Visualization/blob/nouran/Visualization.ipynb\" target=\"_parent\"><img src=\"https://colab.research.google.com/assets/colab-badge.svg\" alt=\"Open In Colab\"/></a>"
      ]
    },
    {
      "cell_type": "code",
      "metadata": {
        "id": "xRnIzd1gFC-i"
      },
      "source": [
        "import pandas as pd\n",
        "import numpy as np\n",
        "def get_path(dataset_name,env_name='colab'):\n",
        "    \"\"\"\n",
        "    This function is used to return the path of the dataset you want to use. \n",
        "    \n",
        "    @params:\n",
        "    dataset_name: the name of the dataset. \n",
        "    env_name: it has two values either local, or colab the default is colab\n",
        "    \"\"\"\n",
        "    prefix = 'https://raw.githubusercontent.com/Nourankh20/Data-Visualization/main/datasets/'\n",
        "    if env_name == 'colab':\n",
        "        return prefix+dataset_name\n",
        "    else:\n",
        "        return f'../datasets/{dataset_name}'\n"
      ],
      "execution_count": 2,
      "outputs": []
    },
    {
      "cell_type": "code",
      "source": [
        "athlete_events_df =  pd.read_csv(get_path('athlete_events.csv'))"
      ],
      "metadata": {
        "id": "p58-Y-FZUPuN"
      },
      "execution_count": 3,
      "outputs": []
    },
    {
      "cell_type": "code",
      "source": [
        "athlete_events_df.head()"
      ],
      "metadata": {
        "id": "dIPiwTowWNWp",
        "outputId": "58d242f5-8e91-4c45-88c8-28194f0fd49f",
        "colab": {
          "base_uri": "https://localhost:8080/",
          "height": 206
        }
      },
      "execution_count": 4,
      "outputs": [
        {
          "output_type": "execute_result",
          "data": {
            "text/html": [
              "<div>\n",
              "<style scoped>\n",
              "    .dataframe tbody tr th:only-of-type {\n",
              "        vertical-align: middle;\n",
              "    }\n",
              "\n",
              "    .dataframe tbody tr th {\n",
              "        vertical-align: top;\n",
              "    }\n",
              "\n",
              "    .dataframe thead th {\n",
              "        text-align: right;\n",
              "    }\n",
              "</style>\n",
              "<table border=\"1\" class=\"dataframe\">\n",
              "  <thead>\n",
              "    <tr style=\"text-align: right;\">\n",
              "      <th></th>\n",
              "      <th>ID</th>\n",
              "      <th>Name</th>\n",
              "      <th>Sex</th>\n",
              "      <th>Age</th>\n",
              "      <th>Height</th>\n",
              "      <th>Weight</th>\n",
              "      <th>Team</th>\n",
              "      <th>NOC</th>\n",
              "      <th>Games</th>\n",
              "      <th>Year</th>\n",
              "      <th>Season</th>\n",
              "      <th>City</th>\n",
              "      <th>Sport</th>\n",
              "      <th>Event</th>\n",
              "      <th>Medal</th>\n",
              "    </tr>\n",
              "  </thead>\n",
              "  <tbody>\n",
              "    <tr>\n",
              "      <th>0</th>\n",
              "      <td>1</td>\n",
              "      <td>A Dijiang</td>\n",
              "      <td>M</td>\n",
              "      <td>24.0</td>\n",
              "      <td>180.0</td>\n",
              "      <td>80.0</td>\n",
              "      <td>China</td>\n",
              "      <td>CHN</td>\n",
              "      <td>1992 Summer</td>\n",
              "      <td>1992</td>\n",
              "      <td>Summer</td>\n",
              "      <td>Barcelona</td>\n",
              "      <td>Basketball</td>\n",
              "      <td>Basketball Men's Basketball</td>\n",
              "      <td>NaN</td>\n",
              "    </tr>\n",
              "    <tr>\n",
              "      <th>1</th>\n",
              "      <td>2</td>\n",
              "      <td>A Lamusi</td>\n",
              "      <td>M</td>\n",
              "      <td>23.0</td>\n",
              "      <td>170.0</td>\n",
              "      <td>60.0</td>\n",
              "      <td>China</td>\n",
              "      <td>CHN</td>\n",
              "      <td>2012 Summer</td>\n",
              "      <td>2012</td>\n",
              "      <td>Summer</td>\n",
              "      <td>London</td>\n",
              "      <td>Judo</td>\n",
              "      <td>Judo Men's Extra-Lightweight</td>\n",
              "      <td>NaN</td>\n",
              "    </tr>\n",
              "    <tr>\n",
              "      <th>2</th>\n",
              "      <td>3</td>\n",
              "      <td>Gunnar Nielsen Aaby</td>\n",
              "      <td>M</td>\n",
              "      <td>24.0</td>\n",
              "      <td>NaN</td>\n",
              "      <td>NaN</td>\n",
              "      <td>Denmark</td>\n",
              "      <td>DEN</td>\n",
              "      <td>1920 Summer</td>\n",
              "      <td>1920</td>\n",
              "      <td>Summer</td>\n",
              "      <td>Antwerpen</td>\n",
              "      <td>Football</td>\n",
              "      <td>Football Men's Football</td>\n",
              "      <td>NaN</td>\n",
              "    </tr>\n",
              "    <tr>\n",
              "      <th>3</th>\n",
              "      <td>4</td>\n",
              "      <td>Edgar Lindenau Aabye</td>\n",
              "      <td>M</td>\n",
              "      <td>34.0</td>\n",
              "      <td>NaN</td>\n",
              "      <td>NaN</td>\n",
              "      <td>Denmark/Sweden</td>\n",
              "      <td>DEN</td>\n",
              "      <td>1900 Summer</td>\n",
              "      <td>1900</td>\n",
              "      <td>Summer</td>\n",
              "      <td>Paris</td>\n",
              "      <td>Tug-Of-War</td>\n",
              "      <td>Tug-Of-War Men's Tug-Of-War</td>\n",
              "      <td>Gold</td>\n",
              "    </tr>\n",
              "    <tr>\n",
              "      <th>4</th>\n",
              "      <td>5</td>\n",
              "      <td>Christine Jacoba Aaftink</td>\n",
              "      <td>F</td>\n",
              "      <td>21.0</td>\n",
              "      <td>185.0</td>\n",
              "      <td>82.0</td>\n",
              "      <td>Netherlands</td>\n",
              "      <td>NED</td>\n",
              "      <td>1988 Winter</td>\n",
              "      <td>1988</td>\n",
              "      <td>Winter</td>\n",
              "      <td>Calgary</td>\n",
              "      <td>Speed Skating</td>\n",
              "      <td>Speed Skating Women's 500 metres</td>\n",
              "      <td>NaN</td>\n",
              "    </tr>\n",
              "  </tbody>\n",
              "</table>\n",
              "</div>"
            ],
            "text/plain": [
              "   ID                      Name  ...                             Event  Medal\n",
              "0   1                 A Dijiang  ...       Basketball Men's Basketball    NaN\n",
              "1   2                  A Lamusi  ...      Judo Men's Extra-Lightweight    NaN\n",
              "2   3       Gunnar Nielsen Aaby  ...           Football Men's Football    NaN\n",
              "3   4      Edgar Lindenau Aabye  ...       Tug-Of-War Men's Tug-Of-War   Gold\n",
              "4   5  Christine Jacoba Aaftink  ...  Speed Skating Women's 500 metres    NaN\n",
              "\n",
              "[5 rows x 15 columns]"
            ]
          },
          "metadata": {},
          "execution_count": 4
        }
      ]
    },
    {
      "cell_type": "code",
      "source": [
        "noc_regions = pd.read_csv(get_path('noc_regions.csv'))"
      ],
      "metadata": {
        "id": "UxwV5bglXuDn"
      },
      "execution_count": 5,
      "outputs": []
    },
    {
      "cell_type": "code",
      "source": [
        "noc_regions.head()"
      ],
      "metadata": {
        "id": "KFiK0B7eYxfc",
        "outputId": "7ea08ef8-9cce-464b-befa-a28c969167a7",
        "colab": {
          "base_uri": "https://localhost:8080/",
          "height": 206
        }
      },
      "execution_count": 6,
      "outputs": [
        {
          "output_type": "execute_result",
          "data": {
            "text/html": [
              "<div>\n",
              "<style scoped>\n",
              "    .dataframe tbody tr th:only-of-type {\n",
              "        vertical-align: middle;\n",
              "    }\n",
              "\n",
              "    .dataframe tbody tr th {\n",
              "        vertical-align: top;\n",
              "    }\n",
              "\n",
              "    .dataframe thead th {\n",
              "        text-align: right;\n",
              "    }\n",
              "</style>\n",
              "<table border=\"1\" class=\"dataframe\">\n",
              "  <thead>\n",
              "    <tr style=\"text-align: right;\">\n",
              "      <th></th>\n",
              "      <th>NOC</th>\n",
              "      <th>region</th>\n",
              "      <th>notes</th>\n",
              "    </tr>\n",
              "  </thead>\n",
              "  <tbody>\n",
              "    <tr>\n",
              "      <th>0</th>\n",
              "      <td>AFG</td>\n",
              "      <td>Afghanistan</td>\n",
              "      <td>NaN</td>\n",
              "    </tr>\n",
              "    <tr>\n",
              "      <th>1</th>\n",
              "      <td>AHO</td>\n",
              "      <td>Curacao</td>\n",
              "      <td>Netherlands Antilles</td>\n",
              "    </tr>\n",
              "    <tr>\n",
              "      <th>2</th>\n",
              "      <td>ALB</td>\n",
              "      <td>Albania</td>\n",
              "      <td>NaN</td>\n",
              "    </tr>\n",
              "    <tr>\n",
              "      <th>3</th>\n",
              "      <td>ALG</td>\n",
              "      <td>Algeria</td>\n",
              "      <td>NaN</td>\n",
              "    </tr>\n",
              "    <tr>\n",
              "      <th>4</th>\n",
              "      <td>AND</td>\n",
              "      <td>Andorra</td>\n",
              "      <td>NaN</td>\n",
              "    </tr>\n",
              "  </tbody>\n",
              "</table>\n",
              "</div>"
            ],
            "text/plain": [
              "   NOC       region                 notes\n",
              "0  AFG  Afghanistan                   NaN\n",
              "1  AHO      Curacao  Netherlands Antilles\n",
              "2  ALB      Albania                   NaN\n",
              "3  ALG      Algeria                   NaN\n",
              "4  AND      Andorra                   NaN"
            ]
          },
          "metadata": {},
          "execution_count": 6
        }
      ]
    },
    {
      "cell_type": "markdown",
      "source": [
        "Merging the 2 datasets into one dataset called df"
      ],
      "metadata": {
        "id": "rFOL3xwXul1-"
      }
    },
    {
      "cell_type": "code",
      "source": [
        "df = pd.merge(athlete_events_df,noc_regions,left_on='NOC',right_on='NOC')"
      ],
      "metadata": {
        "id": "mUOOq7X0aYRv"
      },
      "execution_count": 7,
      "outputs": []
    },
    {
      "cell_type": "code",
      "source": [
        "df.head()\n",
        "\n",
        "df = df.drop_duplicates()\n",
        "df.head()"
      ],
      "metadata": {
        "id": "JQSNROd2dMH5",
        "outputId": "3acf6d58-fd8e-47cc-b6c7-f2595677bff6",
        "colab": {
          "base_uri": "https://localhost:8080/",
          "height": 206
        }
      },
      "execution_count": 8,
      "outputs": [
        {
          "output_type": "execute_result",
          "data": {
            "text/html": [
              "<div>\n",
              "<style scoped>\n",
              "    .dataframe tbody tr th:only-of-type {\n",
              "        vertical-align: middle;\n",
              "    }\n",
              "\n",
              "    .dataframe tbody tr th {\n",
              "        vertical-align: top;\n",
              "    }\n",
              "\n",
              "    .dataframe thead th {\n",
              "        text-align: right;\n",
              "    }\n",
              "</style>\n",
              "<table border=\"1\" class=\"dataframe\">\n",
              "  <thead>\n",
              "    <tr style=\"text-align: right;\">\n",
              "      <th></th>\n",
              "      <th>ID</th>\n",
              "      <th>Name</th>\n",
              "      <th>Sex</th>\n",
              "      <th>Age</th>\n",
              "      <th>Height</th>\n",
              "      <th>Weight</th>\n",
              "      <th>Team</th>\n",
              "      <th>NOC</th>\n",
              "      <th>Games</th>\n",
              "      <th>Year</th>\n",
              "      <th>Season</th>\n",
              "      <th>City</th>\n",
              "      <th>Sport</th>\n",
              "      <th>Event</th>\n",
              "      <th>Medal</th>\n",
              "      <th>region</th>\n",
              "      <th>notes</th>\n",
              "    </tr>\n",
              "  </thead>\n",
              "  <tbody>\n",
              "    <tr>\n",
              "      <th>0</th>\n",
              "      <td>1</td>\n",
              "      <td>A Dijiang</td>\n",
              "      <td>M</td>\n",
              "      <td>24.0</td>\n",
              "      <td>180.0</td>\n",
              "      <td>80.0</td>\n",
              "      <td>China</td>\n",
              "      <td>CHN</td>\n",
              "      <td>1992 Summer</td>\n",
              "      <td>1992</td>\n",
              "      <td>Summer</td>\n",
              "      <td>Barcelona</td>\n",
              "      <td>Basketball</td>\n",
              "      <td>Basketball Men's Basketball</td>\n",
              "      <td>NaN</td>\n",
              "      <td>China</td>\n",
              "      <td>NaN</td>\n",
              "    </tr>\n",
              "    <tr>\n",
              "      <th>1</th>\n",
              "      <td>2</td>\n",
              "      <td>A Lamusi</td>\n",
              "      <td>M</td>\n",
              "      <td>23.0</td>\n",
              "      <td>170.0</td>\n",
              "      <td>60.0</td>\n",
              "      <td>China</td>\n",
              "      <td>CHN</td>\n",
              "      <td>2012 Summer</td>\n",
              "      <td>2012</td>\n",
              "      <td>Summer</td>\n",
              "      <td>London</td>\n",
              "      <td>Judo</td>\n",
              "      <td>Judo Men's Extra-Lightweight</td>\n",
              "      <td>NaN</td>\n",
              "      <td>China</td>\n",
              "      <td>NaN</td>\n",
              "    </tr>\n",
              "    <tr>\n",
              "      <th>2</th>\n",
              "      <td>602</td>\n",
              "      <td>Abudoureheman</td>\n",
              "      <td>M</td>\n",
              "      <td>22.0</td>\n",
              "      <td>182.0</td>\n",
              "      <td>75.0</td>\n",
              "      <td>China</td>\n",
              "      <td>CHN</td>\n",
              "      <td>2000 Summer</td>\n",
              "      <td>2000</td>\n",
              "      <td>Summer</td>\n",
              "      <td>Sydney</td>\n",
              "      <td>Boxing</td>\n",
              "      <td>Boxing Men's Middleweight</td>\n",
              "      <td>NaN</td>\n",
              "      <td>China</td>\n",
              "      <td>NaN</td>\n",
              "    </tr>\n",
              "    <tr>\n",
              "      <th>3</th>\n",
              "      <td>1463</td>\n",
              "      <td>Ai Linuer</td>\n",
              "      <td>M</td>\n",
              "      <td>25.0</td>\n",
              "      <td>160.0</td>\n",
              "      <td>62.0</td>\n",
              "      <td>China</td>\n",
              "      <td>CHN</td>\n",
              "      <td>2004 Summer</td>\n",
              "      <td>2004</td>\n",
              "      <td>Summer</td>\n",
              "      <td>Athina</td>\n",
              "      <td>Wrestling</td>\n",
              "      <td>Wrestling Men's Lightweight, Greco-Roman</td>\n",
              "      <td>NaN</td>\n",
              "      <td>China</td>\n",
              "      <td>NaN</td>\n",
              "    </tr>\n",
              "    <tr>\n",
              "      <th>4</th>\n",
              "      <td>1464</td>\n",
              "      <td>Ai Yanhan</td>\n",
              "      <td>F</td>\n",
              "      <td>14.0</td>\n",
              "      <td>168.0</td>\n",
              "      <td>54.0</td>\n",
              "      <td>China</td>\n",
              "      <td>CHN</td>\n",
              "      <td>2016 Summer</td>\n",
              "      <td>2016</td>\n",
              "      <td>Summer</td>\n",
              "      <td>Rio de Janeiro</td>\n",
              "      <td>Swimming</td>\n",
              "      <td>Swimming Women's 200 metres Freestyle</td>\n",
              "      <td>NaN</td>\n",
              "      <td>China</td>\n",
              "      <td>NaN</td>\n",
              "    </tr>\n",
              "  </tbody>\n",
              "</table>\n",
              "</div>"
            ],
            "text/plain": [
              "     ID           Name Sex  ...  Medal  region  notes\n",
              "0     1      A Dijiang   M  ...    NaN   China    NaN\n",
              "1     2       A Lamusi   M  ...    NaN   China    NaN\n",
              "2   602  Abudoureheman   M  ...    NaN   China    NaN\n",
              "3  1463      Ai Linuer   M  ...    NaN   China    NaN\n",
              "4  1464      Ai Yanhan   F  ...    NaN   China    NaN\n",
              "\n",
              "[5 rows x 17 columns]"
            ]
          },
          "metadata": {},
          "execution_count": 8
        }
      ]
    },
    {
      "cell_type": "code",
      "source": [
        "null_values_percentages = df.isna().sum()/len(df) *100\n",
        "null_values_percentages"
      ],
      "metadata": {
        "id": "lRHsFqoAdMy6",
        "outputId": "ebf03ba6-3579-4d88-c6f5-e649f03af596",
        "colab": {
          "base_uri": "https://localhost:8080/"
        }
      },
      "execution_count": 9,
      "outputs": [
        {
          "output_type": "execute_result",
          "data": {
            "text/plain": [
              "ID         0.000000\n",
              "Name       0.000000\n",
              "Sex        0.000000\n",
              "Age        3.453460\n",
              "Height    21.800269\n",
              "Weight    22.806646\n",
              "Team       0.000000\n",
              "NOC        0.000000\n",
              "Games      0.000000\n",
              "Year       0.000000\n",
              "Season     0.000000\n",
              "City       0.000000\n",
              "Sport      0.000000\n",
              "Event      0.000000\n",
              "Medal     85.239177\n",
              "region     0.007796\n",
              "notes     98.130907\n",
              "dtype: float64"
            ]
          },
          "metadata": {},
          "execution_count": 9
        }
      ]
    },
    {
      "cell_type": "markdown",
      "source": [
        "# Dealing with outliers in Height\n"
      ],
      "metadata": {
        "id": "XLLuKL3Xu1pc"
      }
    },
    {
      "cell_type": "code",
      "source": [
        "import seaborn as sns\n",
        "\n",
        "Females= df[df['Sex']=='F']\n",
        "Males=df[df['Sex']=='M']\n",
        "\n",
        "\n",
        "sports_height_females = Females.groupby(Females['Sport'])['Height'].mean()\n",
        "sports_height_males = Males.groupby(Males['Sport'])['Height'].mean()\n",
        "\n",
        "\n",
        "dropped_null_values_height_females = sports_height_females.dropna(how='all')\n",
        "dropped_null_values_height_females.values\n",
        "\n",
        "dropped_null_values_height_males = sports_height_males.dropna(how='all')\n",
        "dropped_null_values_height_males\n",
        "print(dropped_null_values_weight_males)\n",
        "\n",
        "ay = sns.boxplot(x=dropped_null_values_height_females)\n"
      ],
      "metadata": {
        "colab": {
          "base_uri": "https://localhost:8080/",
          "height": 234
        },
        "id": "HR037_y4XEW4",
        "outputId": "df86592b-f5a7-4cf7-db12-b06fee744ce9"
      },
      "execution_count": 10,
      "outputs": [
        {
          "output_type": "error",
          "ename": "NameError",
          "evalue": "ignored",
          "traceback": [
            "\u001b[0;31m---------------------------------------------------------------------------\u001b[0m",
            "\u001b[0;31mNameError\u001b[0m                                 Traceback (most recent call last)",
            "\u001b[0;32m<ipython-input-10-db89de8d0191>\u001b[0m in \u001b[0;36m<module>\u001b[0;34m()\u001b[0m\n\u001b[1;32m     14\u001b[0m \u001b[0mdropped_null_values_height_males\u001b[0m \u001b[0;34m=\u001b[0m \u001b[0msports_height_males\u001b[0m\u001b[0;34m.\u001b[0m\u001b[0mdropna\u001b[0m\u001b[0;34m(\u001b[0m\u001b[0mhow\u001b[0m\u001b[0;34m=\u001b[0m\u001b[0;34m'all'\u001b[0m\u001b[0;34m)\u001b[0m\u001b[0;34m\u001b[0m\u001b[0;34m\u001b[0m\u001b[0m\n\u001b[1;32m     15\u001b[0m \u001b[0mdropped_null_values_height_males\u001b[0m\u001b[0;34m\u001b[0m\u001b[0;34m\u001b[0m\u001b[0m\n\u001b[0;32m---> 16\u001b[0;31m \u001b[0mprint\u001b[0m\u001b[0;34m(\u001b[0m\u001b[0mdropped_null_values_weight_males\u001b[0m\u001b[0;34m)\u001b[0m\u001b[0;34m\u001b[0m\u001b[0;34m\u001b[0m\u001b[0m\n\u001b[0m\u001b[1;32m     17\u001b[0m \u001b[0;34m\u001b[0m\u001b[0m\n\u001b[1;32m     18\u001b[0m \u001b[0may\u001b[0m \u001b[0;34m=\u001b[0m \u001b[0msns\u001b[0m\u001b[0;34m.\u001b[0m\u001b[0mboxplot\u001b[0m\u001b[0;34m(\u001b[0m\u001b[0mx\u001b[0m\u001b[0;34m=\u001b[0m\u001b[0mdropped_null_values_height_females\u001b[0m\u001b[0;34m)\u001b[0m\u001b[0;34m\u001b[0m\u001b[0;34m\u001b[0m\u001b[0m\n",
            "\u001b[0;31mNameError\u001b[0m: name 'dropped_null_values_weight_males' is not defined"
          ]
        }
      ]
    },
    {
      "cell_type": "code",
      "source": [
        "ay = sns.boxplot(x=dropped_null_values_height_males)\n"
      ],
      "metadata": {
        "id": "RO3X3ZV_hDtJ"
      },
      "execution_count": null,
      "outputs": []
    },
    {
      "cell_type": "code",
      "source": [
        "#Removed outliers in female height\n",
        "\n",
        "Q1 = np.percentile(dropped_null_values_height_females.values, 25,interpolation = 'midpoint')\n",
        "Q3 = np.percentile(dropped_null_values_height_females.values, 75,interpolation = 'midpoint')\n",
        "IQR = Q3 - Q1\n",
        "\n",
        "\n",
        "Females = Females[~(Females['Height'] >= (Q3+1.5*IQR))]\n",
        "Females = Females[~(Females['Height'] <= (Q1-1.5*IQR))]\n",
        "\n",
        "\n",
        "\n",
        "\n",
        "#Removed outliers in male height\n",
        "\n",
        "Q1 = np.percentile(dropped_null_values_height_males.values, 25,interpolation = 'midpoint')\n",
        "Q3 = np.percentile(dropped_null_values_height_males.values, 75,interpolation = 'midpoint')\n",
        "IQR = Q3 - Q1\n",
        "\n",
        "Males = Males[~(Males['Height'] >= (Q3+1.5*IQR))]\n",
        "Males = Males[~(Males['Height'] <= (Q1-1.5*IQR))]\n",
        "\n",
        "\n"
      ],
      "metadata": {
        "id": "r0_VCUXxhrlT"
      },
      "execution_count": 11,
      "outputs": []
    },
    {
      "cell_type": "code",
      "source": [
        "ax = sns.boxplot(x=Females['Height'])\n"
      ],
      "metadata": {
        "colab": {
          "base_uri": "https://localhost:8080/",
          "height": 279
        },
        "id": "HZPVk5IpuxyE",
        "outputId": "8ca0ccc2-5cf2-42bc-a3ba-7d097371f49e"
      },
      "execution_count": 12,
      "outputs": [
        {
          "output_type": "display_data",
          "data": {
            "image/png": "[encoded data removed]",
            "text/plain": [
              "<Figure size 432x288 with 1 Axes>"
            ]
          },
          "metadata": {
            "needs_background": "light"
          }
        }
      ]
    },
    {
      "cell_type": "code",
      "source": [
        "ax = sns.boxplot(x=Males['Height'])\n"
      ],
      "metadata": {
        "colab": {
          "base_uri": "https://localhost:8080/",
          "height": 279
        },
        "id": "eNNlDlE5t0eo",
        "outputId": "0a40eada-f81c-4ef5-87fa-60c5bdf46d9e"
      },
      "execution_count": 13,
      "outputs": [
        {
          "output_type": "display_data",
          "data": {
            "image/png": "[encoded data removed]",
            "text/plain": [
              "<Figure size 432x288 with 1 Axes>"
            ]
          },
          "metadata": {
            "needs_background": "light"
          }
        }
      ]
    },
    {
      "cell_type": "code",
      "source": [
        "\n",
        "sports_weight_females = Females.groupby(Females['Sport'])['Weight'].mean()\n",
        "sports_weight_males = Males.groupby(Males['Sport'])['Weight'].mean()\n",
        "\n",
        "\n",
        "dropped_null_values_weight_females = sports_weight_females.dropna(how='all')\n",
        "dropped_null_values_weight_females.values\n",
        "\n",
        "dropped_null_values_weight_males = sports_weight_males.dropna(how='all')\n",
        "dropped_null_values_weight_males\n",
        "\n",
        "\n",
        "ay = sns.boxplot(x=dropped_null_values_weight_females)\n",
        "\n",
        "\n"
      ],
      "metadata": {
        "colab": {
          "base_uri": "https://localhost:8080/",
          "height": 279
        },
        "id": "Y1_585VVZit_",
        "outputId": "70fcd02e-c06f-433e-cce7-facb81f6c9f5"
      },
      "execution_count": 14,
      "outputs": [
        {
          "output_type": "display_data",
          "data": {
            "image/png": "[encoded data removed]",
            "text/plain": [
              "<Figure size 432x288 with 1 Axes>"
            ]
          },
          "metadata": {
            "needs_background": "light"
          }
        }
      ]
    },
    {
      "cell_type": "code",
      "source": [
        "ay = sns.boxplot(x=dropped_null_values_weight_males)\n",
        "\n"
      ],
      "metadata": {
        "colab": {
          "base_uri": "https://localhost:8080/",
          "height": 279
        },
        "id": "n1osDP3AZl9E",
        "outputId": "1d40413c-7b2c-4590-8e46-a523a6f8efcf"
      },
      "execution_count": 15,
      "outputs": [
        {
          "output_type": "display_data",
          "data": {
            "image/png": "[encoded data removed]",
            "text/plain": [
              "<Figure size 432x288 with 1 Axes>"
            ]
          },
          "metadata": {
            "needs_background": "light"
          }
        }
      ]
    },
    {
      "cell_type": "code",
      "source": [
        "\n",
        "#Removed outliers in female weight\n",
        "\n",
        "Q1 = np.percentile(dropped_null_values_weight_females.values, 25,interpolation = 'midpoint')\n",
        "Q3 = np.percentile(dropped_null_values_weight_females.values, 75,interpolation = 'midpoint')\n",
        "IQR = Q3 - Q1\n",
        "\n",
        "Females = Females[~(Females['Weight'] >= (Q3+1.5*IQR))]\n",
        "Females = Females[~(Females['Weight'] <= (Q1-1.5*IQR))]\n",
        "\n",
        "\n",
        "#Removed outliers in male weight\n",
        "\n",
        "Q1 = np.percentile(dropped_null_values_weight_males.values, 25,interpolation = 'midpoint')\n",
        "Q3 = np.percentile(dropped_null_values_weight_males.values, 75,interpolation = 'midpoint')\n",
        "IQR = Q3 - Q1\n",
        "\n",
        "Males = Males[~(Males['Weight'] >= (Q3+1.5*IQR))]\n",
        "Males = Males[~(Males['Weight'] <= (Q1-1.5*IQR))]\n",
        "\n",
        "ay = sns.boxplot(x=Females['Weight'])\n",
        "\n"
      ],
      "metadata": {
        "colab": {
          "base_uri": "https://localhost:8080/",
          "height": 279
        },
        "id": "W1CZjHwnswHW",
        "outputId": "cb1e1fb1-8018-47e9-9e3c-c7981d5dab59"
      },
      "execution_count": 16,
      "outputs": [
        {
          "output_type": "display_data",
          "data": {
            "image/png": "[encoded data removed]",
            "text/plain": [
              "<Figure size 432x288 with 1 Axes>"
            ]
          },
          "metadata": {
            "needs_background": "light"
          }
        }
      ]
    },
    {
      "cell_type": "code",
      "source": [
        "ay = sns.boxplot(x=Males['Weight'])\n"
      ],
      "metadata": {
        "colab": {
          "base_uri": "https://localhost:8080/",
          "height": 279
        },
        "id": "K8I7nNVfvTnj",
        "outputId": "ab566969-587d-451a-f7ee-66f52a9b5e61"
      },
      "execution_count": 17,
      "outputs": [
        {
          "output_type": "display_data",
          "data": {
            "image/png": "[encoded data removed]",
            "text/plain": [
              "<Figure size 432x288 with 1 Axes>"
            ]
          },
          "metadata": {
            "needs_background": "light"
          }
        }
      ]
    },
    {
      "cell_type": "code",
      "source": [
        "Males.head()"
      ],
      "metadata": {
        "id": "Oo-mM1VHufxN",
        "outputId": "06b1df76-736a-4f86-f0bf-d34de9805386",
        "colab": {
          "base_uri": "https://localhost:8080/",
          "height": 206
        }
      },
      "execution_count": 18,
      "outputs": [
        {
          "output_type": "execute_result",
          "data": {
            "text/html": [
              "<div>\n",
              "<style scoped>\n",
              "    .dataframe tbody tr th:only-of-type {\n",
              "        vertical-align: middle;\n",
              "    }\n",
              "\n",
              "    .dataframe tbody tr th {\n",
              "        vertical-align: top;\n",
              "    }\n",
              "\n",
              "    .dataframe thead th {\n",
              "        text-align: right;\n",
              "    }\n",
              "</style>\n",
              "<table border=\"1\" class=\"dataframe\">\n",
              "  <thead>\n",
              "    <tr style=\"text-align: right;\">\n",
              "      <th></th>\n",
              "      <th>ID</th>\n",
              "      <th>Name</th>\n",
              "      <th>Sex</th>\n",
              "      <th>Age</th>\n",
              "      <th>Height</th>\n",
              "      <th>Weight</th>\n",
              "      <th>Team</th>\n",
              "      <th>NOC</th>\n",
              "      <th>Games</th>\n",
              "      <th>Year</th>\n",
              "      <th>Season</th>\n",
              "      <th>City</th>\n",
              "      <th>Sport</th>\n",
              "      <th>Event</th>\n",
              "      <th>Medal</th>\n",
              "      <th>region</th>\n",
              "      <th>notes</th>\n",
              "    </tr>\n",
              "  </thead>\n",
              "  <tbody>\n",
              "    <tr>\n",
              "      <th>0</th>\n",
              "      <td>1</td>\n",
              "      <td>A Dijiang</td>\n",
              "      <td>M</td>\n",
              "      <td>24.0</td>\n",
              "      <td>180.0</td>\n",
              "      <td>80.0</td>\n",
              "      <td>China</td>\n",
              "      <td>CHN</td>\n",
              "      <td>1992 Summer</td>\n",
              "      <td>1992</td>\n",
              "      <td>Summer</td>\n",
              "      <td>Barcelona</td>\n",
              "      <td>Basketball</td>\n",
              "      <td>Basketball Men's Basketball</td>\n",
              "      <td>NaN</td>\n",
              "      <td>China</td>\n",
              "      <td>NaN</td>\n",
              "    </tr>\n",
              "    <tr>\n",
              "      <th>1</th>\n",
              "      <td>2</td>\n",
              "      <td>A Lamusi</td>\n",
              "      <td>M</td>\n",
              "      <td>23.0</td>\n",
              "      <td>170.0</td>\n",
              "      <td>60.0</td>\n",
              "      <td>China</td>\n",
              "      <td>CHN</td>\n",
              "      <td>2012 Summer</td>\n",
              "      <td>2012</td>\n",
              "      <td>Summer</td>\n",
              "      <td>London</td>\n",
              "      <td>Judo</td>\n",
              "      <td>Judo Men's Extra-Lightweight</td>\n",
              "      <td>NaN</td>\n",
              "      <td>China</td>\n",
              "      <td>NaN</td>\n",
              "    </tr>\n",
              "    <tr>\n",
              "      <th>2</th>\n",
              "      <td>602</td>\n",
              "      <td>Abudoureheman</td>\n",
              "      <td>M</td>\n",
              "      <td>22.0</td>\n",
              "      <td>182.0</td>\n",
              "      <td>75.0</td>\n",
              "      <td>China</td>\n",
              "      <td>CHN</td>\n",
              "      <td>2000 Summer</td>\n",
              "      <td>2000</td>\n",
              "      <td>Summer</td>\n",
              "      <td>Sydney</td>\n",
              "      <td>Boxing</td>\n",
              "      <td>Boxing Men's Middleweight</td>\n",
              "      <td>NaN</td>\n",
              "      <td>China</td>\n",
              "      <td>NaN</td>\n",
              "    </tr>\n",
              "    <tr>\n",
              "      <th>6</th>\n",
              "      <td>3605</td>\n",
              "      <td>An Weijiang</td>\n",
              "      <td>M</td>\n",
              "      <td>22.0</td>\n",
              "      <td>178.0</td>\n",
              "      <td>72.0</td>\n",
              "      <td>China</td>\n",
              "      <td>CHN</td>\n",
              "      <td>2006 Winter</td>\n",
              "      <td>2006</td>\n",
              "      <td>Winter</td>\n",
              "      <td>Torino</td>\n",
              "      <td>Speed Skating</td>\n",
              "      <td>Speed Skating Men's 500 metres</td>\n",
              "      <td>NaN</td>\n",
              "      <td>China</td>\n",
              "      <td>NaN</td>\n",
              "    </tr>\n",
              "    <tr>\n",
              "      <th>7</th>\n",
              "      <td>3605</td>\n",
              "      <td>An Weijiang</td>\n",
              "      <td>M</td>\n",
              "      <td>22.0</td>\n",
              "      <td>178.0</td>\n",
              "      <td>72.0</td>\n",
              "      <td>China</td>\n",
              "      <td>CHN</td>\n",
              "      <td>2006 Winter</td>\n",
              "      <td>2006</td>\n",
              "      <td>Winter</td>\n",
              "      <td>Torino</td>\n",
              "      <td>Speed Skating</td>\n",
              "      <td>Speed Skating Men's 1,000 metres</td>\n",
              "      <td>NaN</td>\n",
              "      <td>China</td>\n",
              "      <td>NaN</td>\n",
              "    </tr>\n",
              "  </tbody>\n",
              "</table>\n",
              "</div>"
            ],
            "text/plain": [
              "     ID           Name Sex  ...  Medal  region  notes\n",
              "0     1      A Dijiang   M  ...    NaN   China    NaN\n",
              "1     2       A Lamusi   M  ...    NaN   China    NaN\n",
              "2   602  Abudoureheman   M  ...    NaN   China    NaN\n",
              "6  3605    An Weijiang   M  ...    NaN   China    NaN\n",
              "7  3605    An Weijiang   M  ...    NaN   China    NaN\n",
              "\n",
              "[5 rows x 17 columns]"
            ]
          },
          "metadata": {},
          "execution_count": 18
        }
      ]
    },
    {
      "cell_type": "code",
      "source": [
        "Males['Weight']"
      ],
      "metadata": {
        "id": "Z8emUmcSvS7T",
        "colab": {
          "base_uri": "https://localhost:8080/"
        },
        "outputId": "28847c1a-f965-4537-dc4e-f00c5d4808da"
      },
      "execution_count": 19,
      "outputs": [
        {
          "output_type": "execute_result",
          "data": {
            "text/plain": [
              "0         80.0\n",
              "1         60.0\n",
              "2         75.0\n",
              "6         72.0\n",
              "7         72.0\n",
              "          ... \n",
              "270753    65.0\n",
              "270754    65.0\n",
              "270758     NaN\n",
              "270765    63.0\n",
              "270766    75.0\n",
              "Name: Weight, Length: 147015, dtype: float64"
            ]
          },
          "metadata": {},
          "execution_count": 19
        }
      ]
    },
    {
      "cell_type": "code",
      "source": [
        "#Male height nan\n",
        "height = Males[(Males['Height'].isna())]\n",
        "for index, row in height.iterrows():\n",
        "    sport = row[12]\n",
        "    if dropped_null_values_height_males.index.str.contains(sport).any() :\n",
        "      Males.loc[index,['Height']] = dropped_null_values_height_males[sport]  "
      ],
      "metadata": {
        "id": "uRNylaa2w-7E"
      },
      "execution_count": 20,
      "outputs": []
    },
    {
      "cell_type": "code",
      "source": [
        "Males.isna().sum()/len(Males)  *100"
      ],
      "metadata": {
        "colab": {
          "base_uri": "https://localhost:8080/"
        },
        "id": "tnUJmOUo4wsa",
        "outputId": "717ff7a5-c30e-4ce1-94d2-b862c0908980"
      },
      "execution_count": 43,
      "outputs": [
        {
          "output_type": "execute_result",
          "data": {
            "text/plain": [
              "ID         0.000000\n",
              "Name       0.000000\n",
              "Sex        0.000000\n",
              "Age        5.824258\n",
              "Height     0.062619\n",
              "Weight     0.078274\n",
              "Team       0.000000\n",
              "NOC        0.000000\n",
              "Games      0.000000\n",
              "Year       0.000000\n",
              "Season     0.000000\n",
              "City       0.000000\n",
              "Sport      0.000000\n",
              "Event      0.000000\n",
              "Medal     85.929077\n",
              "region     0.006806\n",
              "notes     97.812415\n",
              "dtype: float64"
            ]
          },
          "metadata": {},
          "execution_count": 43
        }
      ]
    },
    {
      "cell_type": "code",
      "source": [
        "dropped_null_values_weight_males"
      ],
      "metadata": {
        "colab": {
          "base_uri": "https://localhost:8080/"
        },
        "id": "SNk-vSuPiKKB",
        "outputId": "4bf16a36-b046-45e9-8733-5a0a99b36359"
      },
      "execution_count": 44,
      "outputs": [
        {
          "output_type": "execute_result",
          "data": {
            "text/plain": [
              "Sport\n",
              "Alpine Skiing                79.142537\n",
              "Archery                      77.210767\n",
              "Art Competitions             77.933333\n",
              "Athletics                    72.086167\n",
              "Badminton                    73.959437\n",
              "Baseball                     84.131350\n",
              "Basketball                   78.560583\n",
              "Beach Volleyball             83.509804\n",
              "Biathlon                     72.619969\n",
              "Bobsleigh                    89.218625\n",
              "Boxing                       68.805464\n",
              "Canoeing                     78.885836\n",
              "Cross Country Skiing         72.013646\n",
              "Curling                      81.121827\n",
              "Cycling                      72.572144\n",
              "Diving                       69.941541\n",
              "Equestrianism                71.131241\n",
              "Fencing                      74.639399\n",
              "Figure Skating               70.916139\n",
              "Football                     73.235920\n",
              "Freestyle Skiing             74.852381\n",
              "Golf                         79.116279\n",
              "Gymnastics                   66.786002\n",
              "Handball                     82.996945\n",
              "Hockey                       74.009376\n",
              "Ice Hockey                   82.838792\n",
              "Judo                         83.188591\n",
              "Lacrosse                     79.500000\n",
              "Luge                         80.476757\n",
              "Modern Pentathlon            71.912645\n",
              "Motorboating                 77.000000\n",
              "Nordic Combined              66.906283\n",
              "Rowing                       79.018539\n",
              "Rugby                        79.913043\n",
              "Rugby Sevens                 87.747826\n",
              "Sailing                      77.788225\n",
              "Shooting                     78.632866\n",
              "Short Track Speed Skating    72.168869\n",
              "Skeleton                     81.164948\n",
              "Ski Jumping                  65.387470\n",
              "Snowboarding                 77.488017\n",
              "Speed Skating                76.446341\n",
              "Swimming                     75.299219\n",
              "Table Tennis                 72.264666\n",
              "Taekwondo                    70.748792\n",
              "Tennis                       76.986301\n",
              "Trampolining                 68.304348\n",
              "Triathlon                    68.379310\n",
              "Tug-Of-War                   95.666667\n",
              "Volleyball                   78.951267\n",
              "Water Polo                   82.168487\n",
              "Weightlifting                88.239204\n",
              "Wrestling                    83.296804\n",
              "Name: Weight, dtype: float64"
            ]
          },
          "metadata": {},
          "execution_count": 44
        }
      ]
    },
    {
      "cell_type": "code",
      "source": [
        "#Male weight\n",
        "Males = Males[Males.Sport != 'Polo']\n",
        "weight = Males[(Males['Weight'].isna())]\n",
        "print(Males['Weight'].isna().sum())\n",
        "for index, row in weight.iterrows():\n",
        "    sport = row[12]\n",
        "    if dropped_null_values_weight_males.index.str.contains(sport).any() :\n",
        "      print( dropped_null_values_weight_males[sport])\n",
        "      Males.loc[index,['Weight']] = dropped_null_values_weight_males[sport]\n",
        "\n"
      ],
      "metadata": {
        "colab": {
          "base_uri": "https://localhost:8080/"
        },
        "id": "-OBGgiPlR3yF",
        "outputId": "e6f9346a-5d8b-45ae-f5b5-a77ccdcc2b7c"
      },
      "execution_count": 55,
      "outputs": [
        {
          "output_type": "stream",
          "name": "stdout",
          "text": [
            "115\n"
          ]
        }
      ]
    },
    {
      "cell_type": "code",
      "source": [
        "Males.isna().sum()/len(Males) *100"
      ],
      "metadata": {
        "colab": {
          "base_uri": "https://localhost:8080/"
        },
        "id": "VT-2KN31An0F",
        "outputId": "ec6e1af4-42e3-466e-9fce-f48a3ccc8600"
      },
      "execution_count": 57,
      "outputs": [
        {
          "output_type": "execute_result",
          "data": {
            "text/plain": [
              "ID         0.000000\n",
              "Name       0.000000\n",
              "Sex        0.000000\n",
              "Age        5.824258\n",
              "Height     0.062619\n",
              "Weight     0.078274\n",
              "Team       0.000000\n",
              "NOC        0.000000\n",
              "Games      0.000000\n",
              "Year       0.000000\n",
              "Season     0.000000\n",
              "City       0.000000\n",
              "Sport      0.000000\n",
              "Event      0.000000\n",
              "Medal     85.929077\n",
              "region     0.006806\n",
              "notes     97.812415\n",
              "dtype: float64"
            ]
          },
          "metadata": {},
          "execution_count": 57
        }
      ]
    },
    {
      "cell_type": "code",
      "source": [
        "#Female height\n",
        "height = Females[(Females['Height'].isna())]\n",
        "for index, row in height.iterrows():\n",
        "    sport = row[12]\n",
        "    if dropped_null_values_height_females.index.str.contains(sport).any() :\n",
        "      Females.loc[index,['Height']] = dropped_null_values_height_females[sport]\n",
        "\n",
        "Females.isna().sum()/len(Females) *100"
      ],
      "metadata": {
        "colab": {
          "base_uri": "https://localhost:8080/"
        },
        "id": "BM30XCC2fiEe",
        "outputId": "79551f88-b878-44f2-bb1c-73dd03c9e137"
      },
      "execution_count": 58,
      "outputs": [
        {
          "output_type": "execute_result",
          "data": {
            "text/plain": [
              "ID         0.000000\n",
              "Name       0.000000\n",
              "Sex        0.000000\n",
              "Age        0.916277\n",
              "Height     0.018990\n",
              "Weight    17.314311\n",
              "Team       0.000000\n",
              "NOC        0.000000\n",
              "Games      0.000000\n",
              "Year       0.000000\n",
              "Season     0.000000\n",
              "City       0.000000\n",
              "Sport      0.000000\n",
              "Event      0.000000\n",
              "Medal     85.769222\n",
              "region     0.004748\n",
              "notes     98.675434\n",
              "dtype: float64"
            ]
          },
          "metadata": {},
          "execution_count": 58
        }
      ]
    },
    {
      "cell_type": "code",
      "source": [
        "#Female weight\n",
        "weight = Females[(Females['Weight'].isna())]\n",
        "for index, row in weight.iterrows():\n",
        "    sport = row[12]\n",
        "    if dropped_null_values_weight_females.index.str.contains(sport).any() :\n",
        "      Females.loc[index,['Weight']] = dropped_null_values_weight_females[sport]\n",
        "\n",
        "Females.isna().sum()/len(Females) *100"
      ],
      "metadata": {
        "colab": {
          "base_uri": "https://localhost:8080/"
        },
        "id": "OcUI5iM8EDKZ",
        "outputId": "27a3b944-dcd0-4256-faf3-eced5179e487"
      },
      "execution_count": 59,
      "outputs": [
        {
          "output_type": "execute_result",
          "data": {
            "text/plain": [
              "ID         0.000000\n",
              "Name       0.000000\n",
              "Sex        0.000000\n",
              "Age        0.916277\n",
              "Height     0.018990\n",
              "Weight     0.569706\n",
              "Team       0.000000\n",
              "NOC        0.000000\n",
              "Games      0.000000\n",
              "Year       0.000000\n",
              "Season     0.000000\n",
              "City       0.000000\n",
              "Sport      0.000000\n",
              "Event      0.000000\n",
              "Medal     85.769222\n",
              "region     0.004748\n",
              "notes     98.675434\n",
              "dtype: float64"
            ]
          },
          "metadata": {},
          "execution_count": 59
        }
      ]
    },
    {
      "cell_type": "code",
      "source": [
        "frames = [Females, Males]\n",
        "Olympics_data_cleaned = pd.concat(frames)\n",
        "Olympics_data_cleaned.isna().sum()/len(Olympics_data_cleaned) *100"
      ],
      "metadata": {
        "colab": {
          "base_uri": "https://localhost:8080/"
        },
        "id": "5LPn6yeGEQGm",
        "outputId": "4e7f279f-22d0-4c65-a092-47aa992ff3aa"
      },
      "execution_count": 65,
      "outputs": [
        {
          "output_type": "execute_result",
          "data": {
            "text/plain": [
              "ID         0.000000\n",
              "Name       0.000000\n",
              "Sex        0.000000\n",
              "Age        4.730570\n",
              "Height     0.052897\n",
              "Weight     0.187784\n",
              "Team       0.000000\n",
              "NOC        0.000000\n",
              "Games      0.000000\n",
              "Year       0.000000\n",
              "Season     0.000000\n",
              "City       0.000000\n",
              "Sport      0.000000\n",
              "Event      0.000000\n",
              "Medal     85.893455\n",
              "region     0.006348\n",
              "notes     98.004729\n",
              "dtype: float64"
            ]
          },
          "metadata": {},
          "execution_count": 65
        }
      ]
    },
    {
      "cell_type": "code",
      "source": [
        ""
      ],
      "metadata": {
        "id": "KqyEwSE9E7X4"
      },
      "execution_count": null,
      "outputs": []
    }
  ]
}