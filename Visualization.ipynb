{
  "nbformat": 4,
  "nbformat_minor": 0,
  "metadata": {
    "colab": {
      "name": "Untitled5.ipynb",
      "provenance": [],
      "include_colab_link": true
    },
    "kernelspec": {
      "name": "python3",
      "display_name": "Python 3"
    },
    "language_info": {
      "name": "python"
    }
  },
  "cells": [
    {
      "cell_type": "markdown",
      "metadata": {
        "id": "view-in-github",
        "colab_type": "text"
      },
      "source": [
        "<a href=\"https://colab.research.google.com/github/Nourankh20/Data-Visualization/blob/mohamed/Visualization.ipynb\" target=\"_parent\"><img src=\"https://colab.research.google.com/assets/colab-badge.svg\" alt=\"Open In Colab\"/></a>"
      ]
    },
    {
      "cell_type": "code",
      "metadata": {
        "id": "xRnIzd1gFC-i"
      },
      "source": [
        "import pandas as pd\n",
        "import numpy as np\n",
        "def get_path(dataset_name,env_name='colab'):\n",
        "    \"\"\"\n",
        "    This function is used to return the path of the dataset you want to use. \n",
        "    \n",
        "    @params:\n",
        "    dataset_name: the name of the dataset. \n",
        "    env_name: it has two values either local, or colab the default is colab\n",
        "    \"\"\"\n",
        "    prefix = 'https://raw.githubusercontent.com/Nourankh20/Data-Visualization/main/datasets/'\n",
        "    if env_name == 'colab':\n",
        "        return prefix+dataset_name\n",
        "    else:\n",
        "        return f'../datasets/{dataset_name}'\n"
      ],
      "execution_count": null,
      "outputs": []
    },
    {
      "cell_type": "code",
      "source": [
        "athlete_events_df =  pd.read_csv(get_path('athlete_events.csv'))"
      ],
      "metadata": {
        "id": "p58-Y-FZUPuN"
      },
      "execution_count": null,
      "outputs": []
    },
    {
      "cell_type": "code",
      "source": [
        "athlete_events_df.head()"
      ],
      "metadata": {
        "id": "dIPiwTowWNWp",
        "outputId": "754f6f02-e55c-4b81-c5dc-df6be5b61fe3",
        "colab": {
          "base_uri": "https://localhost:8080/",
          "height": 206
        }
      },
      "execution_count": null,
      "outputs": [
        {
          "output_type": "execute_result",
          "data": {
            "text/html": [
              "<div>\n",
              "<style scoped>\n",
              "    .dataframe tbody tr th:only-of-type {\n",
              "        vertical-align: middle;\n",
              "    }\n",
              "\n",
              "    .dataframe tbody tr th {\n",
              "        vertical-align: top;\n",
              "    }\n",
              "\n",
              "    .dataframe thead th {\n",
              "        text-align: right;\n",
              "    }\n",
              "</style>\n",
              "<table border=\"1\" class=\"dataframe\">\n",
              "  <thead>\n",
              "    <tr style=\"text-align: right;\">\n",
              "      <th></th>\n",
              "      <th>ID</th>\n",
              "      <th>Name</th>\n",
              "      <th>Sex</th>\n",
              "      <th>Age</th>\n",
              "      <th>Height</th>\n",
              "      <th>Weight</th>\n",
              "      <th>Team</th>\n",
              "      <th>NOC</th>\n",
              "      <th>Games</th>\n",
              "      <th>Year</th>\n",
              "      <th>Season</th>\n",
              "      <th>City</th>\n",
              "      <th>Sport</th>\n",
              "      <th>Event</th>\n",
              "      <th>Medal</th>\n",
              "    </tr>\n",
              "  </thead>\n",
              "  <tbody>\n",
              "    <tr>\n",
              "      <th>0</th>\n",
              "      <td>1</td>\n",
              "      <td>A Dijiang</td>\n",
              "      <td>M</td>\n",
              "      <td>24.0</td>\n",
              "      <td>180.0</td>\n",
              "      <td>80.0</td>\n",
              "      <td>China</td>\n",
              "      <td>CHN</td>\n",
              "      <td>1992 Summer</td>\n",
              "      <td>1992</td>\n",
              "      <td>Summer</td>\n",
              "      <td>Barcelona</td>\n",
              "      <td>Basketball</td>\n",
              "      <td>Basketball Men's Basketball</td>\n",
              "      <td>NaN</td>\n",
              "    </tr>\n",
              "    <tr>\n",
              "      <th>1</th>\n",
              "      <td>2</td>\n",
              "      <td>A Lamusi</td>\n",
              "      <td>M</td>\n",
              "      <td>23.0</td>\n",
              "      <td>170.0</td>\n",
              "      <td>60.0</td>\n",
              "      <td>China</td>\n",
              "      <td>CHN</td>\n",
              "      <td>2012 Summer</td>\n",
              "      <td>2012</td>\n",
              "      <td>Summer</td>\n",
              "      <td>London</td>\n",
              "      <td>Judo</td>\n",
              "      <td>Judo Men's Extra-Lightweight</td>\n",
              "      <td>NaN</td>\n",
              "    </tr>\n",
              "    <tr>\n",
              "      <th>2</th>\n",
              "      <td>3</td>\n",
              "      <td>Gunnar Nielsen Aaby</td>\n",
              "      <td>M</td>\n",
              "      <td>24.0</td>\n",
              "      <td>NaN</td>\n",
              "      <td>NaN</td>\n",
              "      <td>Denmark</td>\n",
              "      <td>DEN</td>\n",
              "      <td>1920 Summer</td>\n",
              "      <td>1920</td>\n",
              "      <td>Summer</td>\n",
              "      <td>Antwerpen</td>\n",
              "      <td>Football</td>\n",
              "      <td>Football Men's Football</td>\n",
              "      <td>NaN</td>\n",
              "    </tr>\n",
              "    <tr>\n",
              "      <th>3</th>\n",
              "      <td>4</td>\n",
              "      <td>Edgar Lindenau Aabye</td>\n",
              "      <td>M</td>\n",
              "      <td>34.0</td>\n",
              "      <td>NaN</td>\n",
              "      <td>NaN</td>\n",
              "      <td>Denmark/Sweden</td>\n",
              "      <td>DEN</td>\n",
              "      <td>1900 Summer</td>\n",
              "      <td>1900</td>\n",
              "      <td>Summer</td>\n",
              "      <td>Paris</td>\n",
              "      <td>Tug-Of-War</td>\n",
              "      <td>Tug-Of-War Men's Tug-Of-War</td>\n",
              "      <td>Gold</td>\n",
              "    </tr>\n",
              "    <tr>\n",
              "      <th>4</th>\n",
              "      <td>5</td>\n",
              "      <td>Christine Jacoba Aaftink</td>\n",
              "      <td>F</td>\n",
              "      <td>21.0</td>\n",
              "      <td>185.0</td>\n",
              "      <td>82.0</td>\n",
              "      <td>Netherlands</td>\n",
              "      <td>NED</td>\n",
              "      <td>1988 Winter</td>\n",
              "      <td>1988</td>\n",
              "      <td>Winter</td>\n",
              "      <td>Calgary</td>\n",
              "      <td>Speed Skating</td>\n",
              "      <td>Speed Skating Women's 500 metres</td>\n",
              "      <td>NaN</td>\n",
              "    </tr>\n",
              "  </tbody>\n",
              "</table>\n",
              "</div>"
            ],
            "text/plain": [
              "   ID                      Name  ...                             Event  Medal\n",
              "0   1                 A Dijiang  ...       Basketball Men's Basketball    NaN\n",
              "1   2                  A Lamusi  ...      Judo Men's Extra-Lightweight    NaN\n",
              "2   3       Gunnar Nielsen Aaby  ...           Football Men's Football    NaN\n",
              "3   4      Edgar Lindenau Aabye  ...       Tug-Of-War Men's Tug-Of-War   Gold\n",
              "4   5  Christine Jacoba Aaftink  ...  Speed Skating Women's 500 metres    NaN\n",
              "\n",
              "[5 rows x 15 columns]"
            ]
          },
          "metadata": {},
          "execution_count": 3
        }
      ]
    },
    {
      "cell_type": "code",
      "source": [
        "noc_regions = pd.read_csv(get_path('noc_regions.csv'))"
      ],
      "metadata": {
        "id": "UxwV5bglXuDn"
      },
      "execution_count": null,
      "outputs": []
    },
    {
      "cell_type": "code",
      "source": [
        "noc_regions.head()"
      ],
      "metadata": {
        "id": "KFiK0B7eYxfc",
        "outputId": "84c63eaf-b6c8-491e-8b11-4df316246625",
        "colab": {
          "base_uri": "https://localhost:8080/",
          "height": 206
        }
      },
      "execution_count": null,
      "outputs": [
        {
          "output_type": "execute_result",
          "data": {
            "text/html": [
              "<div>\n",
              "<style scoped>\n",
              "    .dataframe tbody tr th:only-of-type {\n",
              "        vertical-align: middle;\n",
              "    }\n",
              "\n",
              "    .dataframe tbody tr th {\n",
              "        vertical-align: top;\n",
              "    }\n",
              "\n",
              "    .dataframe thead th {\n",
              "        text-align: right;\n",
              "    }\n",
              "</style>\n",
              "<table border=\"1\" class=\"dataframe\">\n",
              "  <thead>\n",
              "    <tr style=\"text-align: right;\">\n",
              "      <th></th>\n",
              "      <th>NOC</th>\n",
              "      <th>region</th>\n",
              "      <th>notes</th>\n",
              "    </tr>\n",
              "  </thead>\n",
              "  <tbody>\n",
              "    <tr>\n",
              "      <th>0</th>\n",
              "      <td>AFG</td>\n",
              "      <td>Afghanistan</td>\n",
              "      <td>NaN</td>\n",
              "    </tr>\n",
              "    <tr>\n",
              "      <th>1</th>\n",
              "      <td>AHO</td>\n",
              "      <td>Curacao</td>\n",
              "      <td>Netherlands Antilles</td>\n",
              "    </tr>\n",
              "    <tr>\n",
              "      <th>2</th>\n",
              "      <td>ALB</td>\n",
              "      <td>Albania</td>\n",
              "      <td>NaN</td>\n",
              "    </tr>\n",
              "    <tr>\n",
              "      <th>3</th>\n",
              "      <td>ALG</td>\n",
              "      <td>Algeria</td>\n",
              "      <td>NaN</td>\n",
              "    </tr>\n",
              "    <tr>\n",
              "      <th>4</th>\n",
              "      <td>AND</td>\n",
              "      <td>Andorra</td>\n",
              "      <td>NaN</td>\n",
              "    </tr>\n",
              "  </tbody>\n",
              "</table>\n",
              "</div>"
            ],
            "text/plain": [
              "   NOC       region                 notes\n",
              "0  AFG  Afghanistan                   NaN\n",
              "1  AHO      Curacao  Netherlands Antilles\n",
              "2  ALB      Albania                   NaN\n",
              "3  ALG      Algeria                   NaN\n",
              "4  AND      Andorra                   NaN"
            ]
          },
          "metadata": {},
          "execution_count": 5
        }
      ]
    },
    {
      "cell_type": "markdown",
      "source": [
        "#Merging the 2 datasets into one dataset called df"
      ],
      "metadata": {
        "id": "rFOL3xwXul1-"
      }
    },
    {
      "cell_type": "code",
      "source": [
        "df = pd.merge(athlete_events_df,noc_regions,left_on='NOC',right_on='NOC')"
      ],
      "metadata": {
        "id": "mUOOq7X0aYRv"
      },
      "execution_count": null,
      "outputs": []
    },
    {
      "cell_type": "code",
      "source": [
        "df.head()\n",
        "df = df.drop_duplicates()\n",
        "df.head()"
      ],
      "metadata": {
        "id": "JQSNROd2dMH5",
        "outputId": "90d8e92e-d856-4bfb-82e4-9ee54657d25f",
        "colab": {
          "base_uri": "https://localhost:8080/",
          "height": 206
        }
      },
      "execution_count": null,
      "outputs": [
        {
          "output_type": "execute_result",
          "data": {
            "text/html": [
              "<div>\n",
              "<style scoped>\n",
              "    .dataframe tbody tr th:only-of-type {\n",
              "        vertical-align: middle;\n",
              "    }\n",
              "\n",
              "    .dataframe tbody tr th {\n",
              "        vertical-align: top;\n",
              "    }\n",
              "\n",
              "    .dataframe thead th {\n",
              "        text-align: right;\n",
              "    }\n",
              "</style>\n",
              "<table border=\"1\" class=\"dataframe\">\n",
              "  <thead>\n",
              "    <tr style=\"text-align: right;\">\n",
              "      <th></th>\n",
              "      <th>ID</th>\n",
              "      <th>Name</th>\n",
              "      <th>Sex</th>\n",
              "      <th>Age</th>\n",
              "      <th>Height</th>\n",
              "      <th>Weight</th>\n",
              "      <th>Team</th>\n",
              "      <th>NOC</th>\n",
              "      <th>Games</th>\n",
              "      <th>Year</th>\n",
              "      <th>Season</th>\n",
              "      <th>City</th>\n",
              "      <th>Sport</th>\n",
              "      <th>Event</th>\n",
              "      <th>Medal</th>\n",
              "      <th>region</th>\n",
              "      <th>notes</th>\n",
              "    </tr>\n",
              "  </thead>\n",
              "  <tbody>\n",
              "    <tr>\n",
              "      <th>0</th>\n",
              "      <td>1</td>\n",
              "      <td>A Dijiang</td>\n",
              "      <td>M</td>\n",
              "      <td>24.0</td>\n",
              "      <td>180.0</td>\n",
              "      <td>80.0</td>\n",
              "      <td>China</td>\n",
              "      <td>CHN</td>\n",
              "      <td>1992 Summer</td>\n",
              "      <td>1992</td>\n",
              "      <td>Summer</td>\n",
              "      <td>Barcelona</td>\n",
              "      <td>Basketball</td>\n",
              "      <td>Basketball Men's Basketball</td>\n",
              "      <td>NaN</td>\n",
              "      <td>China</td>\n",
              "      <td>NaN</td>\n",
              "    </tr>\n",
              "    <tr>\n",
              "      <th>1</th>\n",
              "      <td>2</td>\n",
              "      <td>A Lamusi</td>\n",
              "      <td>M</td>\n",
              "      <td>23.0</td>\n",
              "      <td>170.0</td>\n",
              "      <td>60.0</td>\n",
              "      <td>China</td>\n",
              "      <td>CHN</td>\n",
              "      <td>2012 Summer</td>\n",
              "      <td>2012</td>\n",
              "      <td>Summer</td>\n",
              "      <td>London</td>\n",
              "      <td>Judo</td>\n",
              "      <td>Judo Men's Extra-Lightweight</td>\n",
              "      <td>NaN</td>\n",
              "      <td>China</td>\n",
              "      <td>NaN</td>\n",
              "    </tr>\n",
              "    <tr>\n",
              "      <th>2</th>\n",
              "      <td>602</td>\n",
              "      <td>Abudoureheman</td>\n",
              "      <td>M</td>\n",
              "      <td>22.0</td>\n",
              "      <td>182.0</td>\n",
              "      <td>75.0</td>\n",
              "      <td>China</td>\n",
              "      <td>CHN</td>\n",
              "      <td>2000 Summer</td>\n",
              "      <td>2000</td>\n",
              "      <td>Summer</td>\n",
              "      <td>Sydney</td>\n",
              "      <td>Boxing</td>\n",
              "      <td>Boxing Men's Middleweight</td>\n",
              "      <td>NaN</td>\n",
              "      <td>China</td>\n",
              "      <td>NaN</td>\n",
              "    </tr>\n",
              "    <tr>\n",
              "      <th>3</th>\n",
              "      <td>1463</td>\n",
              "      <td>Ai Linuer</td>\n",
              "      <td>M</td>\n",
              "      <td>25.0</td>\n",
              "      <td>160.0</td>\n",
              "      <td>62.0</td>\n",
              "      <td>China</td>\n",
              "      <td>CHN</td>\n",
              "      <td>2004 Summer</td>\n",
              "      <td>2004</td>\n",
              "      <td>Summer</td>\n",
              "      <td>Athina</td>\n",
              "      <td>Wrestling</td>\n",
              "      <td>Wrestling Men's Lightweight, Greco-Roman</td>\n",
              "      <td>NaN</td>\n",
              "      <td>China</td>\n",
              "      <td>NaN</td>\n",
              "    </tr>\n",
              "    <tr>\n",
              "      <th>4</th>\n",
              "      <td>1464</td>\n",
              "      <td>Ai Yanhan</td>\n",
              "      <td>F</td>\n",
              "      <td>14.0</td>\n",
              "      <td>168.0</td>\n",
              "      <td>54.0</td>\n",
              "      <td>China</td>\n",
              "      <td>CHN</td>\n",
              "      <td>2016 Summer</td>\n",
              "      <td>2016</td>\n",
              "      <td>Summer</td>\n",
              "      <td>Rio de Janeiro</td>\n",
              "      <td>Swimming</td>\n",
              "      <td>Swimming Women's 200 metres Freestyle</td>\n",
              "      <td>NaN</td>\n",
              "      <td>China</td>\n",
              "      <td>NaN</td>\n",
              "    </tr>\n",
              "  </tbody>\n",
              "</table>\n",
              "</div>"
            ],
            "text/plain": [
              "     ID           Name Sex  ...  Medal  region  notes\n",
              "0     1      A Dijiang   M  ...    NaN   China    NaN\n",
              "1     2       A Lamusi   M  ...    NaN   China    NaN\n",
              "2   602  Abudoureheman   M  ...    NaN   China    NaN\n",
              "3  1463      Ai Linuer   M  ...    NaN   China    NaN\n",
              "4  1464      Ai Yanhan   F  ...    NaN   China    NaN\n",
              "\n",
              "[5 rows x 17 columns]"
            ]
          },
          "metadata": {},
          "execution_count": 7
        }
      ]
    },
    {
      "cell_type": "code",
      "source": [
        "null_values_percentages = df.isna().sum()/len(df) *100\n",
        "null_values_percentages"
      ],
      "metadata": {
        "id": "lRHsFqoAdMy6",
        "outputId": "0e569ebf-b0c7-4342-dd5b-6703aaa13744",
        "colab": {
          "base_uri": "https://localhost:8080/"
        }
      },
      "execution_count": null,
      "outputs": [
        {
          "output_type": "execute_result",
          "data": {
            "text/plain": [
              "ID         0.000000\n",
              "Name       0.000000\n",
              "Sex        0.000000\n",
              "Age        3.453460\n",
              "Height    21.800269\n",
              "Weight    22.806646\n",
              "Team       0.000000\n",
              "NOC        0.000000\n",
              "Games      0.000000\n",
              "Year       0.000000\n",
              "Season     0.000000\n",
              "City       0.000000\n",
              "Sport      0.000000\n",
              "Event      0.000000\n",
              "Medal     85.239177\n",
              "region     0.007796\n",
              "notes     98.130907\n",
              "dtype: float64"
            ]
          },
          "metadata": {},
          "execution_count": 8
        }
      ]
    },
    {
      "cell_type": "markdown",
      "source": [
        "# Dealing with outliers in Height\n"
      ],
      "metadata": {
        "id": "XLLuKL3Xu1pc"
      }
    },
    {
      "cell_type": "code",
      "source": [
        "import seaborn as sns\n",
        "\n",
        "Females= df[df['Sex']=='F']\n",
        "Males=df[df['Sex']=='M']\n",
        "\n",
        "\n",
        "sports_height_females = Females.groupby(['Sport','region'])['Height'].mean()\n",
        "sports_height_males = Males.groupby(['Sport','region'])['Height'].mean()\n",
        "\n",
        "\n",
        "dropped_null_values_height_females = sports_height_females.dropna(how='all')\n",
        "dropped_null_values_height_females.values\n",
        "\n",
        "dropped_null_values_height_males = sports_height_males.dropna(how='all')\n",
        "dropped_null_values_height_males\n",
        "\n",
        "ay = sns.boxplot(x=dropped_null_values_height_females)\n",
        "\n",
        "\n"
      ],
      "metadata": {
        "colab": {
          "base_uri": "https://localhost:8080/",
          "height": 279
        },
        "id": "HR037_y4XEW4",
        "outputId": "7460df3e-fa46-4695-fb20-de58f1631519"
      },
      "execution_count": null,
      "outputs": [
        {
          "output_type": "display_data",
          "data": {
            "image/png": "[encoded data removed]",
            "text/plain": [
              "<Figure size 432x288 with 1 Axes>"
            ]
          },
          "metadata": {
            "needs_background": "light"
          }
        }
      ]
    },
    {
      "cell_type": "code",
      "source": [
        "ay = sns.boxplot(x=dropped_null_values_height_males)\n"
      ],
      "metadata": {
        "colab": {
          "base_uri": "https://localhost:8080/",
          "height": 279
        },
        "id": "RO3X3ZV_hDtJ",
        "outputId": "ec00caab-c547-4634-d4f9-a5342a752119"
      },
      "execution_count": null,
      "outputs": [
        {
          "output_type": "display_data",
          "data": {
            "image/png": "[encoded data removed]",
            "text/plain": [
              "<Figure size 432x288 with 1 Axes>"
            ]
          },
          "metadata": {
            "needs_background": "light"
          }
        }
      ]
    },
    {
      "cell_type": "code",
      "source": [
        "#Removed outliers in female height\n",
        "\n",
        "Q1 = np.percentile(dropped_null_values_height_females.values, 25,interpolation = 'midpoint')\n",
        "Q3 = np.percentile(dropped_null_values_height_females.values, 75,interpolation = 'midpoint')\n",
        "IQR = Q3 - Q1\n",
        "\n",
        "\n",
        "Females = Females[~(Females['Height'] >= (Q3+1.5*IQR))]\n",
        "Females = Females[~(Females['Height'] <= (Q1-1.5*IQR))]\n",
        "\n",
        "\n",
        "\n",
        "\n",
        "#Removed outliers in male height\n",
        "\n",
        "Q1 = np.percentile(dropped_null_values_height_males.values, 25,interpolation = 'midpoint')\n",
        "Q3 = np.percentile(dropped_null_values_height_males.values, 75,interpolation = 'midpoint')\n",
        "IQR = Q3 - Q1\n",
        "\n",
        "Males = Males[~(Males['Height'] >= (Q3+1.5*IQR))]\n",
        "Males = Males[~(Males['Height'] <= (Q1-1.5*IQR))]\n",
        "\n",
        "\n"
      ],
      "metadata": {
        "id": "r0_VCUXxhrlT"
      },
      "execution_count": null,
      "outputs": []
    },
    {
      "cell_type": "code",
      "source": [
        "ax = sns.boxplot(x=Females['Height'])\n"
      ],
      "metadata": {
        "colab": {
          "base_uri": "https://localhost:8080/",
          "height": 279
        },
        "id": "HZPVk5IpuxyE",
        "outputId": "51425c2f-17c8-4131-b7aa-a03e94096551"
      },
      "execution_count": null,
      "outputs": [
        {
          "output_type": "display_data",
          "data": {
            "image/png": "[encoded data removed]",
            "text/plain": [
              "<Figure size 432x288 with 1 Axes>"
            ]
          },
          "metadata": {
            "needs_background": "light"
          }
        }
      ]
    },
    {
      "cell_type": "code",
      "source": [
        "ax = sns.boxplot(x=Males['Height'])\n"
      ],
      "metadata": {
        "colab": {
          "base_uri": "https://localhost:8080/",
          "height": 279
        },
        "id": "eNNlDlE5t0eo",
        "outputId": "422224a6-6084-4d71-bb00-cee28b019a31"
      },
      "execution_count": null,
      "outputs": [
        {
          "output_type": "display_data",
          "data": {
            "image/png": "[encoded data removed]",
            "text/plain": [
              "<Figure size 432x288 with 1 Axes>"
            ]
          },
          "metadata": {
            "needs_background": "light"
          }
        }
      ]
    },
    {
      "cell_type": "code",
      "source": [
        "\n",
        "sports_weight_females = Females.groupby(['Sport', 'region'])['Weight'].mean()\n",
        "sports_weight_males = Males.groupby(['Sport', 'region'])['Weight'].mean()\n",
        "\n",
        "\n",
        "dropped_null_values_weight_females = sports_weight_females.dropna(how='all')\n",
        "dropped_null_values_weight_females.values\n",
        "\n",
        "dropped_null_values_weight_males = sports_weight_males.dropna(how='all')\n",
        "dropped_null_values_weight_males\n",
        "\n",
        "\n",
        "ay = sns.boxplot(x=dropped_null_values_weight_females)\n",
        "\n",
        "Males.isna().sum()/len(Males) *100\n",
        "\n"
      ],
      "metadata": {
        "colab": {
          "base_uri": "https://localhost:8080/",
          "height": 591
        },
        "id": "Y1_585VVZit_",
        "outputId": "bc876295-fa38-4fa3-e7bf-a882b0e7d988"
      },
      "execution_count": null,
      "outputs": [
        {
          "output_type": "execute_result",
          "data": {
            "text/plain": [
              "ID         0.000000\n",
              "Name       0.000000\n",
              "Sex        0.000000\n",
              "Age        4.797316\n",
              "Height    28.044054\n",
              "Weight    29.105307\n",
              "Team       0.000000\n",
              "NOC        0.000000\n",
              "Games      0.000000\n",
              "Year       0.000000\n",
              "Season     0.000000\n",
              "City       0.000000\n",
              "Sport      0.000000\n",
              "Event      0.000000\n",
              "Medal     85.812931\n",
              "region     0.007046\n",
              "notes     97.894840\n",
              "dtype: float64"
            ]
          },
          "metadata": {},
          "execution_count": 14
        },
        {
          "output_type": "display_data",
          "data": {
            "image/png": "[encoded data removed]",
            "text/plain": [
              "<Figure size 432x288 with 1 Axes>"
            ]
          },
          "metadata": {
            "needs_background": "light"
          }
        }
      ]
    },
    {
      "cell_type": "code",
      "source": [
        "ay = sns.boxplot(x=dropped_null_values_weight_males)\n",
        "\n"
      ],
      "metadata": {
        "colab": {
          "base_uri": "https://localhost:8080/",
          "height": 279
        },
        "id": "n1osDP3AZl9E",
        "outputId": "00151b41-6f23-4464-fffb-2a024416762b"
      },
      "execution_count": null,
      "outputs": [
        {
          "output_type": "display_data",
          "data": {
            "image/png": "[encoded data removed]",
            "text/plain": [
              "<Figure size 432x288 with 1 Axes>"
            ]
          },
          "metadata": {
            "needs_background": "light"
          }
        }
      ]
    },
    {
      "cell_type": "code",
      "source": [
        "\n",
        "#Removed outliers in female weight\n",
        "\n",
        "Q1 = np.percentile(dropped_null_values_weight_females.values, 25,interpolation = 'midpoint')\n",
        "Q3 = np.percentile(dropped_null_values_weight_females.values, 75,interpolation = 'midpoint')\n",
        "IQR = Q3 - Q1\n",
        "\n",
        "Females = Females[~(Females['Weight'] >= (Q3+1.5*IQR))]\n",
        "Females = Females[~(Females['Weight'] <= (Q1-1.5*IQR))]\n",
        "\n",
        "\n",
        "#Removed outliers in male weight\n",
        "\n",
        "Q1 = np.percentile(dropped_null_values_weight_males.values, 25,interpolation = 'midpoint')\n",
        "Q3 = np.percentile(dropped_null_values_weight_males.values, 75,interpolation = 'midpoint')\n",
        "IQR = Q3 - Q1\n",
        "\n",
        "Males = Males[~(Males['Weight'] >= (Q3+1.5*IQR))]\n",
        "Males = Males[~(Males['Weight'] <= (Q1-1.5*IQR))]\n",
        "\n",
        "ay = sns.boxplot(x=Females['Weight'])\n",
        "\n"
      ],
      "metadata": {
        "colab": {
          "base_uri": "https://localhost:8080/",
          "height": 279
        },
        "id": "W1CZjHwnswHW",
        "outputId": "40b07776-394f-453f-aa31-c5f91e00e6f9"
      },
      "execution_count": null,
      "outputs": [
        {
          "output_type": "display_data",
          "data": {
            "image/png": "[encoded data removed]",
            "text/plain": [
              "<Figure size 432x288 with 1 Axes>"
            ]
          },
          "metadata": {
            "needs_background": "light"
          }
        }
      ]
    },
    {
      "cell_type": "code",
      "source": [
        "ay = sns.boxplot(x=Males['Weight'])\n"
      ],
      "metadata": {
        "colab": {
          "base_uri": "https://localhost:8080/",
          "height": 279
        },
        "id": "K8I7nNVfvTnj",
        "outputId": "531b865e-abe8-4647-b66e-e2ffadcd69b1"
      },
      "execution_count": null,
      "outputs": [
        {
          "output_type": "display_data",
          "data": {
            "image/png": "[encoded data removed]",
            "text/plain": [
              "<Figure size 432x288 with 1 Axes>"
            ]
          },
          "metadata": {
            "needs_background": "light"
          }
        }
      ]
    },
    {
      "cell_type": "code",
      "source": [
        "Males.head()"
      ],
      "metadata": {
        "id": "Oo-mM1VHufxN",
        "outputId": "1b2628b5-7289-4c74-8f65-fc1d838599d8",
        "colab": {
          "base_uri": "https://localhost:8080/",
          "height": 206
        }
      },
      "execution_count": null,
      "outputs": [
        {
          "output_type": "execute_result",
          "data": {
            "text/html": [
              "<div>\n",
              "<style scoped>\n",
              "    .dataframe tbody tr th:only-of-type {\n",
              "        vertical-align: middle;\n",
              "    }\n",
              "\n",
              "    .dataframe tbody tr th {\n",
              "        vertical-align: top;\n",
              "    }\n",
              "\n",
              "    .dataframe thead th {\n",
              "        text-align: right;\n",
              "    }\n",
              "</style>\n",
              "<table border=\"1\" class=\"dataframe\">\n",
              "  <thead>\n",
              "    <tr style=\"text-align: right;\">\n",
              "      <th></th>\n",
              "      <th>ID</th>\n",
              "      <th>Name</th>\n",
              "      <th>Sex</th>\n",
              "      <th>Age</th>\n",
              "      <th>Height</th>\n",
              "      <th>Weight</th>\n",
              "      <th>Team</th>\n",
              "      <th>NOC</th>\n",
              "      <th>Games</th>\n",
              "      <th>Year</th>\n",
              "      <th>Season</th>\n",
              "      <th>City</th>\n",
              "      <th>Sport</th>\n",
              "      <th>Event</th>\n",
              "      <th>Medal</th>\n",
              "      <th>region</th>\n",
              "      <th>notes</th>\n",
              "    </tr>\n",
              "  </thead>\n",
              "  <tbody>\n",
              "    <tr>\n",
              "      <th>0</th>\n",
              "      <td>1</td>\n",
              "      <td>A Dijiang</td>\n",
              "      <td>M</td>\n",
              "      <td>24.0</td>\n",
              "      <td>180.0</td>\n",
              "      <td>80.0</td>\n",
              "      <td>China</td>\n",
              "      <td>CHN</td>\n",
              "      <td>1992 Summer</td>\n",
              "      <td>1992</td>\n",
              "      <td>Summer</td>\n",
              "      <td>Barcelona</td>\n",
              "      <td>Basketball</td>\n",
              "      <td>Basketball Men's Basketball</td>\n",
              "      <td>NaN</td>\n",
              "      <td>China</td>\n",
              "      <td>NaN</td>\n",
              "    </tr>\n",
              "    <tr>\n",
              "      <th>1</th>\n",
              "      <td>2</td>\n",
              "      <td>A Lamusi</td>\n",
              "      <td>M</td>\n",
              "      <td>23.0</td>\n",
              "      <td>170.0</td>\n",
              "      <td>60.0</td>\n",
              "      <td>China</td>\n",
              "      <td>CHN</td>\n",
              "      <td>2012 Summer</td>\n",
              "      <td>2012</td>\n",
              "      <td>Summer</td>\n",
              "      <td>London</td>\n",
              "      <td>Judo</td>\n",
              "      <td>Judo Men's Extra-Lightweight</td>\n",
              "      <td>NaN</td>\n",
              "      <td>China</td>\n",
              "      <td>NaN</td>\n",
              "    </tr>\n",
              "    <tr>\n",
              "      <th>2</th>\n",
              "      <td>602</td>\n",
              "      <td>Abudoureheman</td>\n",
              "      <td>M</td>\n",
              "      <td>22.0</td>\n",
              "      <td>182.0</td>\n",
              "      <td>75.0</td>\n",
              "      <td>China</td>\n",
              "      <td>CHN</td>\n",
              "      <td>2000 Summer</td>\n",
              "      <td>2000</td>\n",
              "      <td>Summer</td>\n",
              "      <td>Sydney</td>\n",
              "      <td>Boxing</td>\n",
              "      <td>Boxing Men's Middleweight</td>\n",
              "      <td>NaN</td>\n",
              "      <td>China</td>\n",
              "      <td>NaN</td>\n",
              "    </tr>\n",
              "    <tr>\n",
              "      <th>6</th>\n",
              "      <td>3605</td>\n",
              "      <td>An Weijiang</td>\n",
              "      <td>M</td>\n",
              "      <td>22.0</td>\n",
              "      <td>178.0</td>\n",
              "      <td>72.0</td>\n",
              "      <td>China</td>\n",
              "      <td>CHN</td>\n",
              "      <td>2006 Winter</td>\n",
              "      <td>2006</td>\n",
              "      <td>Winter</td>\n",
              "      <td>Torino</td>\n",
              "      <td>Speed Skating</td>\n",
              "      <td>Speed Skating Men's 500 metres</td>\n",
              "      <td>NaN</td>\n",
              "      <td>China</td>\n",
              "      <td>NaN</td>\n",
              "    </tr>\n",
              "    <tr>\n",
              "      <th>7</th>\n",
              "      <td>3605</td>\n",
              "      <td>An Weijiang</td>\n",
              "      <td>M</td>\n",
              "      <td>22.0</td>\n",
              "      <td>178.0</td>\n",
              "      <td>72.0</td>\n",
              "      <td>China</td>\n",
              "      <td>CHN</td>\n",
              "      <td>2006 Winter</td>\n",
              "      <td>2006</td>\n",
              "      <td>Winter</td>\n",
              "      <td>Torino</td>\n",
              "      <td>Speed Skating</td>\n",
              "      <td>Speed Skating Men's 1,000 metres</td>\n",
              "      <td>NaN</td>\n",
              "      <td>China</td>\n",
              "      <td>NaN</td>\n",
              "    </tr>\n",
              "  </tbody>\n",
              "</table>\n",
              "</div>"
            ],
            "text/plain": [
              "     ID           Name Sex  ...  Medal  region  notes\n",
              "0     1      A Dijiang   M  ...    NaN   China    NaN\n",
              "1     2       A Lamusi   M  ...    NaN   China    NaN\n",
              "2   602  Abudoureheman   M  ...    NaN   China    NaN\n",
              "6  3605    An Weijiang   M  ...    NaN   China    NaN\n",
              "7  3605    An Weijiang   M  ...    NaN   China    NaN\n",
              "\n",
              "[5 rows x 17 columns]"
            ]
          },
          "metadata": {},
          "execution_count": 18
        }
      ]
    },
    {
      "cell_type": "code",
      "source": [
        "Males['Weight']\n",
        "Males.isna().sum()/len(Males) *100\n"
      ],
      "metadata": {
        "id": "Z8emUmcSvS7T",
        "colab": {
          "base_uri": "https://localhost:8080/"
        },
        "outputId": "a87163f2-9a7e-45a4-86db-f39fc6dfa161"
      },
      "execution_count": null,
      "outputs": [
        {
          "output_type": "execute_result",
          "data": {
            "text/plain": [
              "ID         0.000000\n",
              "Name       0.000000\n",
              "Sex        0.000000\n",
              "Age        4.946647\n",
              "Height    28.954285\n",
              "Weight    30.157812\n",
              "Team       0.000000\n",
              "NOC        0.000000\n",
              "Games      0.000000\n",
              "Year       0.000000\n",
              "Season     0.000000\n",
              "City       0.000000\n",
              "Sport      0.000000\n",
              "Event      0.000000\n",
              "Medal     85.928339\n",
              "region     0.007301\n",
              "notes     97.869258\n",
              "dtype: float64"
            ]
          },
          "metadata": {},
          "execution_count": 19
        }
      ]
    },
    {
      "cell_type": "code",
      "source": [
        "#Male height nan\n",
        "height = Males[(Males['Height'].isna())]\n",
        "for index, row in height.iterrows():\n",
        "    sport = row[12]  \n",
        "    region = row[15] \n",
        "    new_height = dropped_null_values_height_males[(dropped_null_values_height_males.index.get_level_values(1) == region) \n",
        "    & (dropped_null_values_height_males.index.get_level_values(0) == sport)  ].values\n",
        "\n",
        "    if len(new_height) > 0 :\n",
        "      Males.loc[index,['Height']] = new_height[0]\n",
        "\n"
      ],
      "metadata": {
        "id": "uRNylaa2w-7E"
      },
      "execution_count": null,
      "outputs": []
    },
    {
      "cell_type": "code",
      "source": [
        "Males.isna().sum()/len(Males)  *100"
      ],
      "metadata": {
        "colab": {
          "base_uri": "https://localhost:8080/"
        },
        "id": "tnUJmOUo4wsa",
        "outputId": "9d011267-dd99-4d96-d0df-6c8ee059e1a2"
      },
      "execution_count": null,
      "outputs": [
        {
          "output_type": "execute_result",
          "data": {
            "text/plain": [
              "ID         0.000000\n",
              "Name       0.000000\n",
              "Sex        0.000000\n",
              "Age        4.946647\n",
              "Height     1.275413\n",
              "Weight    30.157812\n",
              "Team       0.000000\n",
              "NOC        0.000000\n",
              "Games      0.000000\n",
              "Year       0.000000\n",
              "Season     0.000000\n",
              "City       0.000000\n",
              "Sport      0.000000\n",
              "Event      0.000000\n",
              "Medal     85.928339\n",
              "region     0.007301\n",
              "notes     97.869258\n",
              "dtype: float64"
            ]
          },
          "metadata": {},
          "execution_count": 21
        }
      ]
    },
    {
      "cell_type": "code",
      "source": [
        "Males"
      ],
      "metadata": {
        "colab": {
          "base_uri": "https://localhost:8080/",
          "height": 423
        },
        "id": "SNk-vSuPiKKB",
        "outputId": "a3862845-e06e-4911-83a3-aa9fc9b2614d"
      },
      "execution_count": null,
      "outputs": [
        {
          "output_type": "execute_result",
          "data": {
            "text/html": [
              "<div>\n",
              "<style scoped>\n",
              "    .dataframe tbody tr th:only-of-type {\n",
              "        vertical-align: middle;\n",
              "    }\n",
              "\n",
              "    .dataframe tbody tr th {\n",
              "        vertical-align: top;\n",
              "    }\n",
              "\n",
              "    .dataframe thead th {\n",
              "        text-align: right;\n",
              "    }\n",
              "</style>\n",
              "<table border=\"1\" class=\"dataframe\">\n",
              "  <thead>\n",
              "    <tr style=\"text-align: right;\">\n",
              "      <th></th>\n",
              "      <th>ID</th>\n",
              "      <th>Name</th>\n",
              "      <th>Sex</th>\n",
              "      <th>Age</th>\n",
              "      <th>Height</th>\n",
              "      <th>Weight</th>\n",
              "      <th>Team</th>\n",
              "      <th>NOC</th>\n",
              "      <th>Games</th>\n",
              "      <th>Year</th>\n",
              "      <th>Season</th>\n",
              "      <th>City</th>\n",
              "      <th>Sport</th>\n",
              "      <th>Event</th>\n",
              "      <th>Medal</th>\n",
              "      <th>region</th>\n",
              "      <th>notes</th>\n",
              "    </tr>\n",
              "  </thead>\n",
              "  <tbody>\n",
              "    <tr>\n",
              "      <th>0</th>\n",
              "      <td>1</td>\n",
              "      <td>A Dijiang</td>\n",
              "      <td>M</td>\n",
              "      <td>24.0</td>\n",
              "      <td>180.000000</td>\n",
              "      <td>80.0</td>\n",
              "      <td>China</td>\n",
              "      <td>CHN</td>\n",
              "      <td>1992 Summer</td>\n",
              "      <td>1992</td>\n",
              "      <td>Summer</td>\n",
              "      <td>Barcelona</td>\n",
              "      <td>Basketball</td>\n",
              "      <td>Basketball Men's Basketball</td>\n",
              "      <td>NaN</td>\n",
              "      <td>China</td>\n",
              "      <td>NaN</td>\n",
              "    </tr>\n",
              "    <tr>\n",
              "      <th>1</th>\n",
              "      <td>2</td>\n",
              "      <td>A Lamusi</td>\n",
              "      <td>M</td>\n",
              "      <td>23.0</td>\n",
              "      <td>170.000000</td>\n",
              "      <td>60.0</td>\n",
              "      <td>China</td>\n",
              "      <td>CHN</td>\n",
              "      <td>2012 Summer</td>\n",
              "      <td>2012</td>\n",
              "      <td>Summer</td>\n",
              "      <td>London</td>\n",
              "      <td>Judo</td>\n",
              "      <td>Judo Men's Extra-Lightweight</td>\n",
              "      <td>NaN</td>\n",
              "      <td>China</td>\n",
              "      <td>NaN</td>\n",
              "    </tr>\n",
              "    <tr>\n",
              "      <th>2</th>\n",
              "      <td>602</td>\n",
              "      <td>Abudoureheman</td>\n",
              "      <td>M</td>\n",
              "      <td>22.0</td>\n",
              "      <td>182.000000</td>\n",
              "      <td>75.0</td>\n",
              "      <td>China</td>\n",
              "      <td>CHN</td>\n",
              "      <td>2000 Summer</td>\n",
              "      <td>2000</td>\n",
              "      <td>Summer</td>\n",
              "      <td>Sydney</td>\n",
              "      <td>Boxing</td>\n",
              "      <td>Boxing Men's Middleweight</td>\n",
              "      <td>NaN</td>\n",
              "      <td>China</td>\n",
              "      <td>NaN</td>\n",
              "    </tr>\n",
              "    <tr>\n",
              "      <th>6</th>\n",
              "      <td>3605</td>\n",
              "      <td>An Weijiang</td>\n",
              "      <td>M</td>\n",
              "      <td>22.0</td>\n",
              "      <td>178.000000</td>\n",
              "      <td>72.0</td>\n",
              "      <td>China</td>\n",
              "      <td>CHN</td>\n",
              "      <td>2006 Winter</td>\n",
              "      <td>2006</td>\n",
              "      <td>Winter</td>\n",
              "      <td>Torino</td>\n",
              "      <td>Speed Skating</td>\n",
              "      <td>Speed Skating Men's 500 metres</td>\n",
              "      <td>NaN</td>\n",
              "      <td>China</td>\n",
              "      <td>NaN</td>\n",
              "    </tr>\n",
              "    <tr>\n",
              "      <th>7</th>\n",
              "      <td>3605</td>\n",
              "      <td>An Weijiang</td>\n",
              "      <td>M</td>\n",
              "      <td>22.0</td>\n",
              "      <td>178.000000</td>\n",
              "      <td>72.0</td>\n",
              "      <td>China</td>\n",
              "      <td>CHN</td>\n",
              "      <td>2006 Winter</td>\n",
              "      <td>2006</td>\n",
              "      <td>Winter</td>\n",
              "      <td>Torino</td>\n",
              "      <td>Speed Skating</td>\n",
              "      <td>Speed Skating Men's 1,000 metres</td>\n",
              "      <td>NaN</td>\n",
              "      <td>China</td>\n",
              "      <td>NaN</td>\n",
              "    </tr>\n",
              "    <tr>\n",
              "      <th>...</th>\n",
              "      <td>...</td>\n",
              "      <td>...</td>\n",
              "      <td>...</td>\n",
              "      <td>...</td>\n",
              "      <td>...</td>\n",
              "      <td>...</td>\n",
              "      <td>...</td>\n",
              "      <td>...</td>\n",
              "      <td>...</td>\n",
              "      <td>...</td>\n",
              "      <td>...</td>\n",
              "      <td>...</td>\n",
              "      <td>...</td>\n",
              "      <td>...</td>\n",
              "      <td>...</td>\n",
              "      <td>...</td>\n",
              "      <td>...</td>\n",
              "    </tr>\n",
              "    <tr>\n",
              "      <th>270753</th>\n",
              "      <td>109447</td>\n",
              "      <td>Bothloko Shebe</td>\n",
              "      <td>M</td>\n",
              "      <td>20.0</td>\n",
              "      <td>178.000000</td>\n",
              "      <td>65.0</td>\n",
              "      <td>Lesotho</td>\n",
              "      <td>LES</td>\n",
              "      <td>1992 Summer</td>\n",
              "      <td>1992</td>\n",
              "      <td>Summer</td>\n",
              "      <td>Barcelona</td>\n",
              "      <td>Athletics</td>\n",
              "      <td>Athletics Men's 100 metres</td>\n",
              "      <td>NaN</td>\n",
              "      <td>Lesotho</td>\n",
              "      <td>NaN</td>\n",
              "    </tr>\n",
              "    <tr>\n",
              "      <th>270754</th>\n",
              "      <td>109447</td>\n",
              "      <td>Bothloko Shebe</td>\n",
              "      <td>M</td>\n",
              "      <td>20.0</td>\n",
              "      <td>178.000000</td>\n",
              "      <td>65.0</td>\n",
              "      <td>Lesotho</td>\n",
              "      <td>LES</td>\n",
              "      <td>1992 Summer</td>\n",
              "      <td>1992</td>\n",
              "      <td>Summer</td>\n",
              "      <td>Barcelona</td>\n",
              "      <td>Athletics</td>\n",
              "      <td>Athletics Men's 200 metres</td>\n",
              "      <td>NaN</td>\n",
              "      <td>Lesotho</td>\n",
              "      <td>NaN</td>\n",
              "    </tr>\n",
              "    <tr>\n",
              "      <th>270758</th>\n",
              "      <td>116595</td>\n",
              "      <td>Inkululeko Suntele</td>\n",
              "      <td>M</td>\n",
              "      <td>22.0</td>\n",
              "      <td>165.857143</td>\n",
              "      <td>NaN</td>\n",
              "      <td>Lesotho</td>\n",
              "      <td>LES</td>\n",
              "      <td>2016 Summer</td>\n",
              "      <td>2016</td>\n",
              "      <td>Summer</td>\n",
              "      <td>Rio de Janeiro</td>\n",
              "      <td>Boxing</td>\n",
              "      <td>Boxing Men's Bantamweight</td>\n",
              "      <td>NaN</td>\n",
              "      <td>Lesotho</td>\n",
              "      <td>NaN</td>\n",
              "    </tr>\n",
              "    <tr>\n",
              "      <th>270765</th>\n",
              "      <td>122215</td>\n",
              "      <td>Lefa Tsapi</td>\n",
              "      <td>M</td>\n",
              "      <td>23.0</td>\n",
              "      <td>170.000000</td>\n",
              "      <td>63.0</td>\n",
              "      <td>Lesotho</td>\n",
              "      <td>LES</td>\n",
              "      <td>1984 Summer</td>\n",
              "      <td>1984</td>\n",
              "      <td>Summer</td>\n",
              "      <td>Los Angeles</td>\n",
              "      <td>Boxing</td>\n",
              "      <td>Boxing Men's Welterweight</td>\n",
              "      <td>NaN</td>\n",
              "      <td>Lesotho</td>\n",
              "      <td>NaN</td>\n",
              "    </tr>\n",
              "    <tr>\n",
              "      <th>270766</th>\n",
              "      <td>122299</td>\n",
              "      <td>Mosolesa Tsie</td>\n",
              "      <td>M</td>\n",
              "      <td>20.0</td>\n",
              "      <td>175.000000</td>\n",
              "      <td>75.0</td>\n",
              "      <td>Lesotho</td>\n",
              "      <td>LES</td>\n",
              "      <td>2000 Summer</td>\n",
              "      <td>2000</td>\n",
              "      <td>Summer</td>\n",
              "      <td>Sydney</td>\n",
              "      <td>Boxing</td>\n",
              "      <td>Boxing Men's Welterweight</td>\n",
              "      <td>NaN</td>\n",
              "      <td>Lesotho</td>\n",
              "      <td>NaN</td>\n",
              "    </tr>\n",
              "  </tbody>\n",
              "</table>\n",
              "<p>178060 rows × 17 columns</p>\n",
              "</div>"
            ],
            "text/plain": [
              "            ID                Name Sex  ...  Medal   region  notes\n",
              "0            1           A Dijiang   M  ...    NaN    China    NaN\n",
              "1            2            A Lamusi   M  ...    NaN    China    NaN\n",
              "2          602       Abudoureheman   M  ...    NaN    China    NaN\n",
              "6         3605         An Weijiang   M  ...    NaN    China    NaN\n",
              "7         3605         An Weijiang   M  ...    NaN    China    NaN\n",
              "...        ...                 ...  ..  ...    ...      ...    ...\n",
              "270753  109447      Bothloko Shebe   M  ...    NaN  Lesotho    NaN\n",
              "270754  109447      Bothloko Shebe   M  ...    NaN  Lesotho    NaN\n",
              "270758  116595  Inkululeko Suntele   M  ...    NaN  Lesotho    NaN\n",
              "270765  122215          Lefa Tsapi   M  ...    NaN  Lesotho    NaN\n",
              "270766  122299       Mosolesa Tsie   M  ...    NaN  Lesotho    NaN\n",
              "\n",
              "[178060 rows x 17 columns]"
            ]
          },
          "metadata": {},
          "execution_count": 22
        }
      ]
    },
    {
      "cell_type": "code",
      "source": [
        "#Male weight\n",
        "weight = Males[(Males['Weight'].isna())]\n",
        "for index, row in weight.iterrows():\n",
        "    sport = row[12]  \n",
        "    region = row[15] \n",
        "    new_weight = dropped_null_values_weight_males[(dropped_null_values_weight_males.index.get_level_values(1) == region) \n",
        "    & (dropped_null_values_weight_males.index.get_level_values(0) == sport)  ].values\n",
        "    \n",
        "    if len(new_weight) > 0 :\n",
        "      Males.loc[index,['Weight']] = new_weight[0]\n",
        "\n",
        "\n"
      ],
      "metadata": {
        "id": "-OBGgiPlR3yF"
      },
      "execution_count": null,
      "outputs": []
    },
    {
      "cell_type": "code",
      "source": [
        "Males.isna().sum()/len(Males) *100"
      ],
      "metadata": {
        "colab": {
          "base_uri": "https://localhost:8080/"
        },
        "id": "VT-2KN31An0F",
        "outputId": "236179e7-9a19-4588-be41-53f8e74bfc57"
      },
      "execution_count": null,
      "outputs": [
        {
          "output_type": "execute_result",
          "data": {
            "text/plain": [
              "ID         0.000000\n",
              "Name       0.000000\n",
              "Sex        0.000000\n",
              "Age        4.946647\n",
              "Height     1.275413\n",
              "Weight     1.491632\n",
              "Team       0.000000\n",
              "NOC        0.000000\n",
              "Games      0.000000\n",
              "Year       0.000000\n",
              "Season     0.000000\n",
              "City       0.000000\n",
              "Sport      0.000000\n",
              "Event      0.000000\n",
              "Medal     85.928339\n",
              "region     0.007301\n",
              "notes     97.869258\n",
              "dtype: float64"
            ]
          },
          "metadata": {},
          "execution_count": 24
        }
      ]
    },
    {
      "cell_type": "code",
      "source": [
        "#Female height\n",
        "height = Females[(Females['Height'].isna())]\n",
        "for index, row in height.iterrows():\n",
        "    sport = row[12]  \n",
        "    region = row[15] \n",
        "    new_height = dropped_null_values_height_females[(dropped_null_values_height_females.index.get_level_values(1) == region) \n",
        "    & (dropped_null_values_height_females.index.get_level_values(0) == sport)].values\n",
        "\n",
        "    if len(new_height) > 0 :\n",
        "      Females.loc[index,['Height']] = new_height[0]\n",
        "\n",
        "Females.isna().sum()/len(Females) *100"
      ],
      "metadata": {
        "colab": {
          "base_uri": "https://localhost:8080/"
        },
        "id": "BM30XCC2fiEe",
        "outputId": "537c7333-32a8-4730-cb06-f045c374d4fd"
      },
      "execution_count": null,
      "outputs": [
        {
          "output_type": "execute_result",
          "data": {
            "text/plain": [
              "ID         0.000000\n",
              "Name       0.000000\n",
              "Sex        0.000000\n",
              "Age        0.600720\n",
              "Height     0.773887\n",
              "Weight    11.528618\n",
              "Team       0.000000\n",
              "NOC        0.000000\n",
              "Games      0.000000\n",
              "Year       0.000000\n",
              "Season     0.000000\n",
              "City       0.000000\n",
              "Sport      0.000000\n",
              "Event      0.000000\n",
              "Medal     85.567389\n",
              "region     0.010727\n",
              "notes     98.712742\n",
              "dtype: float64"
            ]
          },
          "metadata": {},
          "execution_count": 25
        }
      ]
    },
    {
      "cell_type": "code",
      "source": [
        "#Female weight\n",
        "weight = Females[(Females['Weight'].isna())]\n",
        "for index, row in weight.iterrows():\n",
        "    sport = row[12]  \n",
        "    region = row[15] \n",
        "    new_weight = dropped_null_values_weight_females[(dropped_null_values_weight_females.index.get_level_values(1) == region) \n",
        "    & (dropped_null_values_weight_females.index.get_level_values(0) == sport)  ].values\n",
        "    \n",
        "    if len(new_weight) > 0 :\n",
        "      Females.loc[index,['Weight']] = new_weight[0]\n",
        "\n",
        "\n",
        "Females.isna().sum()/len(Females) *100"
      ],
      "metadata": {
        "colab": {
          "base_uri": "https://localhost:8080/"
        },
        "id": "OcUI5iM8EDKZ",
        "outputId": "12d951cd-c46b-4f0d-f835-255a14a8177f"
      },
      "execution_count": null,
      "outputs": [
        {
          "output_type": "execute_result",
          "data": {
            "text/plain": [
              "ID         0.000000\n",
              "Name       0.000000\n",
              "Sex        0.000000\n",
              "Age        0.600720\n",
              "Height     0.773887\n",
              "Weight     0.864302\n",
              "Team       0.000000\n",
              "NOC        0.000000\n",
              "Games      0.000000\n",
              "Year       0.000000\n",
              "Season     0.000000\n",
              "City       0.000000\n",
              "Sport      0.000000\n",
              "Event      0.000000\n",
              "Medal     85.567389\n",
              "region     0.010727\n",
              "notes     98.712742\n",
              "dtype: float64"
            ]
          },
          "metadata": {},
          "execution_count": 26
        }
      ]
    },
    {
      "cell_type": "code",
      "source": [
        "frames = [Females, Males]\n",
        "Olympics_data_cleaned = pd.concat(frames)\n",
        "Olympics_data_cleaned.isna().sum()/len(Olympics_data_cleaned) *100"
      ],
      "metadata": {
        "colab": {
          "base_uri": "https://localhost:8080/"
        },
        "id": "5LPn6yeGEQGm",
        "outputId": "f64fa09d-77a8-41d1-ed0a-2c5fc525fb53"
      },
      "execution_count": null,
      "outputs": [
        {
          "output_type": "execute_result",
          "data": {
            "text/plain": [
              "ID         0.000000\n",
              "Name       0.000000\n",
              "Sex        0.000000\n",
              "Age        3.781107\n",
              "Height     1.140908\n",
              "Weight     1.323387\n",
              "Team       0.000000\n",
              "NOC        0.000000\n",
              "Games      0.000000\n",
              "Year       0.000000\n",
              "Season     0.000000\n",
              "City       0.000000\n",
              "Sport      0.000000\n",
              "Event      0.000000\n",
              "Medal     85.831535\n",
              "region     0.008220\n",
              "notes     98.095473\n",
              "dtype: float64"
            ]
          },
          "metadata": {},
          "execution_count": 27
        }
      ]
    },
    {
      "cell_type": "code",
      "source": [
        "# Function to map country to city\n",
        "def host_country(col):\n",
        "    if col == \"Rio de Janeiro\":\n",
        "        return \"Brazil\"\n",
        "    elif col == \"London\":\n",
        "        return \"United Kingdom\"\n",
        "    elif col == \"Beijing\":\n",
        "        return  \"China\"\n",
        "    elif col == \"Athina\":\n",
        "        return  \"Greece\"\n",
        "    elif col == \"Sydney\" or col == \"Melbourne\":\n",
        "        return  \"Australia\"\n",
        "    elif col == \"Atlanta\" or col == \"Los Angeles\" or col == \"St. Louis\":\n",
        "        return  \"United States of America\"\n",
        "    elif col == \"Barcelona\":\n",
        "        return  \"Spain\"\n",
        "    elif col == \"Seoul\":\n",
        "        return  \"South Korea\"\n",
        "    elif col == \"Moskva\":\n",
        "        return  \"Russia\"\n",
        "    elif col == \"Montreal\":\n",
        "        return  \"Canada\"\n",
        "    elif col == \"Munich\" or col == \"Berlin\":\n",
        "        return  \"Germany\"\n",
        "    elif col == \"Mexico City\":\n",
        "        return  \"Mexico\"\n",
        "    elif col == \"Tokyo\":\n",
        "        return  \"Japan\"\n",
        "    elif col == \"Roma\":\n",
        "        return  \"Italy\"\n",
        "    elif col == \"Paris\":\n",
        "        return  \"France\"\n",
        "    elif col == \"Helsinki\":\n",
        "        return  \"Finland\"\n",
        "    elif col == \"Amsterdam\":\n",
        "        return  \"Netherlands\"\n",
        "    elif col == \"Antwerpen\":\n",
        "        return  \"Belgium\"\n",
        "    elif col == \"Stockholm\":\n",
        "        return  \"Sweden\"\n",
        "    else:\n",
        "        return \"Other\"\n",
        "\n",
        "\n",
        "# Applying this function\n",
        "Olympics_data_cleaned ['Host_Country'] = Olympics_data_cleaned['City'].apply(host_country)\n",
        "Olympics_data_cleaned.head()\n"
      ],
      "metadata": {
        "colab": {
          "base_uri": "https://localhost:8080/",
          "height": 293
        },
        "id": "KqyEwSE9E7X4",
        "outputId": "dc0028d3-2c0e-4428-e7dd-b26f75912197"
      },
      "execution_count": null,
      "outputs": [
        {
          "output_type": "execute_result",
          "data": {
            "text/html": [
              "<div>\n",
              "<style scoped>\n",
              "    .dataframe tbody tr th:only-of-type {\n",
              "        vertical-align: middle;\n",
              "    }\n",
              "\n",
              "    .dataframe tbody tr th {\n",
              "        vertical-align: top;\n",
              "    }\n",
              "\n",
              "    .dataframe thead th {\n",
              "        text-align: right;\n",
              "    }\n",
              "</style>\n",
              "<table border=\"1\" class=\"dataframe\">\n",
              "  <thead>\n",
              "    <tr style=\"text-align: right;\">\n",
              "      <th></th>\n",
              "      <th>ID</th>\n",
              "      <th>Name</th>\n",
              "      <th>Sex</th>\n",
              "      <th>Age</th>\n",
              "      <th>Height</th>\n",
              "      <th>Weight</th>\n",
              "      <th>Team</th>\n",
              "      <th>NOC</th>\n",
              "      <th>Games</th>\n",
              "      <th>Year</th>\n",
              "      <th>Season</th>\n",
              "      <th>City</th>\n",
              "      <th>Sport</th>\n",
              "      <th>Event</th>\n",
              "      <th>Medal</th>\n",
              "      <th>region</th>\n",
              "      <th>notes</th>\n",
              "      <th>Host_Country</th>\n",
              "    </tr>\n",
              "  </thead>\n",
              "  <tbody>\n",
              "    <tr>\n",
              "      <th>4</th>\n",
              "      <td>1464</td>\n",
              "      <td>Ai Yanhan</td>\n",
              "      <td>F</td>\n",
              "      <td>14.0</td>\n",
              "      <td>168.0</td>\n",
              "      <td>54.0</td>\n",
              "      <td>China</td>\n",
              "      <td>CHN</td>\n",
              "      <td>2016 Summer</td>\n",
              "      <td>2016</td>\n",
              "      <td>Summer</td>\n",
              "      <td>Rio de Janeiro</td>\n",
              "      <td>Swimming</td>\n",
              "      <td>Swimming Women's 200 metres Freestyle</td>\n",
              "      <td>NaN</td>\n",
              "      <td>China</td>\n",
              "      <td>NaN</td>\n",
              "      <td>Brazil</td>\n",
              "    </tr>\n",
              "    <tr>\n",
              "      <th>5</th>\n",
              "      <td>1464</td>\n",
              "      <td>Ai Yanhan</td>\n",
              "      <td>F</td>\n",
              "      <td>14.0</td>\n",
              "      <td>168.0</td>\n",
              "      <td>54.0</td>\n",
              "      <td>China</td>\n",
              "      <td>CHN</td>\n",
              "      <td>2016 Summer</td>\n",
              "      <td>2016</td>\n",
              "      <td>Summer</td>\n",
              "      <td>Rio de Janeiro</td>\n",
              "      <td>Swimming</td>\n",
              "      <td>Swimming Women's 4 x 200 metres Freestyle Relay</td>\n",
              "      <td>NaN</td>\n",
              "      <td>China</td>\n",
              "      <td>NaN</td>\n",
              "      <td>Brazil</td>\n",
              "    </tr>\n",
              "    <tr>\n",
              "      <th>12</th>\n",
              "      <td>3611</td>\n",
              "      <td>An Zhongxin</td>\n",
              "      <td>F</td>\n",
              "      <td>23.0</td>\n",
              "      <td>170.0</td>\n",
              "      <td>65.0</td>\n",
              "      <td>China</td>\n",
              "      <td>CHN</td>\n",
              "      <td>1996 Summer</td>\n",
              "      <td>1996</td>\n",
              "      <td>Summer</td>\n",
              "      <td>Atlanta</td>\n",
              "      <td>Softball</td>\n",
              "      <td>Softball Women's Softball</td>\n",
              "      <td>Silver</td>\n",
              "      <td>China</td>\n",
              "      <td>NaN</td>\n",
              "      <td>United States of America</td>\n",
              "    </tr>\n",
              "    <tr>\n",
              "      <th>13</th>\n",
              "      <td>3611</td>\n",
              "      <td>An Zhongxin</td>\n",
              "      <td>F</td>\n",
              "      <td>27.0</td>\n",
              "      <td>170.0</td>\n",
              "      <td>65.0</td>\n",
              "      <td>China</td>\n",
              "      <td>CHN</td>\n",
              "      <td>2000 Summer</td>\n",
              "      <td>2000</td>\n",
              "      <td>Summer</td>\n",
              "      <td>Sydney</td>\n",
              "      <td>Softball</td>\n",
              "      <td>Softball Women's Softball</td>\n",
              "      <td>NaN</td>\n",
              "      <td>China</td>\n",
              "      <td>NaN</td>\n",
              "      <td>Australia</td>\n",
              "    </tr>\n",
              "    <tr>\n",
              "      <th>20</th>\n",
              "      <td>6847</td>\n",
              "      <td>Bai Anqi</td>\n",
              "      <td>F</td>\n",
              "      <td>19.0</td>\n",
              "      <td>164.0</td>\n",
              "      <td>59.0</td>\n",
              "      <td>China</td>\n",
              "      <td>CHN</td>\n",
              "      <td>2012 Summer</td>\n",
              "      <td>2012</td>\n",
              "      <td>Summer</td>\n",
              "      <td>London</td>\n",
              "      <td>Swimming</td>\n",
              "      <td>Swimming Women's 200 metres Backstroke</td>\n",
              "      <td>NaN</td>\n",
              "      <td>China</td>\n",
              "      <td>NaN</td>\n",
              "      <td>United Kingdom</td>\n",
              "    </tr>\n",
              "  </tbody>\n",
              "</table>\n",
              "</div>"
            ],
            "text/plain": [
              "      ID         Name Sex   Age  ...   Medal  region notes              Host_Country\n",
              "4   1464    Ai Yanhan   F  14.0  ...     NaN   China   NaN                    Brazil\n",
              "5   1464    Ai Yanhan   F  14.0  ...     NaN   China   NaN                    Brazil\n",
              "12  3611  An Zhongxin   F  23.0  ...  Silver   China   NaN  United States of America\n",
              "13  3611  An Zhongxin   F  27.0  ...     NaN   China   NaN                 Australia\n",
              "20  6847     Bai Anqi   F  19.0  ...     NaN   China   NaN            United Kingdom\n",
              "\n",
              "[5 rows x 18 columns]"
            ]
          },
          "metadata": {},
          "execution_count": 28
        }
      ]
    },
    {
      "cell_type": "code",
      "source": [
        "medals = Olympics_data_cleaned.groupby(['Year','Host_Country','region','Medal'])['Medal'].count().unstack().fillna(0).astype(int).reset_index()\n",
        "\n",
        "medals['Is_Host'] = np.where(medals['Host_Country'] == medals['region'],1,0)\n",
        "medals['Total Medals'] = medals['Bronze'] + medals['Silver'] + medals['Gold']\n",
        "medals.head()"
      ],
      "metadata": {
        "id": "nMV1V_MIcZPh",
        "outputId": "d57a5039-0baa-46ed-ecfd-cf42bedb4c6d",
        "colab": {
          "base_uri": "https://localhost:8080/",
          "height": 206
        }
      },
      "execution_count": null,
      "outputs": [
        {
          "output_type": "execute_result",
          "data": {
            "text/html": [
              "<div>\n",
              "<style scoped>\n",
              "    .dataframe tbody tr th:only-of-type {\n",
              "        vertical-align: middle;\n",
              "    }\n",
              "\n",
              "    .dataframe tbody tr th {\n",
              "        vertical-align: top;\n",
              "    }\n",
              "\n",
              "    .dataframe thead th {\n",
              "        text-align: right;\n",
              "    }\n",
              "</style>\n",
              "<table border=\"1\" class=\"dataframe\">\n",
              "  <thead>\n",
              "    <tr style=\"text-align: right;\">\n",
              "      <th>Medal</th>\n",
              "      <th>Year</th>\n",
              "      <th>Host_Country</th>\n",
              "      <th>region</th>\n",
              "      <th>Bronze</th>\n",
              "      <th>Gold</th>\n",
              "      <th>Silver</th>\n",
              "      <th>Is_Host</th>\n",
              "      <th>Total Medals</th>\n",
              "    </tr>\n",
              "  </thead>\n",
              "  <tbody>\n",
              "    <tr>\n",
              "      <th>0</th>\n",
              "      <td>1896</td>\n",
              "      <td>Greece</td>\n",
              "      <td>Australia</td>\n",
              "      <td>1</td>\n",
              "      <td>2</td>\n",
              "      <td>0</td>\n",
              "      <td>0</td>\n",
              "      <td>3</td>\n",
              "    </tr>\n",
              "    <tr>\n",
              "      <th>1</th>\n",
              "      <td>1896</td>\n",
              "      <td>Greece</td>\n",
              "      <td>Austria</td>\n",
              "      <td>2</td>\n",
              "      <td>2</td>\n",
              "      <td>1</td>\n",
              "      <td>0</td>\n",
              "      <td>5</td>\n",
              "    </tr>\n",
              "    <tr>\n",
              "      <th>2</th>\n",
              "      <td>1896</td>\n",
              "      <td>Greece</td>\n",
              "      <td>Denmark</td>\n",
              "      <td>3</td>\n",
              "      <td>1</td>\n",
              "      <td>2</td>\n",
              "      <td>0</td>\n",
              "      <td>6</td>\n",
              "    </tr>\n",
              "    <tr>\n",
              "      <th>3</th>\n",
              "      <td>1896</td>\n",
              "      <td>Greece</td>\n",
              "      <td>France</td>\n",
              "      <td>2</td>\n",
              "      <td>5</td>\n",
              "      <td>4</td>\n",
              "      <td>0</td>\n",
              "      <td>11</td>\n",
              "    </tr>\n",
              "    <tr>\n",
              "      <th>4</th>\n",
              "      <td>1896</td>\n",
              "      <td>Greece</td>\n",
              "      <td>Germany</td>\n",
              "      <td>2</td>\n",
              "      <td>21</td>\n",
              "      <td>5</td>\n",
              "      <td>0</td>\n",
              "      <td>28</td>\n",
              "    </tr>\n",
              "  </tbody>\n",
              "</table>\n",
              "</div>"
            ],
            "text/plain": [
              "Medal  Year Host_Country     region  ...  Silver  Is_Host  Total Medals\n",
              "0      1896       Greece  Australia  ...       0        0             3\n",
              "1      1896       Greece    Austria  ...       1        0             5\n",
              "2      1896       Greece    Denmark  ...       2        0             6\n",
              "3      1896       Greece     France  ...       4        0            11\n",
              "4      1896       Greece    Germany  ...       5        0            28\n",
              "\n",
              "[5 rows x 8 columns]"
            ]
          },
          "metadata": {},
          "execution_count": 29
        }
      ]
    },
    {
      "cell_type": "markdown",
      "source": [
        "#Getting the number of medals each Region has"
      ],
      "metadata": {
        "id": "np1uQcL3Q4YA"
      }
    },
    {
      "cell_type": "code",
      "source": [
        "total_medals = Olympics_data_cleaned.groupby(['region','Medal'])['Medal'].count().unstack().fillna(0).astype(int)\n",
        "\n",
        "total_medals['Total'] = total_medals['Bronze'] + total_medals['Silver'] + total_medals['Gold']\n",
        "\n",
        "total_medals = total_medals[['Bronze','Silver','Gold','Total']].sort_values(by='Total', ascending=False)\n",
        "total_medals"
      ],
      "metadata": {
        "id": "vDufE8j8QR3v",
        "outputId": "d260f388-b03d-4c5f-fdb0-2de22b2b242f",
        "colab": {
          "base_uri": "https://localhost:8080/",
          "height": 455
        }
      },
      "execution_count": null,
      "outputs": [
        {
          "output_type": "execute_result",
          "data": {
            "text/html": [
              "<div>\n",
              "<style scoped>\n",
              "    .dataframe tbody tr th:only-of-type {\n",
              "        vertical-align: middle;\n",
              "    }\n",
              "\n",
              "    .dataframe tbody tr th {\n",
              "        vertical-align: top;\n",
              "    }\n",
              "\n",
              "    .dataframe thead th {\n",
              "        text-align: right;\n",
              "    }\n",
              "</style>\n",
              "<table border=\"1\" class=\"dataframe\">\n",
              "  <thead>\n",
              "    <tr style=\"text-align: right;\">\n",
              "      <th>Medal</th>\n",
              "      <th>Bronze</th>\n",
              "      <th>Silver</th>\n",
              "      <th>Gold</th>\n",
              "      <th>Total</th>\n",
              "    </tr>\n",
              "    <tr>\n",
              "      <th>region</th>\n",
              "      <th></th>\n",
              "      <th></th>\n",
              "      <th></th>\n",
              "      <th></th>\n",
              "    </tr>\n",
              "  </thead>\n",
              "  <tbody>\n",
              "    <tr>\n",
              "      <th>USA</th>\n",
              "      <td>1127</td>\n",
              "      <td>1383</td>\n",
              "      <td>2133</td>\n",
              "      <td>4643</td>\n",
              "    </tr>\n",
              "    <tr>\n",
              "      <th>Germany</th>\n",
              "      <td>1100</td>\n",
              "      <td>1064</td>\n",
              "      <td>1098</td>\n",
              "      <td>3262</td>\n",
              "    </tr>\n",
              "    <tr>\n",
              "      <th>Russia</th>\n",
              "      <td>943</td>\n",
              "      <td>940</td>\n",
              "      <td>1334</td>\n",
              "      <td>3217</td>\n",
              "    </tr>\n",
              "    <tr>\n",
              "      <th>UK</th>\n",
              "      <td>614</td>\n",
              "      <td>690</td>\n",
              "      <td>615</td>\n",
              "      <td>1919</td>\n",
              "    </tr>\n",
              "    <tr>\n",
              "      <th>France</th>\n",
              "      <td>618</td>\n",
              "      <td>544</td>\n",
              "      <td>462</td>\n",
              "      <td>1624</td>\n",
              "    </tr>\n",
              "    <tr>\n",
              "      <th>...</th>\n",
              "      <td>...</td>\n",
              "      <td>...</td>\n",
              "      <td>...</td>\n",
              "      <td>...</td>\n",
              "    </tr>\n",
              "    <tr>\n",
              "      <th>Guyana</th>\n",
              "      <td>1</td>\n",
              "      <td>0</td>\n",
              "      <td>0</td>\n",
              "      <td>1</td>\n",
              "    </tr>\n",
              "    <tr>\n",
              "      <th>Iraq</th>\n",
              "      <td>1</td>\n",
              "      <td>0</td>\n",
              "      <td>0</td>\n",
              "      <td>1</td>\n",
              "    </tr>\n",
              "    <tr>\n",
              "      <th>Jordan</th>\n",
              "      <td>0</td>\n",
              "      <td>0</td>\n",
              "      <td>1</td>\n",
              "      <td>1</td>\n",
              "    </tr>\n",
              "    <tr>\n",
              "      <th>Kosovo</th>\n",
              "      <td>0</td>\n",
              "      <td>0</td>\n",
              "      <td>1</td>\n",
              "      <td>1</td>\n",
              "    </tr>\n",
              "    <tr>\n",
              "      <th>Mauritius</th>\n",
              "      <td>1</td>\n",
              "      <td>0</td>\n",
              "      <td>0</td>\n",
              "      <td>1</td>\n",
              "    </tr>\n",
              "  </tbody>\n",
              "</table>\n",
              "<p>133 rows × 4 columns</p>\n",
              "</div>"
            ],
            "text/plain": [
              "Medal      Bronze  Silver  Gold  Total\n",
              "region                                \n",
              "USA          1127    1383  2133   4643\n",
              "Germany      1100    1064  1098   3262\n",
              "Russia        943     940  1334   3217\n",
              "UK            614     690   615   1919\n",
              "France        618     544   462   1624\n",
              "...           ...     ...   ...    ...\n",
              "Guyana          1       0     0      1\n",
              "Iraq            1       0     0      1\n",
              "Jordan          0       0     1      1\n",
              "Kosovo          0       0     1      1\n",
              "Mauritius       1       0     0      1\n",
              "\n",
              "[133 rows x 4 columns]"
            ]
          },
          "metadata": {},
          "execution_count": 30
        }
      ]
    },
    {
      "cell_type": "markdown",
      "source": [
        "#Representing the top 10 countries when they are the host in comparison to when they not\n"
      ],
      "metadata": {
        "id": "9ZJOwK13TYXy"
      }
    },
    {
      "cell_type": "code",
      "source": [
        "import matplotlib.pyplot as plt\n",
        "\n",
        "fig, ax = plt.subplots(1,1, figsize=(11, 5))\n",
        "\n",
        "\n",
        "# top 10\n",
        "top_list_ = medals.groupby('region')['Total Medals'].mean().sort_values(ascending=False).reset_index()[:10].sort_values(by='Total Medals',ascending=True)\n",
        "\n",
        "plot = 1\n",
        "for country in top_list_['region']:\n",
        "    mean = medals[medals['region'] == country].groupby('region')['Total Medals'].mean()\n",
        "\n",
        "    # historic scores\n",
        "    sns.scatterplot(data=medals[medals['region'] == country], y=plot, x='Total Medals',color='lightgray',s=50,ax=ax)\n",
        "\n",
        "    # mean score\n",
        "    sns.scatterplot(data=medals[medals['region'] == country], y=plot, x=mean,color='#0000c0',ec='black',linewidth=1,s=75,ax=ax)\n",
        "    \n",
        "    # Hosting score\n",
        "    sns.scatterplot(data=(medals[(medals['region'] == country) & (medals['Is_Host'] == 1)]), y=plot, x='Total Medals',color='#B73832',ec='black',linewidth=1,s=75,ax=ax)   \n",
        "    plot += 1\n",
        "\n",
        "Xstart, Xend = ax.get_xlim()\n",
        "Ystart, Yend = ax.get_ylim()\n",
        "\n",
        "ax.set_yticks(top_list_.index+1)\n",
        "ax.set_yticklabels(top_list_['region'][::-1], fontdict={'horizontalalignment': 'right'}, alpha=0.7)\n",
        "ax.tick_params(axis=u'both', which=u'both',length=0)\n",
        "ax.set_xlabel(\"Total Medals\",fontfamily='monospace',color='gray')\n",
        "\n",
        "ax.hlines(y=top_list_.index+1, xmin=0, xmax=Xend, color='gray', alpha=0.5, linewidth=.3, linestyles='--')\n",
        "ax.set_axisbelow(True)\n",
        "\n",
        "\n",
        "\n",
        "\n",
        "ax.text(0,Yend+3.5, 'Olympic Medals by Country: Hosts through the years', fontsize=15,fontweight='bold',color='#323232')\n",
        "ax.text(0,Yend+2.1, 'Hosting represented by the color red', fontsize=10,fontweight='bold',color='#B73832')\n",
        "ax.text(0,Yend+1, 'Average represented by the blue', fontsize=10,fontweight='bold',color='#0c005f')\n",
        "\n",
        "\n",
        "plt.show()\n",
        "\n"
      ],
      "metadata": {
        "id": "tnoo2rI1OOtS",
        "outputId": "c06ec0d2-e42d-4687-b64a-8b9e60c18e83",
        "colab": {
          "base_uri": "https://localhost:8080/",
          "height": 438
        }
      },
      "execution_count": null,
      "outputs": [
        {
          "output_type": "display_data",
          "data": {
            "image/png": "[encoded data removed]",
            "text/plain": [
              "<Figure size 792x360 with 1 Axes>"
            ]
          },
          "metadata": {
            "needs_background": "light"
          }
        }
      ]
    },
    {
      "cell_type": "code",
      "source": [
        "df = pd.merge(athlete_events_df,noc_regions,left_on='NOC',right_on='NOC')\n",
        "df.head()"
      ],
      "metadata": {
        "id": "2DgjGw2fOl7S",
        "outputId": "cafc9032-be03-44d7-a049-b4329dcc39c5",
        "colab": {
          "base_uri": "https://localhost:8080/",
          "height": 206
        }
      },
      "execution_count": null,
      "outputs": [
        {
          "output_type": "execute_result",
          "data": {
            "text/html": [
              "<div>\n",
              "<style scoped>\n",
              "    .dataframe tbody tr th:only-of-type {\n",
              "        vertical-align: middle;\n",
              "    }\n",
              "\n",
              "    .dataframe tbody tr th {\n",
              "        vertical-align: top;\n",
              "    }\n",
              "\n",
              "    .dataframe thead th {\n",
              "        text-align: right;\n",
              "    }\n",
              "</style>\n",
              "<table border=\"1\" class=\"dataframe\">\n",
              "  <thead>\n",
              "    <tr style=\"text-align: right;\">\n",
              "      <th></th>\n",
              "      <th>ID</th>\n",
              "      <th>Name</th>\n",
              "      <th>Sex</th>\n",
              "      <th>Age</th>\n",
              "      <th>Height</th>\n",
              "      <th>Weight</th>\n",
              "      <th>Team</th>\n",
              "      <th>NOC</th>\n",
              "      <th>Games</th>\n",
              "      <th>Year</th>\n",
              "      <th>Season</th>\n",
              "      <th>City</th>\n",
              "      <th>Sport</th>\n",
              "      <th>Event</th>\n",
              "      <th>Medal</th>\n",
              "      <th>region</th>\n",
              "      <th>notes</th>\n",
              "    </tr>\n",
              "  </thead>\n",
              "  <tbody>\n",
              "    <tr>\n",
              "      <th>0</th>\n",
              "      <td>1</td>\n",
              "      <td>A Dijiang</td>\n",
              "      <td>M</td>\n",
              "      <td>24.0</td>\n",
              "      <td>180.0</td>\n",
              "      <td>80.0</td>\n",
              "      <td>China</td>\n",
              "      <td>CHN</td>\n",
              "      <td>1992 Summer</td>\n",
              "      <td>1992</td>\n",
              "      <td>Summer</td>\n",
              "      <td>Barcelona</td>\n",
              "      <td>Basketball</td>\n",
              "      <td>Basketball Men's Basketball</td>\n",
              "      <td>NaN</td>\n",
              "      <td>China</td>\n",
              "      <td>NaN</td>\n",
              "    </tr>\n",
              "    <tr>\n",
              "      <th>1</th>\n",
              "      <td>2</td>\n",
              "      <td>A Lamusi</td>\n",
              "      <td>M</td>\n",
              "      <td>23.0</td>\n",
              "      <td>170.0</td>\n",
              "      <td>60.0</td>\n",
              "      <td>China</td>\n",
              "      <td>CHN</td>\n",
              "      <td>2012 Summer</td>\n",
              "      <td>2012</td>\n",
              "      <td>Summer</td>\n",
              "      <td>London</td>\n",
              "      <td>Judo</td>\n",
              "      <td>Judo Men's Extra-Lightweight</td>\n",
              "      <td>NaN</td>\n",
              "      <td>China</td>\n",
              "      <td>NaN</td>\n",
              "    </tr>\n",
              "    <tr>\n",
              "      <th>2</th>\n",
              "      <td>602</td>\n",
              "      <td>Abudoureheman</td>\n",
              "      <td>M</td>\n",
              "      <td>22.0</td>\n",
              "      <td>182.0</td>\n",
              "      <td>75.0</td>\n",
              "      <td>China</td>\n",
              "      <td>CHN</td>\n",
              "      <td>2000 Summer</td>\n",
              "      <td>2000</td>\n",
              "      <td>Summer</td>\n",
              "      <td>Sydney</td>\n",
              "      <td>Boxing</td>\n",
              "      <td>Boxing Men's Middleweight</td>\n",
              "      <td>NaN</td>\n",
              "      <td>China</td>\n",
              "      <td>NaN</td>\n",
              "    </tr>\n",
              "    <tr>\n",
              "      <th>3</th>\n",
              "      <td>1463</td>\n",
              "      <td>Ai Linuer</td>\n",
              "      <td>M</td>\n",
              "      <td>25.0</td>\n",
              "      <td>160.0</td>\n",
              "      <td>62.0</td>\n",
              "      <td>China</td>\n",
              "      <td>CHN</td>\n",
              "      <td>2004 Summer</td>\n",
              "      <td>2004</td>\n",
              "      <td>Summer</td>\n",
              "      <td>Athina</td>\n",
              "      <td>Wrestling</td>\n",
              "      <td>Wrestling Men's Lightweight, Greco-Roman</td>\n",
              "      <td>NaN</td>\n",
              "      <td>China</td>\n",
              "      <td>NaN</td>\n",
              "    </tr>\n",
              "    <tr>\n",
              "      <th>4</th>\n",
              "      <td>1464</td>\n",
              "      <td>Ai Yanhan</td>\n",
              "      <td>F</td>\n",
              "      <td>14.0</td>\n",
              "      <td>168.0</td>\n",
              "      <td>54.0</td>\n",
              "      <td>China</td>\n",
              "      <td>CHN</td>\n",
              "      <td>2016 Summer</td>\n",
              "      <td>2016</td>\n",
              "      <td>Summer</td>\n",
              "      <td>Rio de Janeiro</td>\n",
              "      <td>Swimming</td>\n",
              "      <td>Swimming Women's 200 metres Freestyle</td>\n",
              "      <td>NaN</td>\n",
              "      <td>China</td>\n",
              "      <td>NaN</td>\n",
              "    </tr>\n",
              "  </tbody>\n",
              "</table>\n",
              "</div>"
            ],
            "text/plain": [
              "     ID           Name Sex  ...  Medal  region  notes\n",
              "0     1      A Dijiang   M  ...    NaN   China    NaN\n",
              "1     2       A Lamusi   M  ...    NaN   China    NaN\n",
              "2   602  Abudoureheman   M  ...    NaN   China    NaN\n",
              "3  1463      Ai Linuer   M  ...    NaN   China    NaN\n",
              "4  1464      Ai Yanhan   F  ...    NaN   China    NaN\n",
              "\n",
              "[5 rows x 17 columns]"
            ]
          },
          "metadata": {},
          "execution_count": 32
        }
      ]
    },
    {
      "cell_type": "code",
      "source": [
        "# Function to map country to city\n",
        "def host_country(col):\n",
        "    if col == \"Rio de Janeiro\":\n",
        "        return \"Brazil\"\n",
        "    elif col == \"London\":\n",
        "        return \"UK\"\n",
        "    elif col == \"Beijing\":\n",
        "        return  \"China\"\n",
        "    elif col == \"Athina\":\n",
        "        return  \"Greece\"\n",
        "    elif col == \"Sydney\" or col == \"Melbourne\":\n",
        "        return  \"Australia\"\n",
        "    elif col == \"Atlanta\" or col == \"Los Angeles\" or col == \"St. Louis\":\n",
        "        return  \"USA\"\n",
        "    elif col == \"Barcelona\":\n",
        "        return  \"Spain\"\n",
        "    elif col == \"Seoul\":\n",
        "        return  \"South Korea\"\n",
        "    elif col == \"Moskva\":\n",
        "        return  \"Russia\"\n",
        "    elif col == \"Montreal\":\n",
        "        return  \"Canada\"\n",
        "    elif col == \"Munich\" or col == \"Berlin\":\n",
        "        return  \"Germany\"\n",
        "    elif col == \"Mexico City\":\n",
        "        return  \"Mexico\"\n",
        "    elif col == \"Tokyo\":\n",
        "        return  \"Japan\"\n",
        "    elif col == \"Roma\":\n",
        "        return  \"Italy\"\n",
        "    elif col == \"Paris\":\n",
        "        return  \"France\"\n",
        "    elif col == \"Helsinki\":\n",
        "        return  \"Finland\"\n",
        "    elif col == \"Amsterdam\":\n",
        "        return  \"Netherlands\"\n",
        "    elif col == \"Antwerpen\":\n",
        "        return  \"Belgium\"\n",
        "    elif col == \"Stockholm\":\n",
        "        return  \"Sweden\"\n",
        "    elif col == \"Budapest\":\n",
        "        return \"Hungary\"\n",
        "    else:\n",
        "        return \"Other\"\n",
        "\n",
        "\n",
        "# Applying this function\n",
        "df ['Host_Country'] = df['City'].apply(host_country)\n",
        "df.head()\n"
      ],
      "metadata": {
        "id": "CGa6CugwcSw3",
        "outputId": "17b571fc-ca86-4f8d-da9a-d0ce1c54fcd6",
        "colab": {
          "base_uri": "https://localhost:8080/",
          "height": 293
        }
      },
      "execution_count": null,
      "outputs": [
        {
          "output_type": "execute_result",
          "data": {
            "text/html": [
              "<div>\n",
              "<style scoped>\n",
              "    .dataframe tbody tr th:only-of-type {\n",
              "        vertical-align: middle;\n",
              "    }\n",
              "\n",
              "    .dataframe tbody tr th {\n",
              "        vertical-align: top;\n",
              "    }\n",
              "\n",
              "    .dataframe thead th {\n",
              "        text-align: right;\n",
              "    }\n",
              "</style>\n",
              "<table border=\"1\" class=\"dataframe\">\n",
              "  <thead>\n",
              "    <tr style=\"text-align: right;\">\n",
              "      <th></th>\n",
              "      <th>ID</th>\n",
              "      <th>Name</th>\n",
              "      <th>Sex</th>\n",
              "      <th>Age</th>\n",
              "      <th>Height</th>\n",
              "      <th>Weight</th>\n",
              "      <th>Team</th>\n",
              "      <th>NOC</th>\n",
              "      <th>Games</th>\n",
              "      <th>Year</th>\n",
              "      <th>Season</th>\n",
              "      <th>City</th>\n",
              "      <th>Sport</th>\n",
              "      <th>Event</th>\n",
              "      <th>Medal</th>\n",
              "      <th>region</th>\n",
              "      <th>notes</th>\n",
              "      <th>Host_Country</th>\n",
              "    </tr>\n",
              "  </thead>\n",
              "  <tbody>\n",
              "    <tr>\n",
              "      <th>0</th>\n",
              "      <td>1</td>\n",
              "      <td>A Dijiang</td>\n",
              "      <td>M</td>\n",
              "      <td>24.0</td>\n",
              "      <td>180.0</td>\n",
              "      <td>80.0</td>\n",
              "      <td>China</td>\n",
              "      <td>CHN</td>\n",
              "      <td>1992 Summer</td>\n",
              "      <td>1992</td>\n",
              "      <td>Summer</td>\n",
              "      <td>Barcelona</td>\n",
              "      <td>Basketball</td>\n",
              "      <td>Basketball Men's Basketball</td>\n",
              "      <td>NaN</td>\n",
              "      <td>China</td>\n",
              "      <td>NaN</td>\n",
              "      <td>Spain</td>\n",
              "    </tr>\n",
              "    <tr>\n",
              "      <th>1</th>\n",
              "      <td>2</td>\n",
              "      <td>A Lamusi</td>\n",
              "      <td>M</td>\n",
              "      <td>23.0</td>\n",
              "      <td>170.0</td>\n",
              "      <td>60.0</td>\n",
              "      <td>China</td>\n",
              "      <td>CHN</td>\n",
              "      <td>2012 Summer</td>\n",
              "      <td>2012</td>\n",
              "      <td>Summer</td>\n",
              "      <td>London</td>\n",
              "      <td>Judo</td>\n",
              "      <td>Judo Men's Extra-Lightweight</td>\n",
              "      <td>NaN</td>\n",
              "      <td>China</td>\n",
              "      <td>NaN</td>\n",
              "      <td>UK</td>\n",
              "    </tr>\n",
              "    <tr>\n",
              "      <th>2</th>\n",
              "      <td>602</td>\n",
              "      <td>Abudoureheman</td>\n",
              "      <td>M</td>\n",
              "      <td>22.0</td>\n",
              "      <td>182.0</td>\n",
              "      <td>75.0</td>\n",
              "      <td>China</td>\n",
              "      <td>CHN</td>\n",
              "      <td>2000 Summer</td>\n",
              "      <td>2000</td>\n",
              "      <td>Summer</td>\n",
              "      <td>Sydney</td>\n",
              "      <td>Boxing</td>\n",
              "      <td>Boxing Men's Middleweight</td>\n",
              "      <td>NaN</td>\n",
              "      <td>China</td>\n",
              "      <td>NaN</td>\n",
              "      <td>Australia</td>\n",
              "    </tr>\n",
              "    <tr>\n",
              "      <th>3</th>\n",
              "      <td>1463</td>\n",
              "      <td>Ai Linuer</td>\n",
              "      <td>M</td>\n",
              "      <td>25.0</td>\n",
              "      <td>160.0</td>\n",
              "      <td>62.0</td>\n",
              "      <td>China</td>\n",
              "      <td>CHN</td>\n",
              "      <td>2004 Summer</td>\n",
              "      <td>2004</td>\n",
              "      <td>Summer</td>\n",
              "      <td>Athina</td>\n",
              "      <td>Wrestling</td>\n",
              "      <td>Wrestling Men's Lightweight, Greco-Roman</td>\n",
              "      <td>NaN</td>\n",
              "      <td>China</td>\n",
              "      <td>NaN</td>\n",
              "      <td>Greece</td>\n",
              "    </tr>\n",
              "    <tr>\n",
              "      <th>4</th>\n",
              "      <td>1464</td>\n",
              "      <td>Ai Yanhan</td>\n",
              "      <td>F</td>\n",
              "      <td>14.0</td>\n",
              "      <td>168.0</td>\n",
              "      <td>54.0</td>\n",
              "      <td>China</td>\n",
              "      <td>CHN</td>\n",
              "      <td>2016 Summer</td>\n",
              "      <td>2016</td>\n",
              "      <td>Summer</td>\n",
              "      <td>Rio de Janeiro</td>\n",
              "      <td>Swimming</td>\n",
              "      <td>Swimming Women's 200 metres Freestyle</td>\n",
              "      <td>NaN</td>\n",
              "      <td>China</td>\n",
              "      <td>NaN</td>\n",
              "      <td>Brazil</td>\n",
              "    </tr>\n",
              "  </tbody>\n",
              "</table>\n",
              "</div>"
            ],
            "text/plain": [
              "     ID           Name Sex   Age  ...  Medal  region notes Host_Country\n",
              "0     1      A Dijiang   M  24.0  ...    NaN   China   NaN        Spain\n",
              "1     2       A Lamusi   M  23.0  ...    NaN   China   NaN           UK\n",
              "2   602  Abudoureheman   M  22.0  ...    NaN   China   NaN    Australia\n",
              "3  1463      Ai Linuer   M  25.0  ...    NaN   China   NaN       Greece\n",
              "4  1464      Ai Yanhan   F  14.0  ...    NaN   China   NaN       Brazil\n",
              "\n",
              "[5 rows x 18 columns]"
            ]
          },
          "metadata": {},
          "execution_count": 33
        }
      ]
    },
    {
      "cell_type": "code",
      "source": [
        "medals = df.groupby(['Year','Host_Country','region','Medal'])['Medal'].count().unstack().fillna(0).astype(int).reset_index()\n",
        "\n",
        "medals['Is_Host'] = np.where(medals['Host_Country'] == medals['region'],1,0)\n",
        "medals['Total Medals'] = medals['Bronze'] + medals['Silver'] + medals['Gold']\n",
        "medals"
      ],
      "metadata": {
        "id": "Gyndp-g3ciIc",
        "outputId": "c33c695d-c23f-4a2a-bcd5-3dd67a250587",
        "colab": {
          "base_uri": "https://localhost:8080/",
          "height": 423
        }
      },
      "execution_count": null,
      "outputs": [
        {
          "output_type": "execute_result",
          "data": {
            "text/html": [
              "<div>\n",
              "<style scoped>\n",
              "    .dataframe tbody tr th:only-of-type {\n",
              "        vertical-align: middle;\n",
              "    }\n",
              "\n",
              "    .dataframe tbody tr th {\n",
              "        vertical-align: top;\n",
              "    }\n",
              "\n",
              "    .dataframe thead th {\n",
              "        text-align: right;\n",
              "    }\n",
              "</style>\n",
              "<table border=\"1\" class=\"dataframe\">\n",
              "  <thead>\n",
              "    <tr style=\"text-align: right;\">\n",
              "      <th>Medal</th>\n",
              "      <th>Year</th>\n",
              "      <th>Host_Country</th>\n",
              "      <th>region</th>\n",
              "      <th>Bronze</th>\n",
              "      <th>Gold</th>\n",
              "      <th>Silver</th>\n",
              "      <th>Is_Host</th>\n",
              "      <th>Total Medals</th>\n",
              "    </tr>\n",
              "  </thead>\n",
              "  <tbody>\n",
              "    <tr>\n",
              "      <th>0</th>\n",
              "      <td>1896</td>\n",
              "      <td>Greece</td>\n",
              "      <td>Australia</td>\n",
              "      <td>1</td>\n",
              "      <td>2</td>\n",
              "      <td>0</td>\n",
              "      <td>0</td>\n",
              "      <td>3</td>\n",
              "    </tr>\n",
              "    <tr>\n",
              "      <th>1</th>\n",
              "      <td>1896</td>\n",
              "      <td>Greece</td>\n",
              "      <td>Austria</td>\n",
              "      <td>2</td>\n",
              "      <td>2</td>\n",
              "      <td>1</td>\n",
              "      <td>0</td>\n",
              "      <td>5</td>\n",
              "    </tr>\n",
              "    <tr>\n",
              "      <th>2</th>\n",
              "      <td>1896</td>\n",
              "      <td>Greece</td>\n",
              "      <td>Denmark</td>\n",
              "      <td>3</td>\n",
              "      <td>1</td>\n",
              "      <td>2</td>\n",
              "      <td>0</td>\n",
              "      <td>6</td>\n",
              "    </tr>\n",
              "    <tr>\n",
              "      <th>3</th>\n",
              "      <td>1896</td>\n",
              "      <td>Greece</td>\n",
              "      <td>France</td>\n",
              "      <td>2</td>\n",
              "      <td>5</td>\n",
              "      <td>4</td>\n",
              "      <td>0</td>\n",
              "      <td>11</td>\n",
              "    </tr>\n",
              "    <tr>\n",
              "      <th>4</th>\n",
              "      <td>1896</td>\n",
              "      <td>Greece</td>\n",
              "      <td>Germany</td>\n",
              "      <td>2</td>\n",
              "      <td>25</td>\n",
              "      <td>5</td>\n",
              "      <td>0</td>\n",
              "      <td>32</td>\n",
              "    </tr>\n",
              "    <tr>\n",
              "      <th>...</th>\n",
              "      <td>...</td>\n",
              "      <td>...</td>\n",
              "      <td>...</td>\n",
              "      <td>...</td>\n",
              "      <td>...</td>\n",
              "      <td>...</td>\n",
              "      <td>...</td>\n",
              "      <td>...</td>\n",
              "    </tr>\n",
              "    <tr>\n",
              "      <th>1641</th>\n",
              "      <td>2016</td>\n",
              "      <td>Brazil</td>\n",
              "      <td>Bahrain</td>\n",
              "      <td>0</td>\n",
              "      <td>1</td>\n",
              "      <td>1</td>\n",
              "      <td>0</td>\n",
              "      <td>2</td>\n",
              "    </tr>\n",
              "    <tr>\n",
              "      <th>1642</th>\n",
              "      <td>2016</td>\n",
              "      <td>Brazil</td>\n",
              "      <td>Grenada</td>\n",
              "      <td>0</td>\n",
              "      <td>0</td>\n",
              "      <td>1</td>\n",
              "      <td>0</td>\n",
              "      <td>1</td>\n",
              "    </tr>\n",
              "    <tr>\n",
              "      <th>1643</th>\n",
              "      <td>2016</td>\n",
              "      <td>Brazil</td>\n",
              "      <td>Fiji</td>\n",
              "      <td>0</td>\n",
              "      <td>13</td>\n",
              "      <td>0</td>\n",
              "      <td>0</td>\n",
              "      <td>13</td>\n",
              "    </tr>\n",
              "    <tr>\n",
              "      <th>1644</th>\n",
              "      <td>2016</td>\n",
              "      <td>Brazil</td>\n",
              "      <td>Jordan</td>\n",
              "      <td>0</td>\n",
              "      <td>1</td>\n",
              "      <td>0</td>\n",
              "      <td>0</td>\n",
              "      <td>1</td>\n",
              "    </tr>\n",
              "    <tr>\n",
              "      <th>1645</th>\n",
              "      <td>2016</td>\n",
              "      <td>Brazil</td>\n",
              "      <td>Kosovo</td>\n",
              "      <td>0</td>\n",
              "      <td>1</td>\n",
              "      <td>0</td>\n",
              "      <td>0</td>\n",
              "      <td>1</td>\n",
              "    </tr>\n",
              "  </tbody>\n",
              "</table>\n",
              "<p>1646 rows × 8 columns</p>\n",
              "</div>"
            ],
            "text/plain": [
              "Medal  Year Host_Country     region  ...  Silver  Is_Host  Total Medals\n",
              "0      1896       Greece  Australia  ...       0        0             3\n",
              "1      1896       Greece    Austria  ...       1        0             5\n",
              "2      1896       Greece    Denmark  ...       2        0             6\n",
              "3      1896       Greece     France  ...       4        0            11\n",
              "4      1896       Greece    Germany  ...       5        0            32\n",
              "...     ...          ...        ...  ...     ...      ...           ...\n",
              "1641   2016       Brazil    Bahrain  ...       1        0             2\n",
              "1642   2016       Brazil    Grenada  ...       1        0             1\n",
              "1643   2016       Brazil       Fiji  ...       0        0            13\n",
              "1644   2016       Brazil     Jordan  ...       0        0             1\n",
              "1645   2016       Brazil     Kosovo  ...       0        0             1\n",
              "\n",
              "[1646 rows x 8 columns]"
            ]
          },
          "metadata": {},
          "execution_count": 104
        }
      ]
    },
    {
      "cell_type": "code",
      "source": [
        "import matplotlib.pyplot as plt\n",
        "\n",
        "fig, ax = plt.subplots(1,1, figsize=(11, 5))\n",
        "\n",
        "\n",
        "# top 7\n",
        "top_list_ = medals.groupby('region')['Total Medals'].mean().sort_values(ascending=False).reset_index()[:7].sort_values(by='Total Medals',ascending=True)\n",
        "\n",
        "plot = 1\n",
        "for country in top_list_['region']:\n",
        "    mean = medals[medals['region'] == country].groupby('region')['Total Medals'].mean()\n",
        "\n",
        "    # historic scores\n",
        "    sns.scatterplot(data=medals[medals['region'] == country], y=plot, x='Total Medals',color='lightgray',s=50,ax=ax)\n",
        "\n",
        "    # mean score\n",
        "    sns.scatterplot(data=medals[medals['region'] == country], y=plot, x=mean,color='#0000c0',ec='black',linewidth=1,s=75,ax=ax)\n",
        "    \n",
        "    # Hosting score\n",
        "    sns.scatterplot(data=(medals[(medals['region'] == country) & (medals['Is_Host'] == 1)]), y=plot, x='Total Medals',color='#B73832',ec='black',linewidth=1,s=75,ax=ax)   \n",
        "    plot += 1\n",
        "\n",
        "Xstart, Xend = ax.get_xlim()\n",
        "Ystart, Yend = ax.get_ylim()\n",
        "\n",
        "ax.set_yticks(top_list_.index+1)\n",
        "ax.set_yticklabels(top_list_['region'][::-1], fontdict={'horizontalalignment': 'right'}, alpha=0.7)\n",
        "ax.tick_params(axis=u'both', which=u'both',length=0)\n",
        "ax.set_xlabel(\"Total Medals\",fontfamily='monospace',color='gray')\n",
        "\n",
        "ax.hlines(y=top_list_.index+1, xmin=0, xmax=Xend, color='gray', alpha=0.5, linewidth=.3, linestyles='--')\n",
        "ax.set_axisbelow(True)\n",
        "\n",
        "\n",
        "\n",
        "\n",
        "ax.text(0,Yend+3.5, 'Olympic Medals by Country: Hosts through the years', fontsize=15,fontweight='bold',color='#323232')\n",
        "ax.text(0,Yend+2.1, 'Hosting represented by the color red', fontsize=10,fontweight='bold',color='#B73832')\n",
        "ax.text(0,Yend+1, 'Average represented by the blue', fontsize=10,fontweight='bold',color='#0c005f')\n",
        "\n",
        "\n",
        "plt.show()\n",
        "\n"
      ],
      "metadata": {
        "id": "sIeImWZ0cok9",
        "outputId": "9f9bebbc-9625-4f15-e836-71af1fda059e",
        "colab": {
          "base_uri": "https://localhost:8080/",
          "height": 486
        }
      },
      "execution_count": null,
      "outputs": [
        {
          "output_type": "display_data",
          "data": {
            "image/png": "[encoded data removed]",
            "text/plain": [
              "<Figure size 792x360 with 1 Axes>"
            ]
          },
          "metadata": {
            "needs_background": "light"
          }
        }
      ]
    },
    {
      "cell_type": "code",
      "source": [
        ""
      ],
      "metadata": {
        "id": "D2sDcmxUdSMY"
      },
      "execution_count": null,
      "outputs": []
    },
    {
      "cell_type": "code",
      "source": [
        "tennis = Olympics_data_cleaned[Olympics_data_cleaned['Sport'] == 'Tennis']\n",
        "\n",
        "tennis = tennis[tennis.Medal.notnull()]\n",
        "gold = tennis[tennis.Medal == 'Gold']\n",
        "gold.mean()\n",
        "# age gender medals"
      ],
      "metadata": {
        "id": "RFpzGPGWfDui",
        "outputId": "ebb68370-2b0b-464a-898d-7988a8bcbef0",
        "colab": {
          "base_uri": "https://localhost:8080/"
        }
      },
      "execution_count": null,
      "outputs": [
        {
          "output_type": "execute_result",
          "data": {
            "text/plain": [
              "ID        69287.639175\n",
              "Age          26.916667\n",
              "Height      181.356816\n",
              "Weight       74.015472\n",
              "Year       1951.835052\n",
              "notes              NaN\n",
              "dtype: float64"
            ]
          },
          "metadata": {},
          "execution_count": 36
        }
      ]
    },
    {
      "cell_type": "code",
      "source": [
        "not_host = medals[medals['Is_Host'] == 0]\n",
        "host = medals[medals['Is_Host'] == 1]\n",
        "\n",
        "sns.scatterplot(x = not_host['Year'] , y = not_host['Total Medals'])\n",
        "sns.scatterplot( x = host['Year'] , y = host['Total Medals'])\n"
      ],
      "metadata": {
        "id": "kMWcBjqWfXer",
        "outputId": "e0bdfd33-7403-4d6f-a591-959c822afe85",
        "colab": {
          "base_uri": "https://localhost:8080/",
          "height": 296
        }
      },
      "execution_count": null,
      "outputs": [
        {
          "output_type": "execute_result",
          "data": {
            "text/plain": [
              "<matplotlib.axes._subplots.AxesSubplot at 0x7fea329962d0>"
            ]
          },
          "metadata": {},
          "execution_count": 37
        },
        {
          "output_type": "display_data",
          "data": {
            "image/png": "[encoded data removed]",
            "text/plain": [
              "<Figure size 432x288 with 1 Axes>"
            ]
          },
          "metadata": {
            "needs_background": "light"
          }
        }
      ]
    },
    {
      "cell_type": "code",
      "source": [
        "host_list = list(medals.query(\"Is_Host == 1\")['Host_Country'].value_counts().index)\n",
        "\n",
        "medals['Total_Medals_NaturalLog'] = np.log(medals['Total Medals'])\n",
        "\n",
        "Not_hosting_samples = medals[medals['region'].isin(host_list)].query(\"Is_Host == 0\")['Total_Medals_NaturalLog'].count()\n",
        "hosting_samples = medals[medals['region'].isin(host_list)].query(\"Is_Host == 1\")['Total_Medals_NaturalLog'].count()\n",
        "\n",
        "Not_hosting_mean = medals[medals['region'].isin(host_list)].query(\"Is_Host == 0\")['Total_Medals_NaturalLog'].mean()\n",
        "hosting_mean = medals[medals['region'].isin(host_list)].query(\"Is_Host == 1\")['Total_Medals_NaturalLog'].mean()\n",
        "\n",
        "Not_hosting_std = medals[medals['region'].isin(host_list)].query(\"Is_Host == 0\")['Total_Medals_NaturalLog'].std()\n",
        "hosting_std = medals[medals['region'].isin(host_list)].query(\"Is_Host == 1\")['Total_Medals_NaturalLog'].std()"
      ],
      "metadata": {
        "id": "gCF7wy4_vJDM"
      },
      "execution_count": null,
      "outputs": []
    },
    {
      "cell_type": "code",
      "source": [
        "fig, ax = plt.subplots(1,1, figsize=(18,6))\n",
        "sns.kdeplot(data=medals[medals['region'].isin(host_list)].query(\"Is_Host == 1\"), x='Total_Medals_NaturalLog',shade=True,color='#B73832',alpha=0.9, ax=ax)\n",
        "sns.kdeplot(data=medals[medals['region'].isin(host_list)].query(\"Is_Host == 0\"), x='Total_Medals_NaturalLog', shade=True, color='#244747',alpha=0.7, ax=ax)\n",
        "\n",
        "\n",
        "\n",
        "\n",
        "\n",
        "for s in ['top','left', 'bottom', 'right']:\n",
        "    ax.spines[s].set_visible(False)\n",
        "    \n",
        "ax.set_xlabel(\"Natural Log of Total Medals\",fontfamily='monospace',color='gray')\n",
        "ax.get_yaxis().set_visible(False)\n",
        "ax.tick_params(axis = 'both', which = 'major', labelsize = 10)\n",
        "\n",
        "ax.tick_params(axis='both', which='both',left=False, bottom=False,labelbottom=True) \n",
        "\n",
        "\n",
        "Xstart, Xend = ax.get_xlim()\n",
        "Ystart, Yend = ax.get_ylim()\n",
        "\n",
        "ax.text(Xstart,Yend, 'Comparing Means when Hosting & Not Hosting', fontsize=15,fontweight='bold',fontfamily='serif',color='#323232')\n",
        "ax.text(Xstart,Yend-0.02, 'Hosting', fontsize=10,fontweight='bold',fontfamily='sansserif',color='#B73832')\n",
        "\n",
        "\n",
        "\n",
        "plt.show()"
      ],
      "metadata": {
        "id": "HUWnbaqtfw8B",
        "outputId": "1797828d-a346-4dc8-de92-3c577e77c2df",
        "colab": {
          "base_uri": "https://localhost:8080/",
          "height": 416
        }
      },
      "execution_count": null,
      "outputs": [
        {
          "output_type": "stream",
          "name": "stderr",
          "text": [
            "findfont: Font family ['sansserif'] not found. Falling back to DejaVu Sans.\n"
          ]
        },
        {
          "output_type": "display_data",
          "data": {
            "image/png": "[encoded data removed]",
            "text/plain": [
              "<Figure size 1296x432 with 1 Axes>"
            ]
          },
          "metadata": {
            "needs_background": "light"
          }
        }
      ]
    },
    {
      "cell_type": "code",
      "source": [
        ""
      ],
      "metadata": {
        "id": "RY9KEQ4AtH_X"
      },
      "execution_count": null,
      "outputs": []
    },
    {
      "cell_type": "code",
      "source": [
        ""
      ],
      "metadata": {
        "colab": {
          "base_uri": "https://localhost:8080/",
          "height": 423
        },
        "id": "GCpOioW0mIWg",
        "outputId": "9c2a88b5-4539-43c3-9888-50278558f5f8"
      },
      "execution_count": null,
      "outputs": [
        {
          "output_type": "execute_result",
          "data": {
            "text/html": [
              "<div>\n",
              "<style scoped>\n",
              "    .dataframe tbody tr th:only-of-type {\n",
              "        vertical-align: middle;\n",
              "    }\n",
              "\n",
              "    .dataframe tbody tr th {\n",
              "        vertical-align: top;\n",
              "    }\n",
              "\n",
              "    .dataframe thead th {\n",
              "        text-align: right;\n",
              "    }\n",
              "</style>\n",
              "<table border=\"1\" class=\"dataframe\">\n",
              "  <thead>\n",
              "    <tr style=\"text-align: right;\">\n",
              "      <th>Medal</th>\n",
              "      <th>Year</th>\n",
              "      <th>region</th>\n",
              "      <th>Sport</th>\n",
              "      <th>Bronze</th>\n",
              "      <th>Gold</th>\n",
              "      <th>Silver</th>\n",
              "      <th>Total Medals</th>\n",
              "    </tr>\n",
              "  </thead>\n",
              "  <tbody>\n",
              "    <tr>\n",
              "      <th>0</th>\n",
              "      <td>1896</td>\n",
              "      <td>Australia</td>\n",
              "      <td>Athletics</td>\n",
              "      <td>0</td>\n",
              "      <td>2</td>\n",
              "      <td>0</td>\n",
              "      <td>2</td>\n",
              "    </tr>\n",
              "    <tr>\n",
              "      <th>1</th>\n",
              "      <td>1896</td>\n",
              "      <td>Australia</td>\n",
              "      <td>Tennis</td>\n",
              "      <td>1</td>\n",
              "      <td>0</td>\n",
              "      <td>0</td>\n",
              "      <td>1</td>\n",
              "    </tr>\n",
              "    <tr>\n",
              "      <th>2</th>\n",
              "      <td>1896</td>\n",
              "      <td>Austria</td>\n",
              "      <td>Cycling</td>\n",
              "      <td>2</td>\n",
              "      <td>1</td>\n",
              "      <td>0</td>\n",
              "      <td>3</td>\n",
              "    </tr>\n",
              "    <tr>\n",
              "      <th>3</th>\n",
              "      <td>1896</td>\n",
              "      <td>Austria</td>\n",
              "      <td>Swimming</td>\n",
              "      <td>0</td>\n",
              "      <td>1</td>\n",
              "      <td>1</td>\n",
              "      <td>2</td>\n",
              "    </tr>\n",
              "    <tr>\n",
              "      <th>4</th>\n",
              "      <td>1896</td>\n",
              "      <td>Denmark</td>\n",
              "      <td>Fencing</td>\n",
              "      <td>1</td>\n",
              "      <td>0</td>\n",
              "      <td>0</td>\n",
              "      <td>1</td>\n",
              "    </tr>\n",
              "    <tr>\n",
              "      <th>...</th>\n",
              "      <td>...</td>\n",
              "      <td>...</td>\n",
              "      <td>...</td>\n",
              "      <td>...</td>\n",
              "      <td>...</td>\n",
              "      <td>...</td>\n",
              "      <td>...</td>\n",
              "    </tr>\n",
              "    <tr>\n",
              "      <th>6502</th>\n",
              "      <td>2016</td>\n",
              "      <td>Bahrain</td>\n",
              "      <td>Athletics</td>\n",
              "      <td>0</td>\n",
              "      <td>1</td>\n",
              "      <td>1</td>\n",
              "      <td>2</td>\n",
              "    </tr>\n",
              "    <tr>\n",
              "      <th>6503</th>\n",
              "      <td>2016</td>\n",
              "      <td>Grenada</td>\n",
              "      <td>Athletics</td>\n",
              "      <td>0</td>\n",
              "      <td>0</td>\n",
              "      <td>1</td>\n",
              "      <td>1</td>\n",
              "    </tr>\n",
              "    <tr>\n",
              "      <th>6504</th>\n",
              "      <td>2016</td>\n",
              "      <td>Fiji</td>\n",
              "      <td>Rugby Sevens</td>\n",
              "      <td>0</td>\n",
              "      <td>5</td>\n",
              "      <td>0</td>\n",
              "      <td>5</td>\n",
              "    </tr>\n",
              "    <tr>\n",
              "      <th>6505</th>\n",
              "      <td>2016</td>\n",
              "      <td>Jordan</td>\n",
              "      <td>Taekwondo</td>\n",
              "      <td>0</td>\n",
              "      <td>1</td>\n",
              "      <td>0</td>\n",
              "      <td>1</td>\n",
              "    </tr>\n",
              "    <tr>\n",
              "      <th>6506</th>\n",
              "      <td>2016</td>\n",
              "      <td>Kosovo</td>\n",
              "      <td>Judo</td>\n",
              "      <td>0</td>\n",
              "      <td>1</td>\n",
              "      <td>0</td>\n",
              "      <td>1</td>\n",
              "    </tr>\n",
              "  </tbody>\n",
              "</table>\n",
              "<p>6507 rows × 7 columns</p>\n",
              "</div>"
            ],
            "text/plain": [
              "Medal  Year     region         Sport  Bronze  Gold  Silver  Total Medals\n",
              "0      1896  Australia     Athletics       0     2       0             2\n",
              "1      1896  Australia        Tennis       1     0       0             1\n",
              "2      1896    Austria       Cycling       2     1       0             3\n",
              "3      1896    Austria      Swimming       0     1       1             2\n",
              "4      1896    Denmark       Fencing       1     0       0             1\n",
              "...     ...        ...           ...     ...   ...     ...           ...\n",
              "6502   2016    Bahrain     Athletics       0     1       1             2\n",
              "6503   2016    Grenada     Athletics       0     0       1             1\n",
              "6504   2016       Fiji  Rugby Sevens       0     5       0             5\n",
              "6505   2016     Jordan     Taekwondo       0     1       0             1\n",
              "6506   2016     Kosovo          Judo       0     1       0             1\n",
              "\n",
              "[6507 rows x 7 columns]"
            ]
          },
          "metadata": {},
          "execution_count": 145
        }
      ]
    },
    {
      "cell_type": "code",
      "source": [
        "gold = Olympics_data_cleaned[Olympics_data_cleaned['Medal']=='Gold']\n",
        "grouped = gold.sort_values(by=['Year']).groupby(['region']).first()\n",
        "grouped"
      ],
      "metadata": {
        "colab": {
          "base_uri": "https://localhost:8080/",
          "height": 200
        },
        "id": "gp3cBZRWwZEf",
        "outputId": "62887a8d-2472-47ea-bfc3-f035e57b7760"
      },
      "execution_count": 1,
      "outputs": [
        {
          "output_type": "error",
          "ename": "NameError",
          "evalue": "ignored",
          "traceback": [
            "\u001b[0;31m---------------------------------------------------------------------------\u001b[0m",
            "\u001b[0;31mNameError\u001b[0m                                 Traceback (most recent call last)",
            "\u001b[0;32m<ipython-input-1-ba84f11d2452>\u001b[0m in \u001b[0;36m<module>\u001b[0;34m()\u001b[0m\n\u001b[0;32m----> 1\u001b[0;31m \u001b[0mgold\u001b[0m \u001b[0;34m=\u001b[0m \u001b[0mOlympics_data_cleaned\u001b[0m\u001b[0;34m[\u001b[0m\u001b[0mOlympics_data_cleaned\u001b[0m\u001b[0;34m[\u001b[0m\u001b[0;34m'Medal'\u001b[0m\u001b[0;34m]\u001b[0m\u001b[0;34m==\u001b[0m\u001b[0;34m'Gold'\u001b[0m\u001b[0;34m]\u001b[0m\u001b[0;34m\u001b[0m\u001b[0;34m\u001b[0m\u001b[0m\n\u001b[0m\u001b[1;32m      2\u001b[0m \u001b[0mgrouped\u001b[0m \u001b[0;34m=\u001b[0m \u001b[0mgold\u001b[0m\u001b[0;34m.\u001b[0m\u001b[0msort_values\u001b[0m\u001b[0;34m(\u001b[0m\u001b[0mby\u001b[0m\u001b[0;34m=\u001b[0m\u001b[0;34m[\u001b[0m\u001b[0;34m'Year'\u001b[0m\u001b[0;34m]\u001b[0m\u001b[0;34m)\u001b[0m\u001b[0;34m.\u001b[0m\u001b[0mgroupby\u001b[0m\u001b[0;34m(\u001b[0m\u001b[0;34m[\u001b[0m\u001b[0;34m'region'\u001b[0m\u001b[0;34m]\u001b[0m\u001b[0;34m)\u001b[0m\u001b[0;34m.\u001b[0m\u001b[0mfirst\u001b[0m\u001b[0;34m(\u001b[0m\u001b[0;34m)\u001b[0m\u001b[0;34m\u001b[0m\u001b[0;34m\u001b[0m\u001b[0m\n\u001b[1;32m      3\u001b[0m \u001b[0mgrouped\u001b[0m\u001b[0;34m\u001b[0m\u001b[0;34m\u001b[0m\u001b[0m\n",
            "\u001b[0;31mNameError\u001b[0m: name 'Olympics_data_cleaned' is not defined"
          ]
        }
      ]
    },
    {
      "cell_type": "code",
      "source": [
        "total = [host, not_host]\n",
        "total_m = pd.concat(total)\n",
        "\n",
        "first_gold_japan = grouped[grouped.index == 'Japan'].Year.values[0]\n",
        "\n",
        "\n",
        "before_gold_japan = total_m[total_m['Year'] < first_gold_japan] \n",
        "after_gold_japan = total_m[total_m['Year'] > first_gold_japan] \n",
        "\n",
        "sns.lineplot(x=\"Year\", y=\"Total Medals\",data=before_gold_japan)\n",
        "sns.lineplot(x=\"Year\", y=\"Total Medals\",data=after_gold_japan)"
      ],
      "metadata": {
        "colab": {
          "base_uri": "https://localhost:8080/",
          "height": 302
        },
        "id": "tZseHapht1c6",
        "outputId": "ffdf0f33-524b-4c00-99f5-da4882d4611f"
      },
      "execution_count": null,
      "outputs": [
        {
          "output_type": "execute_result",
          "data": {
            "text/plain": [
              "<matplotlib.axes._subplots.AxesSubplot at 0x7fea2305efd0>"
            ]
          },
          "metadata": {},
          "execution_count": 218
        },
        {
          "output_type": "display_data",
          "data": {
            "image/png": "[encoded data removed]",
            "text/plain": [
              "<Figure size 432x288 with 1 Axes>"
            ]
          },
          "metadata": {}
        }
      ]
    },
    {
      "cell_type": "code",
      "source": [
        "first_gold_Egypt = grouped[grouped.index == 'Egypt'].Year.values[0]\n",
        "\n",
        "\n",
        "before_gold_Egypt = total_m[total_m['Year'] < first_gold_Egypt] \n",
        "after_gold_Egypt = total_m[total_m['Year'] > first_gold_Egypt] \n",
        "\n",
        "sns.lineplot(x=\"Year\", y=\"Total Medals\",data=before_gold_Egypt)\n",
        "sns.lineplot(x=\"Year\", y=\"Total Medals\",data=after_gold_Egypt)"
      ],
      "metadata": {
        "colab": {
          "base_uri": "https://localhost:8080/",
          "height": 302
        },
        "id": "hGJBAEGvwO4m",
        "outputId": "b3b2f88b-fa3e-4c47-c1f4-e3ce4d362074"
      },
      "execution_count": null,
      "outputs": [
        {
          "output_type": "execute_result",
          "data": {
            "text/plain": [
              "<matplotlib.axes._subplots.AxesSubplot at 0x7fea21b64210>"
            ]
          },
          "metadata": {},
          "execution_count": 219
        },
        {
          "output_type": "display_data",
          "data": {
            "image/png": "[encoded data removed]",
            "text/plain": [
              "<Figure size 432x288 with 1 Axes>"
            ]
          },
          "metadata": {}
        }
      ]
    },
    {
      "cell_type": "code",
      "source": [
        "first_gold_China = grouped[grouped.index == 'China'].Year.values[0]\n",
        "\n",
        "\n",
        "before_gold_China = total_m[total_m['Year'] < first_gold_China] \n",
        "after_gold_China = total_m[total_m['Year'] > first_gold_China] \n",
        "\n",
        "sns.lineplot(x=\"Year\", y=\"Total Medals\",data=before_gold_China)\n",
        "sns.lineplot(x=\"Year\", y=\"Total Medals\",data=after_gold_China)"
      ],
      "metadata": {
        "colab": {
          "base_uri": "https://localhost:8080/",
          "height": 302
        },
        "id": "kxX8WXB5fyA-",
        "outputId": "fde11d9b-a2ce-4fb9-cf4a-18eb51b1b07b"
      },
      "execution_count": null,
      "outputs": [
        {
          "output_type": "execute_result",
          "data": {
            "text/plain": [
              "<matplotlib.axes._subplots.AxesSubplot at 0x7fea21d65090>"
            ]
          },
          "metadata": {},
          "execution_count": 225
        },
        {
          "output_type": "display_data",
          "data": {
            "image/png": "[encoded data removed]",
            "text/plain": [
              "<Figure size 432x288 with 1 Axes>"
            ]
          },
          "metadata": {}
        }
      ]
    },
    {
      "cell_type": "code",
      "source": [
        "first_gold_Germany = grouped[grouped.index == 'Germany'].Year.values[0]\n",
        "\n",
        "\n",
        "before_gold_Germany = total_m[total_m['Year'] < first_gold_Germany] \n",
        "after_gold_Germany = total_m[total_m['Year'] > first_gold_Germany] \n",
        "\n",
        "sns.lineplot(x=\"Year\", y=\"Total Medals\",data=before_gold_Germany)\n",
        "sns.lineplot(x=\"Year\", y=\"Total Medals\",data=after_gold_Germany)"
      ],
      "metadata": {
        "id": "_duoR6QKgI-2",
        "outputId": "6dc628a9-8005-4301-ec6a-6fc8077637b3",
        "colab": {
          "base_uri": "https://localhost:8080/",
          "height": 302
        }
      },
      "execution_count": null,
      "outputs": [
        {
          "output_type": "execute_result",
          "data": {
            "text/plain": [
              "<matplotlib.axes._subplots.AxesSubplot at 0x7fea21cbc450>"
            ]
          },
          "metadata": {},
          "execution_count": 226
        },
        {
          "output_type": "display_data",
          "data": {
            "image/png": "[encoded data removed]",
            "text/plain": [
              "<Figure size 432x288 with 1 Axes>"
            ]
          },
          "metadata": {}
        }
      ]
    },
    {
      "cell_type": "code",
      "source": [
        ""
      ],
      "metadata": {
        "id": "7K44Khy8hC6X"
      },
      "execution_count": null,
      "outputs": []
    }
  ]
}